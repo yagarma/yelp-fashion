{
 "cells": [
  {
   "cell_type": "code",
   "execution_count": null,
   "metadata": {},
   "outputs": [],
   "source": []
  },
  {
   "cell_type": "code",
   "execution_count": 1,
   "metadata": {},
   "outputs": [],
   "source": [
    "# for reading files\n",
    "import os\n",
    "import re\n",
    "\n",
    "# for dataframes \n",
    "import numpy as np\n",
    "import pandas as pd\n",
    "\n",
    "# For graphs\n",
    "from matplotlib import pyplot as plt\n",
    "import seaborn as sns\n",
    "sns.set()\n"
   ]
  },
  {
   "cell_type": "markdown",
   "metadata": {},
   "source": [
    "# Reading data (1st part)"
   ]
  },
  {
   "cell_type": "code",
   "execution_count": 2,
   "metadata": {},
   "outputs": [],
   "source": [
    "root = \"F:\\\\Yelp\\\\data\""
   ]
  },
  {
   "cell_type": "code",
   "execution_count": 3,
   "metadata": {},
   "outputs": [
    {
     "name": "stdout",
     "output_type": "stream",
     "text": [
      "files: ['F:\\\\Yelp\\\\data\\\\photos.json', 'F:\\\\Yelp\\\\data\\\\yelp_academic_dataset_business.json', 'F:\\\\Yelp\\\\data\\\\yelp_academic_dataset_checkin.json', 'F:\\\\Yelp\\\\data\\\\yelp_academic_dataset_covid.json', 'F:\\\\Yelp\\\\data\\\\yelp_academic_dataset_tip.json']\n"
     ]
    }
   ],
   "source": [
    "file_names = []\n",
    "for folder,subfolders,filenames in os.walk(root):\n",
    "    for file in filenames:\n",
    "        file_names.append(folder + '\\\\' + file)\n",
    "print('files:', file_names)"
   ]
  },
  {
   "cell_type": "code",
   "execution_count": 6,
   "metadata": {},
   "outputs": [],
   "source": [
    "df_names = []\n",
    "for item in file_names:\n",
    "    item = re.findall(r\"[\\w']+\", item)\n",
    "    df_names.append(item[-2].split('_')[-1])"
   ]
  },
  {
   "cell_type": "code",
   "execution_count": null,
   "metadata": {},
   "outputs": [],
   "source": []
  },
  {
   "cell_type": "code",
   "execution_count": 7,
   "metadata": {},
   "outputs": [
    {
     "name": "stdout",
     "output_type": "stream",
     "text": [
      "DataFrame 'df_photos' is ready\n",
      "DataFrame 'df_business' is ready\n",
      "DataFrame 'df_checkin' is ready\n",
      "DataFrame 'df_covid' is ready\n",
      "DataFrame 'df_tip' is ready\n"
     ]
    }
   ],
   "source": [
    "for item, df_name in zip(file_names, df_names):\n",
    "    exec('{} = pd.read_json(\"{}\", lines=True)'.format(\"df_\"+df_name,item))\n",
    "    print(f\"DataFrame '{'df_'+df_name}' is ready\")"
   ]
  },
  {
   "cell_type": "code",
   "execution_count": 6,
   "metadata": {},
   "outputs": [
    {
     "name": "stdout",
     "output_type": "stream",
     "text": [
      "df_photos\n"
     ]
    },
    {
     "data": {
      "text/html": [
       "<div>\n",
       "<style scoped>\n",
       "    .dataframe tbody tr th:only-of-type {\n",
       "        vertical-align: middle;\n",
       "    }\n",
       "\n",
       "    .dataframe tbody tr th {\n",
       "        vertical-align: top;\n",
       "    }\n",
       "\n",
       "    .dataframe thead th {\n",
       "        text-align: right;\n",
       "    }\n",
       "</style>\n",
       "<table border=\"1\" class=\"dataframe\">\n",
       "  <thead>\n",
       "    <tr style=\"text-align: right;\">\n",
       "      <th></th>\n",
       "      <th>business_id</th>\n",
       "      <th>caption</th>\n",
       "      <th>label</th>\n",
       "      <th>photo_id</th>\n",
       "    </tr>\n",
       "  </thead>\n",
       "  <tbody>\n",
       "    <tr>\n",
       "      <th>58303</th>\n",
       "      <td>ikI3t6meCr4_DpHHZs6N2w</td>\n",
       "      <td></td>\n",
       "      <td>food</td>\n",
       "      <td>e3_9igtxKOJoH8FKmoiplg</td>\n",
       "    </tr>\n",
       "    <tr>\n",
       "      <th>172241</th>\n",
       "      <td>v68-_x0b4YUWRFRu8x193g</td>\n",
       "      <td></td>\n",
       "      <td>inside</td>\n",
       "      <td>_vqcpUxZvufBD5kV2m_8rw</td>\n",
       "    </tr>\n",
       "    <tr>\n",
       "      <th>154322</th>\n",
       "      <td>gCQscFW3aVBNE-PehZ13ew</td>\n",
       "      <td></td>\n",
       "      <td>food</td>\n",
       "      <td>SXLW3876Sawg4gSfpY4_gw</td>\n",
       "    </tr>\n",
       "    <tr>\n",
       "      <th>163298</th>\n",
       "      <td>WnLhd38sH80ViWwzyF7yoA</td>\n",
       "      <td></td>\n",
       "      <td>outside</td>\n",
       "      <td>ueTg-Z0ueaxZO9M8s_cFwQ</td>\n",
       "    </tr>\n",
       "  </tbody>\n",
       "</table>\n",
       "</div>"
      ],
      "text/plain": [
       "                   business_id caption    label                photo_id\n",
       "58303   ikI3t6meCr4_DpHHZs6N2w             food  e3_9igtxKOJoH8FKmoiplg\n",
       "172241  v68-_x0b4YUWRFRu8x193g           inside  _vqcpUxZvufBD5kV2m_8rw\n",
       "154322  gCQscFW3aVBNE-PehZ13ew             food  SXLW3876Sawg4gSfpY4_gw\n",
       "163298  WnLhd38sH80ViWwzyF7yoA          outside  ueTg-Z0ueaxZO9M8s_cFwQ"
      ]
     },
     "execution_count": 6,
     "metadata": {},
     "output_type": "execute_result"
    },
    {
     "name": "stdout",
     "output_type": "stream",
     "text": [
      "======================================================================================================================================================\n",
      "df_business\n"
     ]
    },
    {
     "data": {
      "text/html": [
       "<div>\n",
       "<style scoped>\n",
       "    .dataframe tbody tr th:only-of-type {\n",
       "        vertical-align: middle;\n",
       "    }\n",
       "\n",
       "    .dataframe tbody tr th {\n",
       "        vertical-align: top;\n",
       "    }\n",
       "\n",
       "    .dataframe thead th {\n",
       "        text-align: right;\n",
       "    }\n",
       "</style>\n",
       "<table border=\"1\" class=\"dataframe\">\n",
       "  <thead>\n",
       "    <tr style=\"text-align: right;\">\n",
       "      <th></th>\n",
       "      <th>address</th>\n",
       "      <th>attributes</th>\n",
       "      <th>business_id</th>\n",
       "      <th>categories</th>\n",
       "      <th>city</th>\n",
       "      <th>hours</th>\n",
       "      <th>is_open</th>\n",
       "      <th>latitude</th>\n",
       "      <th>longitude</th>\n",
       "      <th>name</th>\n",
       "      <th>postal_code</th>\n",
       "      <th>review_count</th>\n",
       "      <th>stars</th>\n",
       "      <th>state</th>\n",
       "    </tr>\n",
       "  </thead>\n",
       "  <tbody>\n",
       "    <tr>\n",
       "      <th>94506</th>\n",
       "      <td>4021 Butler St</td>\n",
       "      <td>{'BestNights': '{'monday': False, 'tuesday': F...</td>\n",
       "      <td>qGdqYJE05NLjMIq--M4Xpg</td>\n",
       "      <td>Nightlife, Arts &amp; Entertainment, Music Venues,...</td>\n",
       "      <td>Pittsburgh</td>\n",
       "      <td>None</td>\n",
       "      <td>1</td>\n",
       "      <td>40.469363</td>\n",
       "      <td>-79.961714</td>\n",
       "      <td>Thunderbird Cafe</td>\n",
       "      <td>15201</td>\n",
       "      <td>8</td>\n",
       "      <td>5.0</td>\n",
       "      <td>PA</td>\n",
       "    </tr>\n",
       "    <tr>\n",
       "      <th>63126</th>\n",
       "      <td>174 Spadina Avenue, Suite 103</td>\n",
       "      <td>{'RestaurantsPriceRange2': '2', 'GoodForKids':...</td>\n",
       "      <td>LvHy56RXx1-btjILQ_RlxA</td>\n",
       "      <td>Active Life, Fitness &amp; Instruction, Beauty &amp; S...</td>\n",
       "      <td>Toronto</td>\n",
       "      <td>{'Monday': '10:0-22:0', 'Tuesday': '10:0-22:0'...</td>\n",
       "      <td>1</td>\n",
       "      <td>43.649274</td>\n",
       "      <td>-79.397229</td>\n",
       "      <td>Atinama Massage Therapy</td>\n",
       "      <td>M5T 2C2</td>\n",
       "      <td>10</td>\n",
       "      <td>5.0</td>\n",
       "      <td>ON</td>\n",
       "    </tr>\n",
       "    <tr>\n",
       "      <th>78945</th>\n",
       "      <td>3042 Senna Dr, Ste C</td>\n",
       "      <td>{'AcceptsInsurance': 'True', 'BusinessAcceptsC...</td>\n",
       "      <td>V8yKpAcC3nlHPDgZue-OZw</td>\n",
       "      <td>Lice Services, Health &amp; Medical</td>\n",
       "      <td>Matthews</td>\n",
       "      <td>{'Monday': '0:0-0:0', 'Tuesday': '10:0-19:0', ...</td>\n",
       "      <td>1</td>\n",
       "      <td>35.123160</td>\n",
       "      <td>-80.693410</td>\n",
       "      <td>Lice Clinics of America - South Charlotte</td>\n",
       "      <td>28105</td>\n",
       "      <td>3</td>\n",
       "      <td>5.0</td>\n",
       "      <td>NC</td>\n",
       "    </tr>\n",
       "    <tr>\n",
       "      <th>117823</th>\n",
       "      <td>2350 Noblestown Rd, Ste 13</td>\n",
       "      <td>{'OutdoorSeating': 'False', 'NoiseLevel': ''av...</td>\n",
       "      <td>aSDQk0wjskLdQRFg2TBt_A</td>\n",
       "      <td>Breakfast &amp; Brunch, Restaurants, Sandwiches, B...</td>\n",
       "      <td>Pittsburgh</td>\n",
       "      <td>{'Monday': '6:0-14:30', 'Tuesday': '6:0-14:30'...</td>\n",
       "      <td>1</td>\n",
       "      <td>40.427616</td>\n",
       "      <td>-80.055501</td>\n",
       "      <td>Eggs-R-Us</td>\n",
       "      <td>15205</td>\n",
       "      <td>120</td>\n",
       "      <td>3.5</td>\n",
       "      <td>PA</td>\n",
       "    </tr>\n",
       "  </tbody>\n",
       "</table>\n",
       "</div>"
      ],
      "text/plain": [
       "                              address  \\\n",
       "94506                  4021 Butler St   \n",
       "63126   174 Spadina Avenue, Suite 103   \n",
       "78945            3042 Senna Dr, Ste C   \n",
       "117823     2350 Noblestown Rd, Ste 13   \n",
       "\n",
       "                                               attributes  \\\n",
       "94506   {'BestNights': '{'monday': False, 'tuesday': F...   \n",
       "63126   {'RestaurantsPriceRange2': '2', 'GoodForKids':...   \n",
       "78945   {'AcceptsInsurance': 'True', 'BusinessAcceptsC...   \n",
       "117823  {'OutdoorSeating': 'False', 'NoiseLevel': ''av...   \n",
       "\n",
       "                   business_id  \\\n",
       "94506   qGdqYJE05NLjMIq--M4Xpg   \n",
       "63126   LvHy56RXx1-btjILQ_RlxA   \n",
       "78945   V8yKpAcC3nlHPDgZue-OZw   \n",
       "117823  aSDQk0wjskLdQRFg2TBt_A   \n",
       "\n",
       "                                               categories        city  \\\n",
       "94506   Nightlife, Arts & Entertainment, Music Venues,...  Pittsburgh   \n",
       "63126   Active Life, Fitness & Instruction, Beauty & S...     Toronto   \n",
       "78945                     Lice Services, Health & Medical    Matthews   \n",
       "117823  Breakfast & Brunch, Restaurants, Sandwiches, B...  Pittsburgh   \n",
       "\n",
       "                                                    hours  is_open   latitude  \\\n",
       "94506                                                None        1  40.469363   \n",
       "63126   {'Monday': '10:0-22:0', 'Tuesday': '10:0-22:0'...        1  43.649274   \n",
       "78945   {'Monday': '0:0-0:0', 'Tuesday': '10:0-19:0', ...        1  35.123160   \n",
       "117823  {'Monday': '6:0-14:30', 'Tuesday': '6:0-14:30'...        1  40.427616   \n",
       "\n",
       "        longitude                                       name postal_code  \\\n",
       "94506  -79.961714                           Thunderbird Cafe       15201   \n",
       "63126  -79.397229                    Atinama Massage Therapy     M5T 2C2   \n",
       "78945  -80.693410  Lice Clinics of America - South Charlotte       28105   \n",
       "117823 -80.055501                                  Eggs-R-Us       15205   \n",
       "\n",
       "        review_count  stars state  \n",
       "94506              8    5.0    PA  \n",
       "63126             10    5.0    ON  \n",
       "78945              3    5.0    NC  \n",
       "117823           120    3.5    PA  "
      ]
     },
     "execution_count": 6,
     "metadata": {},
     "output_type": "execute_result"
    },
    {
     "name": "stdout",
     "output_type": "stream",
     "text": [
      "======================================================================================================================================================\n",
      "df_checkin\n"
     ]
    },
    {
     "data": {
      "text/html": [
       "<div>\n",
       "<style scoped>\n",
       "    .dataframe tbody tr th:only-of-type {\n",
       "        vertical-align: middle;\n",
       "    }\n",
       "\n",
       "    .dataframe tbody tr th {\n",
       "        vertical-align: top;\n",
       "    }\n",
       "\n",
       "    .dataframe thead th {\n",
       "        text-align: right;\n",
       "    }\n",
       "</style>\n",
       "<table border=\"1\" class=\"dataframe\">\n",
       "  <thead>\n",
       "    <tr style=\"text-align: right;\">\n",
       "      <th></th>\n",
       "      <th>business_id</th>\n",
       "      <th>date</th>\n",
       "    </tr>\n",
       "  </thead>\n",
       "  <tbody>\n",
       "    <tr>\n",
       "      <th>117732</th>\n",
       "      <td>exzoEdLeWN8XjTRaF2iwug</td>\n",
       "      <td>2017-11-19 06:07:17</td>\n",
       "    </tr>\n",
       "    <tr>\n",
       "      <th>21956</th>\n",
       "      <td>72qsXmMGrUZ7MsnONWWRDw</td>\n",
       "      <td>2018-12-16 17:33:47, 2018-12-18 00:07:11, 2018...</td>\n",
       "    </tr>\n",
       "    <tr>\n",
       "      <th>149464</th>\n",
       "      <td>qXoJ_fLDtWNG6Cy1bB5cNg</td>\n",
       "      <td>2010-12-19 22:34:19, 2011-02-17 13:05:11, 2011...</td>\n",
       "    </tr>\n",
       "    <tr>\n",
       "      <th>42110</th>\n",
       "      <td>EL3cj9qG8CIS-sqS-t3dRw</td>\n",
       "      <td>2010-04-23 20:43:50, 2010-05-22 19:23:52, 2011...</td>\n",
       "    </tr>\n",
       "  </tbody>\n",
       "</table>\n",
       "</div>"
      ],
      "text/plain": [
       "                   business_id  \\\n",
       "117732  exzoEdLeWN8XjTRaF2iwug   \n",
       "21956   72qsXmMGrUZ7MsnONWWRDw   \n",
       "149464  qXoJ_fLDtWNG6Cy1bB5cNg   \n",
       "42110   EL3cj9qG8CIS-sqS-t3dRw   \n",
       "\n",
       "                                                     date  \n",
       "117732                                2017-11-19 06:07:17  \n",
       "21956   2018-12-16 17:33:47, 2018-12-18 00:07:11, 2018...  \n",
       "149464  2010-12-19 22:34:19, 2011-02-17 13:05:11, 2011...  \n",
       "42110   2010-04-23 20:43:50, 2010-05-22 19:23:52, 2011...  "
      ]
     },
     "execution_count": 6,
     "metadata": {},
     "output_type": "execute_result"
    },
    {
     "name": "stdout",
     "output_type": "stream",
     "text": [
      "======================================================================================================================================================\n",
      "df_tip\n"
     ]
    },
    {
     "data": {
      "text/html": [
       "<div>\n",
       "<style scoped>\n",
       "    .dataframe tbody tr th:only-of-type {\n",
       "        vertical-align: middle;\n",
       "    }\n",
       "\n",
       "    .dataframe tbody tr th {\n",
       "        vertical-align: top;\n",
       "    }\n",
       "\n",
       "    .dataframe thead th {\n",
       "        text-align: right;\n",
       "    }\n",
       "</style>\n",
       "<table border=\"1\" class=\"dataframe\">\n",
       "  <thead>\n",
       "    <tr style=\"text-align: right;\">\n",
       "      <th></th>\n",
       "      <th>business_id</th>\n",
       "      <th>compliment_count</th>\n",
       "      <th>date</th>\n",
       "      <th>text</th>\n",
       "      <th>user_id</th>\n",
       "    </tr>\n",
       "  </thead>\n",
       "  <tbody>\n",
       "    <tr>\n",
       "      <th>709643</th>\n",
       "      <td>RqAP37Oi5Oyo_ZvDg5vcQQ</td>\n",
       "      <td>0</td>\n",
       "      <td>2014-03-30 04:25:03</td>\n",
       "      <td>All around great</td>\n",
       "      <td>4irWM2Ud0XlMqv8TrUqWFA</td>\n",
       "    </tr>\n",
       "    <tr>\n",
       "      <th>93057</th>\n",
       "      <td>WbJ1LRQdOuYYlRLyTkuuxw</td>\n",
       "      <td>0</td>\n",
       "      <td>2013-12-21 17:58:48</td>\n",
       "      <td>Wonderful place - the food was great and the a...</td>\n",
       "      <td>aGanRBy6WjLoPmy5WCLxjQ</td>\n",
       "    </tr>\n",
       "    <tr>\n",
       "      <th>344559</th>\n",
       "      <td>cOXFVPnjx-xewpC_sqll1Q</td>\n",
       "      <td>0</td>\n",
       "      <td>2014-04-29 21:00:52</td>\n",
       "      <td>$19 smog</td>\n",
       "      <td>z908ldotiE_K0-gJv0qk8Q</td>\n",
       "    </tr>\n",
       "    <tr>\n",
       "      <th>1316533</th>\n",
       "      <td>HUMumae_0P9taTSQTZcpZw</td>\n",
       "      <td>0</td>\n",
       "      <td>2018-06-23 17:57:02</td>\n",
       "      <td>love the carne asada tacos and quesadillas</td>\n",
       "      <td>shcgZsVPIm6AkUAJqCKSSQ</td>\n",
       "    </tr>\n",
       "  </tbody>\n",
       "</table>\n",
       "</div>"
      ],
      "text/plain": [
       "                    business_id  compliment_count                date  \\\n",
       "709643   RqAP37Oi5Oyo_ZvDg5vcQQ                 0 2014-03-30 04:25:03   \n",
       "93057    WbJ1LRQdOuYYlRLyTkuuxw                 0 2013-12-21 17:58:48   \n",
       "344559   cOXFVPnjx-xewpC_sqll1Q                 0 2014-04-29 21:00:52   \n",
       "1316533  HUMumae_0P9taTSQTZcpZw                 0 2018-06-23 17:57:02   \n",
       "\n",
       "                                                      text  \\\n",
       "709643                                    All around great   \n",
       "93057    Wonderful place - the food was great and the a...   \n",
       "344559                                            $19 smog   \n",
       "1316533         love the carne asada tacos and quesadillas   \n",
       "\n",
       "                        user_id  \n",
       "709643   4irWM2Ud0XlMqv8TrUqWFA  \n",
       "93057    aGanRBy6WjLoPmy5WCLxjQ  \n",
       "344559   z908ldotiE_K0-gJv0qk8Q  \n",
       "1316533  shcgZsVPIm6AkUAJqCKSSQ  "
      ]
     },
     "execution_count": 6,
     "metadata": {},
     "output_type": "execute_result"
    },
    {
     "name": "stdout",
     "output_type": "stream",
     "text": [
      "======================================================================================================================================================\n",
      "df_covid\n"
     ]
    },
    {
     "data": {
      "text/html": [
       "<div>\n",
       "<style scoped>\n",
       "    .dataframe tbody tr th:only-of-type {\n",
       "        vertical-align: middle;\n",
       "    }\n",
       "\n",
       "    .dataframe tbody tr th {\n",
       "        vertical-align: top;\n",
       "    }\n",
       "\n",
       "    .dataframe thead th {\n",
       "        text-align: right;\n",
       "    }\n",
       "</style>\n",
       "<table border=\"1\" class=\"dataframe\">\n",
       "  <thead>\n",
       "    <tr style=\"text-align: right;\">\n",
       "      <th></th>\n",
       "      <th>Call To Action enabled</th>\n",
       "      <th>Covid Banner</th>\n",
       "      <th>Grubhub enabled</th>\n",
       "      <th>Request a Quote Enabled</th>\n",
       "      <th>Temporary Closed Until</th>\n",
       "      <th>Virtual Services Offered</th>\n",
       "      <th>business_id</th>\n",
       "      <th>delivery or takeout</th>\n",
       "      <th>highlights</th>\n",
       "    </tr>\n",
       "  </thead>\n",
       "  <tbody>\n",
       "    <tr>\n",
       "      <th>89640</th>\n",
       "      <td>FALSE</td>\n",
       "      <td>FALSE</td>\n",
       "      <td>FALSE</td>\n",
       "      <td>FALSE</td>\n",
       "      <td>FALSE</td>\n",
       "      <td>FALSE</td>\n",
       "      <td>KBAfvRSt3fu8B1dkIPcDFw</td>\n",
       "      <td>FALSE</td>\n",
       "      <td>FALSE</td>\n",
       "    </tr>\n",
       "    <tr>\n",
       "      <th>75443</th>\n",
       "      <td>FALSE</td>\n",
       "      <td>FALSE</td>\n",
       "      <td>TRUE</td>\n",
       "      <td>FALSE</td>\n",
       "      <td>FALSE</td>\n",
       "      <td>FALSE</td>\n",
       "      <td>aPBTwoHvuVKHP2zkiKvwQQ</td>\n",
       "      <td>TRUE</td>\n",
       "      <td>FALSE</td>\n",
       "    </tr>\n",
       "    <tr>\n",
       "      <th>74252</th>\n",
       "      <td>FALSE</td>\n",
       "      <td>FALSE</td>\n",
       "      <td>FALSE</td>\n",
       "      <td>FALSE</td>\n",
       "      <td>FALSE</td>\n",
       "      <td>FALSE</td>\n",
       "      <td>G-zBjYkBAqNTHWqsvdq8Ew</td>\n",
       "      <td>FALSE</td>\n",
       "      <td>FALSE</td>\n",
       "    </tr>\n",
       "    <tr>\n",
       "      <th>198517</th>\n",
       "      <td>FALSE</td>\n",
       "      <td>FALSE</td>\n",
       "      <td>FALSE</td>\n",
       "      <td>FALSE</td>\n",
       "      <td>FALSE</td>\n",
       "      <td>FALSE</td>\n",
       "      <td>hYLdDNqMP_lavYk3a1qAvA</td>\n",
       "      <td>FALSE</td>\n",
       "      <td>FALSE</td>\n",
       "    </tr>\n",
       "  </tbody>\n",
       "</table>\n",
       "</div>"
      ],
      "text/plain": [
       "       Call To Action enabled Covid Banner Grubhub enabled  \\\n",
       "89640                   FALSE        FALSE           FALSE   \n",
       "75443                   FALSE        FALSE            TRUE   \n",
       "74252                   FALSE        FALSE           FALSE   \n",
       "198517                  FALSE        FALSE           FALSE   \n",
       "\n",
       "       Request a Quote Enabled Temporary Closed Until  \\\n",
       "89640                    FALSE                  FALSE   \n",
       "75443                    FALSE                  FALSE   \n",
       "74252                    FALSE                  FALSE   \n",
       "198517                   FALSE                  FALSE   \n",
       "\n",
       "       Virtual Services Offered             business_id delivery or takeout  \\\n",
       "89640                     FALSE  KBAfvRSt3fu8B1dkIPcDFw               FALSE   \n",
       "75443                     FALSE  aPBTwoHvuVKHP2zkiKvwQQ                TRUE   \n",
       "74252                     FALSE  G-zBjYkBAqNTHWqsvdq8Ew               FALSE   \n",
       "198517                    FALSE  hYLdDNqMP_lavYk3a1qAvA               FALSE   \n",
       "\n",
       "       highlights  \n",
       "89640       FALSE  \n",
       "75443       FALSE  \n",
       "74252       FALSE  \n",
       "198517      FALSE  "
      ]
     },
     "execution_count": 6,
     "metadata": {},
     "output_type": "execute_result"
    }
   ],
   "source": [
    "print('df_photos')\n",
    "df_photos.sample(4)\n",
    "print('='*150)\n",
    "print('df_business')\n",
    "df_business.sample(4)\n",
    "print('='*150)\n",
    "print('df_checkin')\n",
    "df_checkin.sample(4)\n",
    "print('='*150)\n",
    "print('df_tip')\n",
    "df_tip.sample(4)\n",
    "print('='*150)\n",
    "print('df_covid')\n",
    "df_covid.sample(4)"
   ]
  },
  {
   "cell_type": "code",
   "execution_count": null,
   "metadata": {},
   "outputs": [],
   "source": []
  },
  {
   "cell_type": "markdown",
   "metadata": {},
   "source": [
    "\n",
    "# Reading data (2nd part)"
   ]
  },
  {
   "cell_type": "code",
   "execution_count": 7,
   "metadata": {},
   "outputs": [
    {
     "data": {
      "text/plain": [
       "['F:\\\\Yelp\\\\data\\\\photos.json',\n",
       " 'F:\\\\Yelp\\\\data\\\\yelp_academic_dataset_business.json',\n",
       " 'F:\\\\Yelp\\\\data\\\\yelp_academic_dataset_checkin.json',\n",
       " 'F:\\\\Yelp\\\\data\\\\yelp_academic_dataset_covid.json',\n",
       " 'F:\\\\Yelp\\\\data\\\\yelp_academic_dataset_tip.json']"
      ]
     },
     "execution_count": 7,
     "metadata": {},
     "output_type": "execute_result"
    }
   ],
   "source": [
    "file_names"
   ]
  },
  {
   "cell_type": "code",
   "execution_count": 8,
   "metadata": {},
   "outputs": [
    {
     "name": "stdout",
     "output_type": "stream",
     "text": [
      "DataFrame 'df_review' is ready\n",
      "DataFrame 'df_user' is ready\n"
     ]
    }
   ],
   "source": [
    "df_review = pd.read_csv('F:\\\\Yelp\\\\big_data\\\\yelp_review.csv')\n",
    "print(f\"DataFrame 'df_review' is ready\")\n",
    "df_user = pd.read_csv('F:\\\\Yelp\\\\big_data\\\\yelp_user.csv')\n",
    "print(f\"DataFrame 'df_user' is ready\")"
   ]
  },
  {
   "cell_type": "code",
   "execution_count": 9,
   "metadata": {},
   "outputs": [
    {
     "name": "stdout",
     "output_type": "stream",
     "text": [
      "======================================================================================================================================================\n",
      "df_review\n"
     ]
    },
    {
     "data": {
      "text/html": [
       "<div>\n",
       "<style scoped>\n",
       "    .dataframe tbody tr th:only-of-type {\n",
       "        vertical-align: middle;\n",
       "    }\n",
       "\n",
       "    .dataframe tbody tr th {\n",
       "        vertical-align: top;\n",
       "    }\n",
       "\n",
       "    .dataframe thead th {\n",
       "        text-align: right;\n",
       "    }\n",
       "</style>\n",
       "<table border=\"1\" class=\"dataframe\">\n",
       "  <thead>\n",
       "    <tr style=\"text-align: right;\">\n",
       "      <th></th>\n",
       "      <th>review_id</th>\n",
       "      <th>user_id</th>\n",
       "      <th>business_id</th>\n",
       "      <th>stars</th>\n",
       "      <th>date</th>\n",
       "      <th>text</th>\n",
       "      <th>useful</th>\n",
       "      <th>funny</th>\n",
       "      <th>cool</th>\n",
       "    </tr>\n",
       "  </thead>\n",
       "  <tbody>\n",
       "    <tr>\n",
       "      <th>2424932</th>\n",
       "      <td>oG7p3-MfE3Z3guttbxN6Uw</td>\n",
       "      <td>W_CkghBYSgJIJYi44GBTPA</td>\n",
       "      <td>JGmY9Yvtc_LKcRH7JJHGvg</td>\n",
       "      <td>5</td>\n",
       "      <td>2017-09-12</td>\n",
       "      <td>Always come back for their ice cream! They hav...</td>\n",
       "      <td>1</td>\n",
       "      <td>1</td>\n",
       "      <td>1</td>\n",
       "    </tr>\n",
       "    <tr>\n",
       "      <th>482845</th>\n",
       "      <td>xqkDIiElGsItgOnmgyxn1Q</td>\n",
       "      <td>3Hnz4-CM53Sg927_6wv46A</td>\n",
       "      <td>fWetLvfQXqpZcBQLHldUhA</td>\n",
       "      <td>5</td>\n",
       "      <td>2014-06-09</td>\n",
       "      <td>Stayed here in May. Very clean room and friend...</td>\n",
       "      <td>1</td>\n",
       "      <td>0</td>\n",
       "      <td>0</td>\n",
       "    </tr>\n",
       "    <tr>\n",
       "      <th>2342309</th>\n",
       "      <td>aGo23j5KLefhZFvUdYZ08Q</td>\n",
       "      <td>1VIuDm-PsXw7Yfd98UdYpQ</td>\n",
       "      <td>vkQrIXyeAn4GrCnrk2haRw</td>\n",
       "      <td>4</td>\n",
       "      <td>2014-06-17</td>\n",
       "      <td>A little expensive, but the technicians are su...</td>\n",
       "      <td>3</td>\n",
       "      <td>0</td>\n",
       "      <td>0</td>\n",
       "    </tr>\n",
       "    <tr>\n",
       "      <th>3561843</th>\n",
       "      <td>JFIY9Xlw9JjwyKOJcbR9lw</td>\n",
       "      <td>cNanOhIQ-7qcwnwv7Ij2mg</td>\n",
       "      <td>pctgz0-aQh6fdUF-vKaChA</td>\n",
       "      <td>5</td>\n",
       "      <td>2013-06-27</td>\n",
       "      <td>chicken is great..we love the cara pie pizza e...</td>\n",
       "      <td>0</td>\n",
       "      <td>0</td>\n",
       "      <td>0</td>\n",
       "    </tr>\n",
       "  </tbody>\n",
       "</table>\n",
       "</div>"
      ],
      "text/plain": [
       "                      review_id                 user_id  \\\n",
       "2424932  oG7p3-MfE3Z3guttbxN6Uw  W_CkghBYSgJIJYi44GBTPA   \n",
       "482845   xqkDIiElGsItgOnmgyxn1Q  3Hnz4-CM53Sg927_6wv46A   \n",
       "2342309  aGo23j5KLefhZFvUdYZ08Q  1VIuDm-PsXw7Yfd98UdYpQ   \n",
       "3561843  JFIY9Xlw9JjwyKOJcbR9lw  cNanOhIQ-7qcwnwv7Ij2mg   \n",
       "\n",
       "                    business_id  stars        date  \\\n",
       "2424932  JGmY9Yvtc_LKcRH7JJHGvg      5  2017-09-12   \n",
       "482845   fWetLvfQXqpZcBQLHldUhA      5  2014-06-09   \n",
       "2342309  vkQrIXyeAn4GrCnrk2haRw      4  2014-06-17   \n",
       "3561843  pctgz0-aQh6fdUF-vKaChA      5  2013-06-27   \n",
       "\n",
       "                                                      text  useful  funny  \\\n",
       "2424932  Always come back for their ice cream! They hav...       1      1   \n",
       "482845   Stayed here in May. Very clean room and friend...       1      0   \n",
       "2342309  A little expensive, but the technicians are su...       3      0   \n",
       "3561843  chicken is great..we love the cara pie pizza e...       0      0   \n",
       "\n",
       "         cool  \n",
       "2424932     1  \n",
       "482845      0  \n",
       "2342309     0  \n",
       "3561843     0  "
      ]
     },
     "execution_count": 9,
     "metadata": {},
     "output_type": "execute_result"
    },
    {
     "name": "stdout",
     "output_type": "stream",
     "text": [
      "======================================================================================================================================================\n",
      "df_user\n"
     ]
    },
    {
     "data": {
      "text/html": [
       "<div>\n",
       "<style scoped>\n",
       "    .dataframe tbody tr th:only-of-type {\n",
       "        vertical-align: middle;\n",
       "    }\n",
       "\n",
       "    .dataframe tbody tr th {\n",
       "        vertical-align: top;\n",
       "    }\n",
       "\n",
       "    .dataframe thead th {\n",
       "        text-align: right;\n",
       "    }\n",
       "</style>\n",
       "<table border=\"1\" class=\"dataframe\">\n",
       "  <thead>\n",
       "    <tr style=\"text-align: right;\">\n",
       "      <th></th>\n",
       "      <th>user_id</th>\n",
       "      <th>name</th>\n",
       "      <th>review_count</th>\n",
       "      <th>yelping_since</th>\n",
       "      <th>friends</th>\n",
       "      <th>useful</th>\n",
       "      <th>funny</th>\n",
       "      <th>cool</th>\n",
       "      <th>fans</th>\n",
       "      <th>elite</th>\n",
       "      <th>...</th>\n",
       "      <th>compliment_more</th>\n",
       "      <th>compliment_profile</th>\n",
       "      <th>compliment_cute</th>\n",
       "      <th>compliment_list</th>\n",
       "      <th>compliment_note</th>\n",
       "      <th>compliment_plain</th>\n",
       "      <th>compliment_cool</th>\n",
       "      <th>compliment_funny</th>\n",
       "      <th>compliment_writer</th>\n",
       "      <th>compliment_photos</th>\n",
       "    </tr>\n",
       "  </thead>\n",
       "  <tbody>\n",
       "    <tr>\n",
       "      <th>582130</th>\n",
       "      <td>MiFUhRQ1OR0OryIeqEYscQ</td>\n",
       "      <td>Marisol</td>\n",
       "      <td>1</td>\n",
       "      <td>2014-05-09</td>\n",
       "      <td>gxbRGPy0hQkf_u6FRATKOQ, 2QyLD-ZRM2uGSzArm9BIAQ...</td>\n",
       "      <td>0</td>\n",
       "      <td>0</td>\n",
       "      <td>0</td>\n",
       "      <td>0</td>\n",
       "      <td>None</td>\n",
       "      <td>...</td>\n",
       "      <td>0</td>\n",
       "      <td>0</td>\n",
       "      <td>0</td>\n",
       "      <td>0</td>\n",
       "      <td>0</td>\n",
       "      <td>0</td>\n",
       "      <td>0</td>\n",
       "      <td>0</td>\n",
       "      <td>0</td>\n",
       "      <td>0</td>\n",
       "    </tr>\n",
       "    <tr>\n",
       "      <th>1037999</th>\n",
       "      <td>duI9-_L6Sz7yh7nMVGJqLw</td>\n",
       "      <td>Menno</td>\n",
       "      <td>16</td>\n",
       "      <td>2013-03-26</td>\n",
       "      <td>s85sNAMlsrI0xCRvfj7Jrw, VPZ0UYhVW2ZkdT-mMQ4KLQ...</td>\n",
       "      <td>1</td>\n",
       "      <td>0</td>\n",
       "      <td>2</td>\n",
       "      <td>1</td>\n",
       "      <td>None</td>\n",
       "      <td>...</td>\n",
       "      <td>1</td>\n",
       "      <td>0</td>\n",
       "      <td>0</td>\n",
       "      <td>0</td>\n",
       "      <td>1</td>\n",
       "      <td>0</td>\n",
       "      <td>4</td>\n",
       "      <td>4</td>\n",
       "      <td>0</td>\n",
       "      <td>1</td>\n",
       "    </tr>\n",
       "    <tr>\n",
       "      <th>1312073</th>\n",
       "      <td>HRy364nYIeuZuTCupdnmYw</td>\n",
       "      <td>kimy</td>\n",
       "      <td>84</td>\n",
       "      <td>2007-01-08</td>\n",
       "      <td>NEgUpMY2uIy6UPtQviGzqg, -pvKGlb04e8brYqsXGteQw...</td>\n",
       "      <td>23</td>\n",
       "      <td>2</td>\n",
       "      <td>17</td>\n",
       "      <td>3</td>\n",
       "      <td>None</td>\n",
       "      <td>...</td>\n",
       "      <td>0</td>\n",
       "      <td>1</td>\n",
       "      <td>0</td>\n",
       "      <td>0</td>\n",
       "      <td>2</td>\n",
       "      <td>1</td>\n",
       "      <td>4</td>\n",
       "      <td>4</td>\n",
       "      <td>1</td>\n",
       "      <td>0</td>\n",
       "    </tr>\n",
       "    <tr>\n",
       "      <th>920640</th>\n",
       "      <td>aIMEpGBLOhOBENy1OItNgQ</td>\n",
       "      <td>Allie</td>\n",
       "      <td>12</td>\n",
       "      <td>2011-01-03</td>\n",
       "      <td>Y0H3q5tPRjhOvsPZwrmHrg, TbedOaK1pbKYlTqAlGbJbg...</td>\n",
       "      <td>0</td>\n",
       "      <td>0</td>\n",
       "      <td>0</td>\n",
       "      <td>0</td>\n",
       "      <td>None</td>\n",
       "      <td>...</td>\n",
       "      <td>0</td>\n",
       "      <td>0</td>\n",
       "      <td>0</td>\n",
       "      <td>0</td>\n",
       "      <td>1</td>\n",
       "      <td>1</td>\n",
       "      <td>0</td>\n",
       "      <td>0</td>\n",
       "      <td>0</td>\n",
       "      <td>0</td>\n",
       "    </tr>\n",
       "  </tbody>\n",
       "</table>\n",
       "<p>4 rows × 22 columns</p>\n",
       "</div>"
      ],
      "text/plain": [
       "                        user_id     name  review_count yelping_since  \\\n",
       "582130   MiFUhRQ1OR0OryIeqEYscQ  Marisol             1    2014-05-09   \n",
       "1037999  duI9-_L6Sz7yh7nMVGJqLw    Menno            16    2013-03-26   \n",
       "1312073  HRy364nYIeuZuTCupdnmYw     kimy            84    2007-01-08   \n",
       "920640   aIMEpGBLOhOBENy1OItNgQ    Allie            12    2011-01-03   \n",
       "\n",
       "                                                   friends  useful  funny  \\\n",
       "582130   gxbRGPy0hQkf_u6FRATKOQ, 2QyLD-ZRM2uGSzArm9BIAQ...       0      0   \n",
       "1037999  s85sNAMlsrI0xCRvfj7Jrw, VPZ0UYhVW2ZkdT-mMQ4KLQ...       1      0   \n",
       "1312073  NEgUpMY2uIy6UPtQviGzqg, -pvKGlb04e8brYqsXGteQw...      23      2   \n",
       "920640   Y0H3q5tPRjhOvsPZwrmHrg, TbedOaK1pbKYlTqAlGbJbg...       0      0   \n",
       "\n",
       "         cool  fans elite  ...  compliment_more  compliment_profile  \\\n",
       "582130      0     0  None  ...                0                   0   \n",
       "1037999     2     1  None  ...                1                   0   \n",
       "1312073    17     3  None  ...                0                   1   \n",
       "920640      0     0  None  ...                0                   0   \n",
       "\n",
       "         compliment_cute  compliment_list  compliment_note  compliment_plain  \\\n",
       "582130                 0                0                0                 0   \n",
       "1037999                0                0                1                 0   \n",
       "1312073                0                0                2                 1   \n",
       "920640                 0                0                1                 1   \n",
       "\n",
       "         compliment_cool  compliment_funny  compliment_writer  \\\n",
       "582130                 0                 0                  0   \n",
       "1037999                4                 4                  0   \n",
       "1312073                4                 4                  1   \n",
       "920640                 0                 0                  0   \n",
       "\n",
       "         compliment_photos  \n",
       "582130                   0  \n",
       "1037999                  1  \n",
       "1312073                  0  \n",
       "920640                   0  \n",
       "\n",
       "[4 rows x 22 columns]"
      ]
     },
     "execution_count": 9,
     "metadata": {},
     "output_type": "execute_result"
    }
   ],
   "source": [
    "print('='*150)\n",
    "print('df_review')\n",
    "df_review.sample(4)\n",
    "print('='*150)\n",
    "print('df_user')\n",
    "df_user.sample(4)"
   ]
  },
  {
   "cell_type": "code",
   "execution_count": 10,
   "metadata": {},
   "outputs": [
    {
     "data": {
      "text/plain": [
       "(5261668, 9)"
      ]
     },
     "execution_count": 10,
     "metadata": {},
     "output_type": "execute_result"
    },
    {
     "data": {
      "text/plain": [
       "(1326100, 22)"
      ]
     },
     "execution_count": 10,
     "metadata": {},
     "output_type": "execute_result"
    }
   ],
   "source": [
    "df_review.shape\n",
    "df_user.shape"
   ]
  },
  {
   "cell_type": "markdown",
   "metadata": {},
   "source": [
    "# Cleaning data"
   ]
  },
  {
   "cell_type": "markdown",
   "metadata": {},
   "source": [
    "## Cleaning df_business"
   ]
  },
  {
   "cell_type": "code",
   "execution_count": 11,
   "metadata": {},
   "outputs": [
    {
     "name": "stdout",
     "output_type": "stream",
     "text": [
      "<class 'pandas.core.frame.DataFrame'>\n",
      "RangeIndex: 209393 entries, 0 to 209392\n",
      "Data columns (total 14 columns):\n",
      "address         209393 non-null object\n",
      "attributes      180348 non-null object\n",
      "business_id     209393 non-null object\n",
      "categories      208869 non-null object\n",
      "city            209393 non-null object\n",
      "hours           164550 non-null object\n",
      "is_open         209393 non-null int64\n",
      "latitude        209393 non-null float64\n",
      "longitude       209393 non-null float64\n",
      "name            209393 non-null object\n",
      "postal_code     209393 non-null object\n",
      "review_count    209393 non-null int64\n",
      "stars           209393 non-null float64\n",
      "state           209393 non-null object\n",
      "dtypes: float64(3), int64(2), object(9)\n",
      "memory usage: 22.4+ MB\n"
     ]
    }
   ],
   "source": [
    "df_business.info()"
   ]
  },
  {
   "cell_type": "code",
   "execution_count": 12,
   "metadata": {},
   "outputs": [],
   "source": [
    "#Meine Datenzusammenfassung\n",
    "def my_df_summary(data):\n",
    "    '''Eigene Funktion für die Summary'''\n",
    "    try:\n",
    "        dat = data.copy()\n",
    "#         df = pd.DataFrame([dat.min(), dat.max(), dat.mean(), dat.std(), dat.isna().sum(), dat.nunique(), dat.dtypes],\n",
    "#                      index=['Minimum', 'Maximum', 'Mittelwert', 'Stand. Abw.','#NA', '#Uniques', 'dtypes'])    \n",
    "        df = pd.DataFrame([dat.min(), dat.max(), dat.isna().sum(), dat.dtypes],\n",
    "                     index=['Minimum', 'Maximum', '#NA', 'dtypes'])   \n",
    "        return df.T\n",
    "    except:\n",
    "        print('Es konnte keine Summary erstellt werden.')\n",
    "        return data"
   ]
  },
  {
   "cell_type": "code",
   "execution_count": 13,
   "metadata": {},
   "outputs": [
    {
     "data": {
      "text/html": [
       "<div>\n",
       "<style scoped>\n",
       "    .dataframe tbody tr th:only-of-type {\n",
       "        vertical-align: middle;\n",
       "    }\n",
       "\n",
       "    .dataframe tbody tr th {\n",
       "        vertical-align: top;\n",
       "    }\n",
       "\n",
       "    .dataframe thead th {\n",
       "        text-align: right;\n",
       "    }\n",
       "</style>\n",
       "<table border=\"1\" class=\"dataframe\">\n",
       "  <thead>\n",
       "    <tr style=\"text-align: right;\">\n",
       "      <th></th>\n",
       "      <th>Minimum</th>\n",
       "      <th>Maximum</th>\n",
       "      <th>#NA</th>\n",
       "      <th>dtypes</th>\n",
       "    </tr>\n",
       "  </thead>\n",
       "  <tbody>\n",
       "    <tr>\n",
       "      <th>address</th>\n",
       "      <td></td>\n",
       "      <td>â€‹380 Midpark Way SE</td>\n",
       "      <td>0</td>\n",
       "      <td>object</td>\n",
       "    </tr>\n",
       "    <tr>\n",
       "      <th>business_id</th>\n",
       "      <td>--1UhMGODdWsrMastO9DZw</td>\n",
       "      <td>zzzaIBwimxVej4tY6qFOUQ</td>\n",
       "      <td>0</td>\n",
       "      <td>object</td>\n",
       "    </tr>\n",
       "    <tr>\n",
       "      <th>city</th>\n",
       "      <td></td>\n",
       "      <td>â€‹Gilbert</td>\n",
       "      <td>0</td>\n",
       "      <td>object</td>\n",
       "    </tr>\n",
       "    <tr>\n",
       "      <th>is_open</th>\n",
       "      <td>0</td>\n",
       "      <td>1</td>\n",
       "      <td>0</td>\n",
       "      <td>int64</td>\n",
       "    </tr>\n",
       "    <tr>\n",
       "      <th>latitude</th>\n",
       "      <td>21.4973</td>\n",
       "      <td>51.2999</td>\n",
       "      <td>0</td>\n",
       "      <td>float64</td>\n",
       "    </tr>\n",
       "    <tr>\n",
       "      <th>longitude</th>\n",
       "      <td>-158.026</td>\n",
       "      <td>-72.8066</td>\n",
       "      <td>0</td>\n",
       "      <td>float64</td>\n",
       "    </tr>\n",
       "    <tr>\n",
       "      <th>name</th>\n",
       "      <td></td>\n",
       "      <td>â€‹SamWireless</td>\n",
       "      <td>0</td>\n",
       "      <td>object</td>\n",
       "    </tr>\n",
       "    <tr>\n",
       "      <th>postal_code</th>\n",
       "      <td></td>\n",
       "      <td>t2g 3m5</td>\n",
       "      <td>0</td>\n",
       "      <td>object</td>\n",
       "    </tr>\n",
       "    <tr>\n",
       "      <th>review_count</th>\n",
       "      <td>3</td>\n",
       "      <td>10129</td>\n",
       "      <td>0</td>\n",
       "      <td>int64</td>\n",
       "    </tr>\n",
       "    <tr>\n",
       "      <th>stars</th>\n",
       "      <td>1</td>\n",
       "      <td>5</td>\n",
       "      <td>0</td>\n",
       "      <td>float64</td>\n",
       "    </tr>\n",
       "    <tr>\n",
       "      <th>state</th>\n",
       "      <td>AB</td>\n",
       "      <td>YT</td>\n",
       "      <td>0</td>\n",
       "      <td>object</td>\n",
       "    </tr>\n",
       "    <tr>\n",
       "      <th>attributes</th>\n",
       "      <td>NaN</td>\n",
       "      <td>NaN</td>\n",
       "      <td>29045</td>\n",
       "      <td>object</td>\n",
       "    </tr>\n",
       "    <tr>\n",
       "      <th>categories</th>\n",
       "      <td>NaN</td>\n",
       "      <td>NaN</td>\n",
       "      <td>524</td>\n",
       "      <td>object</td>\n",
       "    </tr>\n",
       "    <tr>\n",
       "      <th>hours</th>\n",
       "      <td>NaN</td>\n",
       "      <td>NaN</td>\n",
       "      <td>44843</td>\n",
       "      <td>object</td>\n",
       "    </tr>\n",
       "  </tbody>\n",
       "</table>\n",
       "</div>"
      ],
      "text/plain": [
       "                             Minimum                 Maximum    #NA   dtypes\n",
       "address                                â€‹380 Midpark Way SE      0   object\n",
       "business_id   --1UhMGODdWsrMastO9DZw  zzzaIBwimxVej4tY6qFOUQ      0   object\n",
       "city                                              â€‹Gilbert      0   object\n",
       "is_open                            0                       1      0    int64\n",
       "latitude                     21.4973                 51.2999      0  float64\n",
       "longitude                   -158.026                -72.8066      0  float64\n",
       "name                                          â€‹SamWireless      0   object\n",
       "postal_code                                          t2g 3m5      0   object\n",
       "review_count                       3                   10129      0    int64\n",
       "stars                              1                       5      0  float64\n",
       "state                             AB                      YT      0   object\n",
       "attributes                       NaN                     NaN  29045   object\n",
       "categories                       NaN                     NaN    524   object\n",
       "hours                            NaN                     NaN  44843   object"
      ]
     },
     "execution_count": 13,
     "metadata": {},
     "output_type": "execute_result"
    }
   ],
   "source": [
    "my_df_summary(df_business)"
   ]
  },
  {
   "cell_type": "code",
   "execution_count": 14,
   "metadata": {},
   "outputs": [
    {
     "data": {
      "text/plain": [
       "94714     {'RestaurantsAttire': ''casual'', 'Alcohol': '...\n",
       "130822    {'RestaurantsPriceRange2': '1', 'BusinessAccep...\n",
       "54999     {'ByAppointmentOnly': 'True', 'RestaurantsPric...\n",
       "150646    {'RestaurantsPriceRange2': '2', 'BusinessAccep...\n",
       "100682    {'WheelchairAccessible': 'True', 'BusinessPark...\n",
       "125293    {'GoodForKids': 'True', 'RestaurantsTakeOut': ...\n",
       "140953    {'RestaurantsDelivery': 'True', 'RestaurantsGo...\n",
       "98759     {'Alcohol': 'u'none'', 'BusinessParking': '{'g...\n",
       "20931                                                  None\n",
       "27132                        {'RestaurantsTakeOut': 'True'}\n",
       "Name: attributes, dtype: object"
      ]
     },
     "execution_count": 14,
     "metadata": {},
     "output_type": "execute_result"
    }
   ],
   "source": [
    "df_business.attributes.sample(10)\n",
    "df_business.attributes = df_business.attributes.fillna('no_attributes')"
   ]
  },
  {
   "cell_type": "code",
   "execution_count": 15,
   "metadata": {},
   "outputs": [
    {
     "data": {
      "text/plain": [
       "141696    Skin Care, Beauty & Spas, Nail Salons, Hair Re...\n",
       "176800    Dentists, Health & Medical, Orthodontists, Ora...\n",
       "53561     Restaurants, Nightlife, Bars, American (New), ...\n",
       "196420    Fashion, Formal Wear, Shopping, Men's Clothing...\n",
       "76658     Jewelry, Fashion, Accessories, Shopping, Women...\n",
       "109310    Shopping, Home & Garden, Landscape Architects,...\n",
       "167699    Bars, Arts & Entertainment, Dive Bars, Nightli...\n",
       "140796    Grocery, Cosmetics & Beauty Supply, Beauty & S...\n",
       "187995      Restaurants, Breakfast & Brunch, Canadian (New)\n",
       "181311    Interior Design, Contractors, Home Services, H...\n",
       "Name: categories, dtype: object"
      ]
     },
     "execution_count": 15,
     "metadata": {},
     "output_type": "execute_result"
    }
   ],
   "source": [
    "df_business.categories.sample(10)\n",
    "df_business.categories = df_business.categories.fillna('no_categories')"
   ]
  },
  {
   "cell_type": "code",
   "execution_count": 16,
   "metadata": {},
   "outputs": [
    {
     "data": {
      "text/plain": [
       "47409     {'Monday': '9:0-18:0', 'Tuesday': '9:0-18:0', ...\n",
       "79662     {'Monday': '11:0-22:30', 'Tuesday': '11:0-22:3...\n",
       "28316     {'Monday': '0:0-0:0', 'Tuesday': '11:0-16:0', ...\n",
       "168118                                                 None\n",
       "170118                                                 None\n",
       "102978    {'Monday': '10:0-19:0', 'Tuesday': '10:0-19:0'...\n",
       "69278     {'Monday': '0:0-0:0', 'Tuesday': '9:0-16:30', ...\n",
       "168136    {'Wednesday': '8:0-16:0', 'Thursday': '8:0-16:...\n",
       "152285    {'Monday': '0:0-0:0', 'Tuesday': '0:0-0:0', 'W...\n",
       "58229     {'Tuesday': '12:0-22:0', 'Wednesday': '12:0-22...\n",
       "Name: hours, dtype: object"
      ]
     },
     "execution_count": 16,
     "metadata": {},
     "output_type": "execute_result"
    }
   ],
   "source": [
    "df_business.hours.sample(10)\n",
    "df_business.hours = df_business.hours.fillna('no_hours_info')"
   ]
  },
  {
   "cell_type": "code",
   "execution_count": 17,
   "metadata": {},
   "outputs": [
    {
     "data": {
      "text/html": [
       "<div>\n",
       "<style scoped>\n",
       "    .dataframe tbody tr th:only-of-type {\n",
       "        vertical-align: middle;\n",
       "    }\n",
       "\n",
       "    .dataframe tbody tr th {\n",
       "        vertical-align: top;\n",
       "    }\n",
       "\n",
       "    .dataframe thead th {\n",
       "        text-align: right;\n",
       "    }\n",
       "</style>\n",
       "<table border=\"1\" class=\"dataframe\">\n",
       "  <thead>\n",
       "    <tr style=\"text-align: right;\">\n",
       "      <th></th>\n",
       "      <th>Minimum</th>\n",
       "      <th>Maximum</th>\n",
       "      <th>#NA</th>\n",
       "      <th>dtypes</th>\n",
       "    </tr>\n",
       "  </thead>\n",
       "  <tbody>\n",
       "    <tr>\n",
       "      <th>address</th>\n",
       "      <td></td>\n",
       "      <td>â€‹380 Midpark Way SE</td>\n",
       "      <td>0</td>\n",
       "      <td>object</td>\n",
       "    </tr>\n",
       "    <tr>\n",
       "      <th>business_id</th>\n",
       "      <td>--1UhMGODdWsrMastO9DZw</td>\n",
       "      <td>zzzaIBwimxVej4tY6qFOUQ</td>\n",
       "      <td>0</td>\n",
       "      <td>object</td>\n",
       "    </tr>\n",
       "    <tr>\n",
       "      <th>categories</th>\n",
       "      <td>3D Printing, Computers, Local Services, Electr...</td>\n",
       "      <td>no_categories</td>\n",
       "      <td>0</td>\n",
       "      <td>object</td>\n",
       "    </tr>\n",
       "    <tr>\n",
       "      <th>city</th>\n",
       "      <td></td>\n",
       "      <td>â€‹Gilbert</td>\n",
       "      <td>0</td>\n",
       "      <td>object</td>\n",
       "    </tr>\n",
       "    <tr>\n",
       "      <th>is_open</th>\n",
       "      <td>0</td>\n",
       "      <td>1</td>\n",
       "      <td>0</td>\n",
       "      <td>int64</td>\n",
       "    </tr>\n",
       "    <tr>\n",
       "      <th>latitude</th>\n",
       "      <td>21.4973</td>\n",
       "      <td>51.2999</td>\n",
       "      <td>0</td>\n",
       "      <td>float64</td>\n",
       "    </tr>\n",
       "    <tr>\n",
       "      <th>longitude</th>\n",
       "      <td>-158.026</td>\n",
       "      <td>-72.8066</td>\n",
       "      <td>0</td>\n",
       "      <td>float64</td>\n",
       "    </tr>\n",
       "    <tr>\n",
       "      <th>name</th>\n",
       "      <td></td>\n",
       "      <td>â€‹SamWireless</td>\n",
       "      <td>0</td>\n",
       "      <td>object</td>\n",
       "    </tr>\n",
       "    <tr>\n",
       "      <th>postal_code</th>\n",
       "      <td></td>\n",
       "      <td>t2g 3m5</td>\n",
       "      <td>0</td>\n",
       "      <td>object</td>\n",
       "    </tr>\n",
       "    <tr>\n",
       "      <th>review_count</th>\n",
       "      <td>3</td>\n",
       "      <td>10129</td>\n",
       "      <td>0</td>\n",
       "      <td>int64</td>\n",
       "    </tr>\n",
       "    <tr>\n",
       "      <th>stars</th>\n",
       "      <td>1</td>\n",
       "      <td>5</td>\n",
       "      <td>0</td>\n",
       "      <td>float64</td>\n",
       "    </tr>\n",
       "    <tr>\n",
       "      <th>state</th>\n",
       "      <td>AB</td>\n",
       "      <td>YT</td>\n",
       "      <td>0</td>\n",
       "      <td>object</td>\n",
       "    </tr>\n",
       "    <tr>\n",
       "      <th>attributes</th>\n",
       "      <td>NaN</td>\n",
       "      <td>NaN</td>\n",
       "      <td>0</td>\n",
       "      <td>object</td>\n",
       "    </tr>\n",
       "    <tr>\n",
       "      <th>hours</th>\n",
       "      <td>NaN</td>\n",
       "      <td>NaN</td>\n",
       "      <td>0</td>\n",
       "      <td>object</td>\n",
       "    </tr>\n",
       "  </tbody>\n",
       "</table>\n",
       "</div>"
      ],
      "text/plain": [
       "                                                        Minimum  \\\n",
       "address                                                           \n",
       "business_id                              --1UhMGODdWsrMastO9DZw   \n",
       "categories    3D Printing, Computers, Local Services, Electr...   \n",
       "city                                                              \n",
       "is_open                                                       0   \n",
       "latitude                                                21.4973   \n",
       "longitude                                              -158.026   \n",
       "name                                                              \n",
       "postal_code                                                       \n",
       "review_count                                                  3   \n",
       "stars                                                         1   \n",
       "state                                                        AB   \n",
       "attributes                                                  NaN   \n",
       "hours                                                       NaN   \n",
       "\n",
       "                             Maximum #NA   dtypes  \n",
       "address        â€‹380 Midpark Way SE   0   object  \n",
       "business_id   zzzaIBwimxVej4tY6qFOUQ   0   object  \n",
       "categories             no_categories   0   object  \n",
       "city                      â€‹Gilbert   0   object  \n",
       "is_open                            1   0    int64  \n",
       "latitude                     51.2999   0  float64  \n",
       "longitude                   -72.8066   0  float64  \n",
       "name                  â€‹SamWireless   0   object  \n",
       "postal_code                  t2g 3m5   0   object  \n",
       "review_count                   10129   0    int64  \n",
       "stars                              5   0  float64  \n",
       "state                             YT   0   object  \n",
       "attributes                       NaN   0   object  \n",
       "hours                            NaN   0   object  "
      ]
     },
     "execution_count": 17,
     "metadata": {},
     "output_type": "execute_result"
    }
   ],
   "source": [
    "my_df_summary(df_business)"
   ]
  },
  {
   "cell_type": "code",
   "execution_count": 18,
   "metadata": {},
   "outputs": [
    {
     "data": {
      "text/html": [
       "<div>\n",
       "<style scoped>\n",
       "    .dataframe tbody tr th:only-of-type {\n",
       "        vertical-align: middle;\n",
       "    }\n",
       "\n",
       "    .dataframe tbody tr th {\n",
       "        vertical-align: top;\n",
       "    }\n",
       "\n",
       "    .dataframe thead th {\n",
       "        text-align: right;\n",
       "    }\n",
       "</style>\n",
       "<table border=\"1\" class=\"dataframe\">\n",
       "  <thead>\n",
       "    <tr style=\"text-align: right;\">\n",
       "      <th></th>\n",
       "      <th>address</th>\n",
       "      <th>attributes</th>\n",
       "      <th>business_id</th>\n",
       "      <th>categories</th>\n",
       "      <th>city</th>\n",
       "      <th>hours</th>\n",
       "      <th>is_open</th>\n",
       "      <th>latitude</th>\n",
       "      <th>longitude</th>\n",
       "      <th>name</th>\n",
       "      <th>postal_code</th>\n",
       "      <th>review_count</th>\n",
       "      <th>stars</th>\n",
       "      <th>state</th>\n",
       "    </tr>\n",
       "  </thead>\n",
       "  <tbody>\n",
       "    <tr>\n",
       "      <th>0</th>\n",
       "      <td>10913 Bailey Rd</td>\n",
       "      <td>{'BusinessAcceptsCreditCards': 'True', 'BikePa...</td>\n",
       "      <td>f9NumwFMBDn751xgFiRbNA</td>\n",
       "      <td>Active Life, Gun/Rifle Ranges, Guns &amp; Ammo, Sh...</td>\n",
       "      <td>Cornelius</td>\n",
       "      <td>{'Monday': '10:0-18:0', 'Tuesday': '11:0-20:0'...</td>\n",
       "      <td>1</td>\n",
       "      <td>35.462724</td>\n",
       "      <td>-80.852612</td>\n",
       "      <td>The Range At Lake Norman</td>\n",
       "      <td>28031</td>\n",
       "      <td>36</td>\n",
       "      <td>3.5</td>\n",
       "      <td>NC</td>\n",
       "    </tr>\n",
       "    <tr>\n",
       "      <th>1</th>\n",
       "      <td>8880 E Via Linda, Ste 107</td>\n",
       "      <td>{'GoodForKids': 'True', 'ByAppointmentOnly': '...</td>\n",
       "      <td>Yzvjg0SayhoZgCljUJRF9Q</td>\n",
       "      <td>Health &amp; Medical, Fitness &amp; Instruction, Yoga,...</td>\n",
       "      <td>Scottsdale</td>\n",
       "      <td>no_hours_info</td>\n",
       "      <td>1</td>\n",
       "      <td>33.569404</td>\n",
       "      <td>-111.890264</td>\n",
       "      <td>Carlos Santo, NMD</td>\n",
       "      <td>85258</td>\n",
       "      <td>4</td>\n",
       "      <td>5.0</td>\n",
       "      <td>AZ</td>\n",
       "    </tr>\n",
       "    <tr>\n",
       "      <th>2</th>\n",
       "      <td>3554 Rue Notre-Dame O</td>\n",
       "      <td>no_attributes</td>\n",
       "      <td>XNoUzKckATkOD1hP6vghZg</td>\n",
       "      <td>Pets, Pet Services, Pet Groomers</td>\n",
       "      <td>Montreal</td>\n",
       "      <td>no_hours_info</td>\n",
       "      <td>1</td>\n",
       "      <td>45.479984</td>\n",
       "      <td>-73.580070</td>\n",
       "      <td>Felinus</td>\n",
       "      <td>H4C 1P4</td>\n",
       "      <td>5</td>\n",
       "      <td>5.0</td>\n",
       "      <td>QC</td>\n",
       "    </tr>\n",
       "    <tr>\n",
       "      <th>3</th>\n",
       "      <td>1015 Sharp Cir</td>\n",
       "      <td>{'BusinessAcceptsCreditCards': 'True', 'ByAppo...</td>\n",
       "      <td>6OAZjbxqM5ol29BuHsil3w</td>\n",
       "      <td>Hardware Stores, Home Services, Building Suppl...</td>\n",
       "      <td>North Las Vegas</td>\n",
       "      <td>{'Monday': '7:0-16:0', 'Tuesday': '7:0-16:0', ...</td>\n",
       "      <td>0</td>\n",
       "      <td>36.219728</td>\n",
       "      <td>-115.127725</td>\n",
       "      <td>Nevada House of Hose</td>\n",
       "      <td>89030</td>\n",
       "      <td>3</td>\n",
       "      <td>2.5</td>\n",
       "      <td>NV</td>\n",
       "    </tr>\n",
       "    <tr>\n",
       "      <th>4</th>\n",
       "      <td>4827 E Downing Cir</td>\n",
       "      <td>{'BusinessAcceptsCreditCards': 'True', 'ByAppo...</td>\n",
       "      <td>51M2Kk903DFYI6gnB5I6SQ</td>\n",
       "      <td>Home Services, Plumbing, Electricians, Handyma...</td>\n",
       "      <td>Mesa</td>\n",
       "      <td>{'Monday': '0:0-0:0', 'Tuesday': '9:0-16:0', '...</td>\n",
       "      <td>1</td>\n",
       "      <td>33.428065</td>\n",
       "      <td>-111.726648</td>\n",
       "      <td>USE MY GUY SERVICES LLC</td>\n",
       "      <td>85205</td>\n",
       "      <td>26</td>\n",
       "      <td>4.5</td>\n",
       "      <td>AZ</td>\n",
       "    </tr>\n",
       "  </tbody>\n",
       "</table>\n",
       "</div>"
      ],
      "text/plain": [
       "                     address  \\\n",
       "0            10913 Bailey Rd   \n",
       "1  8880 E Via Linda, Ste 107   \n",
       "2      3554 Rue Notre-Dame O   \n",
       "3             1015 Sharp Cir   \n",
       "4         4827 E Downing Cir   \n",
       "\n",
       "                                          attributes             business_id  \\\n",
       "0  {'BusinessAcceptsCreditCards': 'True', 'BikePa...  f9NumwFMBDn751xgFiRbNA   \n",
       "1  {'GoodForKids': 'True', 'ByAppointmentOnly': '...  Yzvjg0SayhoZgCljUJRF9Q   \n",
       "2                                      no_attributes  XNoUzKckATkOD1hP6vghZg   \n",
       "3  {'BusinessAcceptsCreditCards': 'True', 'ByAppo...  6OAZjbxqM5ol29BuHsil3w   \n",
       "4  {'BusinessAcceptsCreditCards': 'True', 'ByAppo...  51M2Kk903DFYI6gnB5I6SQ   \n",
       "\n",
       "                                          categories             city  \\\n",
       "0  Active Life, Gun/Rifle Ranges, Guns & Ammo, Sh...        Cornelius   \n",
       "1  Health & Medical, Fitness & Instruction, Yoga,...       Scottsdale   \n",
       "2                   Pets, Pet Services, Pet Groomers         Montreal   \n",
       "3  Hardware Stores, Home Services, Building Suppl...  North Las Vegas   \n",
       "4  Home Services, Plumbing, Electricians, Handyma...             Mesa   \n",
       "\n",
       "                                               hours  is_open   latitude  \\\n",
       "0  {'Monday': '10:0-18:0', 'Tuesday': '11:0-20:0'...        1  35.462724   \n",
       "1                                      no_hours_info        1  33.569404   \n",
       "2                                      no_hours_info        1  45.479984   \n",
       "3  {'Monday': '7:0-16:0', 'Tuesday': '7:0-16:0', ...        0  36.219728   \n",
       "4  {'Monday': '0:0-0:0', 'Tuesday': '9:0-16:0', '...        1  33.428065   \n",
       "\n",
       "    longitude                      name postal_code  review_count  stars state  \n",
       "0  -80.852612  The Range At Lake Norman       28031            36    3.5    NC  \n",
       "1 -111.890264         Carlos Santo, NMD       85258             4    5.0    AZ  \n",
       "2  -73.580070                   Felinus     H4C 1P4             5    5.0    QC  \n",
       "3 -115.127725      Nevada House of Hose       89030             3    2.5    NV  \n",
       "4 -111.726648   USE MY GUY SERVICES LLC       85205            26    4.5    AZ  "
      ]
     },
     "execution_count": 18,
     "metadata": {},
     "output_type": "execute_result"
    }
   ],
   "source": [
    "df_business.head(5)"
   ]
  },
  {
   "cell_type": "code",
   "execution_count": 19,
   "metadata": {},
   "outputs": [
    {
     "data": {
      "text/plain": [
       "Index(['address', 'attributes', 'business_id', 'categories', 'city', 'hours',\n",
       "       'is_open', 'latitude', 'longitude', 'name', 'postal_code',\n",
       "       'review_count', 'stars', 'state'],\n",
       "      dtype='object')"
      ]
     },
     "execution_count": 19,
     "metadata": {},
     "output_type": "execute_result"
    }
   ],
   "source": [
    "df_business.columns"
   ]
  },
  {
   "cell_type": "code",
   "execution_count": 20,
   "metadata": {},
   "outputs": [
    {
     "data": {
      "text/plain": [
       "Index(['attributes', 'business_id', 'categories', 'city', 'hours', 'is_open',\n",
       "       'name', 'review_count', 'stars'],\n",
       "      dtype='object')"
      ]
     },
     "execution_count": 20,
     "metadata": {},
     "output_type": "execute_result"
    }
   ],
   "source": [
    "cols_to_drop = ['address','latitude','longitude', 'postal_code','state']\n",
    "try:\n",
    "    df_business = df_business.drop(cols_to_drop,axis=1)\n",
    "except:\n",
    "    pass\n",
    "df_business.columns"
   ]
  },
  {
   "cell_type": "code",
   "execution_count": 21,
   "metadata": {},
   "outputs": [
    {
     "name": "stdout",
     "output_type": "stream",
     "text": [
      "Info about df_business\n",
      "<class 'pandas.core.frame.DataFrame'>\n",
      "RangeIndex: 209393 entries, 0 to 209392\n",
      "Data columns (total 9 columns):\n",
      "attributes      209393 non-null object\n",
      "business_id     209393 non-null object\n",
      "categories      209393 non-null object\n",
      "city            209393 non-null object\n",
      "hours           209393 non-null object\n",
      "is_open         209393 non-null int64\n",
      "name            209393 non-null object\n",
      "review_count    209393 non-null int64\n",
      "stars           209393 non-null float64\n",
      "dtypes: float64(1), int64(2), object(6)\n",
      "memory usage: 14.4+ MB\n",
      "\n",
      "******************************************************************************************************************************************************\n",
      "\n",
      "Missing data in df_business\n"
     ]
    },
    {
     "data": {
      "text/plain": [
       "attributes      0\n",
       "business_id     0\n",
       "categories      0\n",
       "city            0\n",
       "hours           0\n",
       "is_open         0\n",
       "name            0\n",
       "review_count    0\n",
       "stars           0\n",
       "dtype: int64"
      ]
     },
     "execution_count": 21,
     "metadata": {},
     "output_type": "execute_result"
    }
   ],
   "source": [
    "print(f'Info about df_business')\n",
    "df_business.info()\n",
    "print(''*150)\n",
    "print('*'*150)\n",
    "print(''*150)\n",
    "print(f'Missing data in df_business')\n",
    "df_business.isna().sum()"
   ]
  },
  {
   "cell_type": "code",
   "execution_count": 22,
   "metadata": {},
   "outputs": [
    {
     "data": {
      "text/plain": [
       "array([3.5, 5. , 2.5, 4.5, 3. , 4. , 1.5, 2. , 1. ])"
      ]
     },
     "execution_count": 22,
     "metadata": {},
     "output_type": "execute_result"
    }
   ],
   "source": [
    "df_business.stars.unique()"
   ]
  },
  {
   "cell_type": "code",
   "execution_count": 24,
   "metadata": {},
   "outputs": [
    {
     "data": {
      "text/plain": [
       "<matplotlib.axes._subplots.AxesSubplot at 0x2b32b6ea108>"
      ]
     },
     "execution_count": 24,
     "metadata": {},
     "output_type": "execute_result"
    },
    {
     "data": {
      "text/plain": [
       "Text(0.5, 0.98, 'Distribution of average star')"
      ]
     },
     "execution_count": 24,
     "metadata": {},
     "output_type": "execute_result"
    },
    {
     "data": {
      "image/png": "[encoded data removed]",
      "text/plain": [
       "<Figure size 864x432 with 1 Axes>"
      ]
     },
     "metadata": {},
     "output_type": "display_data"
    }
   ],
   "source": [
    "sns.set()\n",
    "cut_number = 15\n",
    "df_plot = df_business.stars\n",
    "\n",
    "fig,ax1 = plt.subplots(1,1,figsize=(12,6))\n",
    "df_plot.plot(kind='hist', color='deepskyblue', bins=30, ax=ax1)\n",
    "\n",
    "fig.suptitle('Distribution of average star', fontsize=20)\n",
    "# ax1.set_title('review_count < 15', fontsize=14)\n",
    "# ax1.xlabel('star', fontsize=14)\n",
    "# ax1.ylabel('Frequency',fontsize=20)\n",
    "# plt.savefig('name.jpg', dpi=300) \n",
    "plt.show()"
   ]
  },
  {
   "cell_type": "markdown",
   "metadata": {},
   "source": [
    "### Save clean data into \"business_clean.csv\" data"
   ]
  },
  {
   "cell_type": "code",
   "execution_count": 25,
   "metadata": {},
   "outputs": [],
   "source": [
    "df_business.to_csv('data_clean/business_clean.csv',index=False)"
   ]
  },
  {
   "cell_type": "markdown",
   "metadata": {},
   "source": [
    "## Cleaning df_user"
   ]
  },
  {
   "cell_type": "code",
   "execution_count": 26,
   "metadata": {},
   "outputs": [
    {
     "name": "stdout",
     "output_type": "stream",
     "text": [
      "DataFrame 'df_user' is ready\n"
     ]
    }
   ],
   "source": [
    "df_user = pd.read_csv('F:\\\\Yelp\\\\big_data\\\\yelp_user.csv')\n",
    "print(f\"DataFrame 'df_user' is ready\")"
   ]
  },
  {
   "cell_type": "code",
   "execution_count": 27,
   "metadata": {},
   "outputs": [],
   "source": [
    "number_to_insert = {\"friends\":  {\"None\": 0}}\n",
    "df_user.replace(number_to_insert, inplace=True)"
   ]
  },
  {
   "cell_type": "code",
   "execution_count": 28,
   "metadata": {},
   "outputs": [],
   "source": [
    "df_user.friends = [int(len([x.strip() for x in item.split(',')])) if isinstance(item, str) else item for item in df_user.friends]"
   ]
  },
  {
   "cell_type": "code",
   "execution_count": 29,
   "metadata": {},
   "outputs": [
    {
     "data": {
      "text/html": [
       "<div>\n",
       "<style scoped>\n",
       "    .dataframe tbody tr th:only-of-type {\n",
       "        vertical-align: middle;\n",
       "    }\n",
       "\n",
       "    .dataframe tbody tr th {\n",
       "        vertical-align: top;\n",
       "    }\n",
       "\n",
       "    .dataframe thead th {\n",
       "        text-align: right;\n",
       "    }\n",
       "</style>\n",
       "<table border=\"1\" class=\"dataframe\">\n",
       "  <thead>\n",
       "    <tr style=\"text-align: right;\">\n",
       "      <th></th>\n",
       "      <th>user_id</th>\n",
       "      <th>name</th>\n",
       "      <th>review_count</th>\n",
       "      <th>yelping_since</th>\n",
       "      <th>friends</th>\n",
       "      <th>useful</th>\n",
       "      <th>funny</th>\n",
       "      <th>cool</th>\n",
       "      <th>fans</th>\n",
       "      <th>elite</th>\n",
       "      <th>...</th>\n",
       "      <th>compliment_more</th>\n",
       "      <th>compliment_profile</th>\n",
       "      <th>compliment_cute</th>\n",
       "      <th>compliment_list</th>\n",
       "      <th>compliment_note</th>\n",
       "      <th>compliment_plain</th>\n",
       "      <th>compliment_cool</th>\n",
       "      <th>compliment_funny</th>\n",
       "      <th>compliment_writer</th>\n",
       "      <th>compliment_photos</th>\n",
       "    </tr>\n",
       "  </thead>\n",
       "  <tbody>\n",
       "    <tr>\n",
       "      <th>1030426</th>\n",
       "      <td>8rvn1t0HN8Q3toHCjRNfTw</td>\n",
       "      <td>Dave</td>\n",
       "      <td>3</td>\n",
       "      <td>2010-12-26</td>\n",
       "      <td>196</td>\n",
       "      <td>3</td>\n",
       "      <td>2</td>\n",
       "      <td>0</td>\n",
       "      <td>0</td>\n",
       "      <td>None</td>\n",
       "      <td>...</td>\n",
       "      <td>0</td>\n",
       "      <td>0</td>\n",
       "      <td>0</td>\n",
       "      <td>0</td>\n",
       "      <td>0</td>\n",
       "      <td>0</td>\n",
       "      <td>0</td>\n",
       "      <td>0</td>\n",
       "      <td>0</td>\n",
       "      <td>0</td>\n",
       "    </tr>\n",
       "    <tr>\n",
       "      <th>636576</th>\n",
       "      <td>uLChJ39aVhYKRJUMvOSqfA</td>\n",
       "      <td>Calvin</td>\n",
       "      <td>22</td>\n",
       "      <td>2014-11-16</td>\n",
       "      <td>4</td>\n",
       "      <td>0</td>\n",
       "      <td>0</td>\n",
       "      <td>0</td>\n",
       "      <td>1</td>\n",
       "      <td>None</td>\n",
       "      <td>...</td>\n",
       "      <td>0</td>\n",
       "      <td>0</td>\n",
       "      <td>0</td>\n",
       "      <td>0</td>\n",
       "      <td>0</td>\n",
       "      <td>0</td>\n",
       "      <td>0</td>\n",
       "      <td>0</td>\n",
       "      <td>0</td>\n",
       "      <td>0</td>\n",
       "    </tr>\n",
       "    <tr>\n",
       "      <th>186372</th>\n",
       "      <td>dUkPhsJioU1C9AG7A4Iubg</td>\n",
       "      <td>Nicole</td>\n",
       "      <td>50</td>\n",
       "      <td>2013-01-26</td>\n",
       "      <td>44</td>\n",
       "      <td>1</td>\n",
       "      <td>6</td>\n",
       "      <td>0</td>\n",
       "      <td>2</td>\n",
       "      <td>2017, 2016</td>\n",
       "      <td>...</td>\n",
       "      <td>0</td>\n",
       "      <td>0</td>\n",
       "      <td>0</td>\n",
       "      <td>0</td>\n",
       "      <td>2</td>\n",
       "      <td>1</td>\n",
       "      <td>2</td>\n",
       "      <td>2</td>\n",
       "      <td>0</td>\n",
       "      <td>0</td>\n",
       "    </tr>\n",
       "    <tr>\n",
       "      <th>1061245</th>\n",
       "      <td>ecZ3G0p_n9SXA2XBG-HiaQ</td>\n",
       "      <td>Christina</td>\n",
       "      <td>412</td>\n",
       "      <td>2007-01-02</td>\n",
       "      <td>256</td>\n",
       "      <td>679</td>\n",
       "      <td>702</td>\n",
       "      <td>351</td>\n",
       "      <td>74</td>\n",
       "      <td>2013, 2017, 2009, 2015, 2010, 2011, 2007, 2008...</td>\n",
       "      <td>...</td>\n",
       "      <td>11</td>\n",
       "      <td>6</td>\n",
       "      <td>17</td>\n",
       "      <td>4</td>\n",
       "      <td>75</td>\n",
       "      <td>115</td>\n",
       "      <td>173</td>\n",
       "      <td>173</td>\n",
       "      <td>91</td>\n",
       "      <td>17</td>\n",
       "    </tr>\n",
       "    <tr>\n",
       "      <th>12415</th>\n",
       "      <td>hXDHQ6Uow_VJd718UQoXBg</td>\n",
       "      <td>Rashawn</td>\n",
       "      <td>1</td>\n",
       "      <td>2013-10-26</td>\n",
       "      <td>0</td>\n",
       "      <td>0</td>\n",
       "      <td>0</td>\n",
       "      <td>0</td>\n",
       "      <td>0</td>\n",
       "      <td>None</td>\n",
       "      <td>...</td>\n",
       "      <td>0</td>\n",
       "      <td>0</td>\n",
       "      <td>0</td>\n",
       "      <td>0</td>\n",
       "      <td>0</td>\n",
       "      <td>0</td>\n",
       "      <td>0</td>\n",
       "      <td>0</td>\n",
       "      <td>0</td>\n",
       "      <td>0</td>\n",
       "    </tr>\n",
       "    <tr>\n",
       "      <th>804590</th>\n",
       "      <td>1HYGF1eY_stiplq1hUNOMg</td>\n",
       "      <td>Amanda</td>\n",
       "      <td>4</td>\n",
       "      <td>2015-06-20</td>\n",
       "      <td>0</td>\n",
       "      <td>0</td>\n",
       "      <td>0</td>\n",
       "      <td>0</td>\n",
       "      <td>0</td>\n",
       "      <td>None</td>\n",
       "      <td>...</td>\n",
       "      <td>0</td>\n",
       "      <td>0</td>\n",
       "      <td>0</td>\n",
       "      <td>0</td>\n",
       "      <td>0</td>\n",
       "      <td>0</td>\n",
       "      <td>0</td>\n",
       "      <td>0</td>\n",
       "      <td>0</td>\n",
       "      <td>0</td>\n",
       "    </tr>\n",
       "  </tbody>\n",
       "</table>\n",
       "<p>6 rows × 22 columns</p>\n",
       "</div>"
      ],
      "text/plain": [
       "                        user_id       name  review_count yelping_since  \\\n",
       "1030426  8rvn1t0HN8Q3toHCjRNfTw       Dave             3    2010-12-26   \n",
       "636576   uLChJ39aVhYKRJUMvOSqfA     Calvin            22    2014-11-16   \n",
       "186372   dUkPhsJioU1C9AG7A4Iubg     Nicole            50    2013-01-26   \n",
       "1061245  ecZ3G0p_n9SXA2XBG-HiaQ  Christina           412    2007-01-02   \n",
       "12415    hXDHQ6Uow_VJd718UQoXBg    Rashawn             1    2013-10-26   \n",
       "804590   1HYGF1eY_stiplq1hUNOMg     Amanda             4    2015-06-20   \n",
       "\n",
       "         friends  useful  funny  cool  fans  \\\n",
       "1030426      196       3      2     0     0   \n",
       "636576         4       0      0     0     1   \n",
       "186372        44       1      6     0     2   \n",
       "1061245      256     679    702   351    74   \n",
       "12415          0       0      0     0     0   \n",
       "804590         0       0      0     0     0   \n",
       "\n",
       "                                                     elite  ...  \\\n",
       "1030426                                               None  ...   \n",
       "636576                                                None  ...   \n",
       "186372                                          2017, 2016  ...   \n",
       "1061245  2013, 2017, 2009, 2015, 2010, 2011, 2007, 2008...  ...   \n",
       "12415                                                 None  ...   \n",
       "804590                                                None  ...   \n",
       "\n",
       "         compliment_more  compliment_profile  compliment_cute  \\\n",
       "1030426                0                   0                0   \n",
       "636576                 0                   0                0   \n",
       "186372                 0                   0                0   \n",
       "1061245               11                   6               17   \n",
       "12415                  0                   0                0   \n",
       "804590                 0                   0                0   \n",
       "\n",
       "         compliment_list  compliment_note  compliment_plain  compliment_cool  \\\n",
       "1030426                0                0                 0                0   \n",
       "636576                 0                0                 0                0   \n",
       "186372                 0                2                 1                2   \n",
       "1061245                4               75               115              173   \n",
       "12415                  0                0                 0                0   \n",
       "804590                 0                0                 0                0   \n",
       "\n",
       "         compliment_funny  compliment_writer  compliment_photos  \n",
       "1030426                 0                  0                  0  \n",
       "636576                  0                  0                  0  \n",
       "186372                  2                  0                  0  \n",
       "1061245               173                 91                 17  \n",
       "12415                   0                  0                  0  \n",
       "804590                  0                  0                  0  \n",
       "\n",
       "[6 rows x 22 columns]"
      ]
     },
     "execution_count": 29,
     "metadata": {},
     "output_type": "execute_result"
    }
   ],
   "source": [
    "df_user.sample(6)"
   ]
  },
  {
   "cell_type": "code",
   "execution_count": 30,
   "metadata": {},
   "outputs": [
    {
     "data": {
      "text/html": [
       "<div>\n",
       "<style scoped>\n",
       "    .dataframe tbody tr th:only-of-type {\n",
       "        vertical-align: middle;\n",
       "    }\n",
       "\n",
       "    .dataframe tbody tr th {\n",
       "        vertical-align: top;\n",
       "    }\n",
       "\n",
       "    .dataframe thead th {\n",
       "        text-align: right;\n",
       "    }\n",
       "</style>\n",
       "<table border=\"1\" class=\"dataframe\">\n",
       "  <thead>\n",
       "    <tr style=\"text-align: right;\">\n",
       "      <th></th>\n",
       "      <th>Minimum</th>\n",
       "      <th>Maximum</th>\n",
       "      <th>#NA</th>\n",
       "      <th>dtypes</th>\n",
       "    </tr>\n",
       "  </thead>\n",
       "  <tbody>\n",
       "    <tr>\n",
       "      <th>user_id</th>\n",
       "      <td>---1lKK3aKOuomHnwAkAow</td>\n",
       "      <td>zzzmshdEWLFCApxETl1TGQ</td>\n",
       "      <td>0</td>\n",
       "      <td>object</td>\n",
       "    </tr>\n",
       "    <tr>\n",
       "      <th>review_count</th>\n",
       "      <td>0</td>\n",
       "      <td>11954</td>\n",
       "      <td>0</td>\n",
       "      <td>int64</td>\n",
       "    </tr>\n",
       "    <tr>\n",
       "      <th>yelping_since</th>\n",
       "      <td>2004-10-12</td>\n",
       "      <td>2017-12-11</td>\n",
       "      <td>0</td>\n",
       "      <td>object</td>\n",
       "    </tr>\n",
       "    <tr>\n",
       "      <th>friends</th>\n",
       "      <td>0</td>\n",
       "      <td>14995</td>\n",
       "      <td>0</td>\n",
       "      <td>int64</td>\n",
       "    </tr>\n",
       "    <tr>\n",
       "      <th>useful</th>\n",
       "      <td>0</td>\n",
       "      <td>224710</td>\n",
       "      <td>0</td>\n",
       "      <td>int64</td>\n",
       "    </tr>\n",
       "    <tr>\n",
       "      <th>funny</th>\n",
       "      <td>0</td>\n",
       "      <td>212761</td>\n",
       "      <td>0</td>\n",
       "      <td>int64</td>\n",
       "    </tr>\n",
       "    <tr>\n",
       "      <th>cool</th>\n",
       "      <td>0</td>\n",
       "      <td>222416</td>\n",
       "      <td>0</td>\n",
       "      <td>int64</td>\n",
       "    </tr>\n",
       "    <tr>\n",
       "      <th>fans</th>\n",
       "      <td>0</td>\n",
       "      <td>7009</td>\n",
       "      <td>0</td>\n",
       "      <td>int64</td>\n",
       "    </tr>\n",
       "    <tr>\n",
       "      <th>elite</th>\n",
       "      <td>2005</td>\n",
       "      <td>None</td>\n",
       "      <td>0</td>\n",
       "      <td>object</td>\n",
       "    </tr>\n",
       "    <tr>\n",
       "      <th>average_stars</th>\n",
       "      <td>1</td>\n",
       "      <td>5</td>\n",
       "      <td>0</td>\n",
       "      <td>float64</td>\n",
       "    </tr>\n",
       "    <tr>\n",
       "      <th>compliment_hot</th>\n",
       "      <td>0</td>\n",
       "      <td>24293</td>\n",
       "      <td>0</td>\n",
       "      <td>int64</td>\n",
       "    </tr>\n",
       "    <tr>\n",
       "      <th>compliment_more</th>\n",
       "      <td>0</td>\n",
       "      <td>13478</td>\n",
       "      <td>0</td>\n",
       "      <td>int64</td>\n",
       "    </tr>\n",
       "    <tr>\n",
       "      <th>compliment_profile</th>\n",
       "      <td>0</td>\n",
       "      <td>14137</td>\n",
       "      <td>0</td>\n",
       "      <td>int64</td>\n",
       "    </tr>\n",
       "    <tr>\n",
       "      <th>compliment_cute</th>\n",
       "      <td>0</td>\n",
       "      <td>13638</td>\n",
       "      <td>0</td>\n",
       "      <td>int64</td>\n",
       "    </tr>\n",
       "    <tr>\n",
       "      <th>compliment_list</th>\n",
       "      <td>0</td>\n",
       "      <td>12647</td>\n",
       "      <td>0</td>\n",
       "      <td>int64</td>\n",
       "    </tr>\n",
       "    <tr>\n",
       "      <th>compliment_note</th>\n",
       "      <td>0</td>\n",
       "      <td>56960</td>\n",
       "      <td>0</td>\n",
       "      <td>int64</td>\n",
       "    </tr>\n",
       "    <tr>\n",
       "      <th>compliment_plain</th>\n",
       "      <td>0</td>\n",
       "      <td>41835</td>\n",
       "      <td>0</td>\n",
       "      <td>int64</td>\n",
       "    </tr>\n",
       "    <tr>\n",
       "      <th>compliment_cool</th>\n",
       "      <td>0</td>\n",
       "      <td>29765</td>\n",
       "      <td>0</td>\n",
       "      <td>int64</td>\n",
       "    </tr>\n",
       "    <tr>\n",
       "      <th>compliment_funny</th>\n",
       "      <td>0</td>\n",
       "      <td>29765</td>\n",
       "      <td>0</td>\n",
       "      <td>int64</td>\n",
       "    </tr>\n",
       "    <tr>\n",
       "      <th>compliment_writer</th>\n",
       "      <td>0</td>\n",
       "      <td>15403</td>\n",
       "      <td>0</td>\n",
       "      <td>int64</td>\n",
       "    </tr>\n",
       "    <tr>\n",
       "      <th>compliment_photos</th>\n",
       "      <td>0</td>\n",
       "      <td>82580</td>\n",
       "      <td>0</td>\n",
       "      <td>int64</td>\n",
       "    </tr>\n",
       "    <tr>\n",
       "      <th>name</th>\n",
       "      <td>NaN</td>\n",
       "      <td>NaN</td>\n",
       "      <td>497</td>\n",
       "      <td>object</td>\n",
       "    </tr>\n",
       "  </tbody>\n",
       "</table>\n",
       "</div>"
      ],
      "text/plain": [
       "                                   Minimum                 Maximum  #NA  \\\n",
       "user_id             ---1lKK3aKOuomHnwAkAow  zzzmshdEWLFCApxETl1TGQ    0   \n",
       "review_count                             0                   11954    0   \n",
       "yelping_since                   2004-10-12              2017-12-11    0   \n",
       "friends                                  0                   14995    0   \n",
       "useful                                   0                  224710    0   \n",
       "funny                                    0                  212761    0   \n",
       "cool                                     0                  222416    0   \n",
       "fans                                     0                    7009    0   \n",
       "elite                                 2005                    None    0   \n",
       "average_stars                            1                       5    0   \n",
       "compliment_hot                           0                   24293    0   \n",
       "compliment_more                          0                   13478    0   \n",
       "compliment_profile                       0                   14137    0   \n",
       "compliment_cute                          0                   13638    0   \n",
       "compliment_list                          0                   12647    0   \n",
       "compliment_note                          0                   56960    0   \n",
       "compliment_plain                         0                   41835    0   \n",
       "compliment_cool                          0                   29765    0   \n",
       "compliment_funny                         0                   29765    0   \n",
       "compliment_writer                        0                   15403    0   \n",
       "compliment_photos                        0                   82580    0   \n",
       "name                                   NaN                     NaN  497   \n",
       "\n",
       "                     dtypes  \n",
       "user_id              object  \n",
       "review_count          int64  \n",
       "yelping_since        object  \n",
       "friends               int64  \n",
       "useful                int64  \n",
       "funny                 int64  \n",
       "cool                  int64  \n",
       "fans                  int64  \n",
       "elite                object  \n",
       "average_stars       float64  \n",
       "compliment_hot        int64  \n",
       "compliment_more       int64  \n",
       "compliment_profile    int64  \n",
       "compliment_cute       int64  \n",
       "compliment_list       int64  \n",
       "compliment_note       int64  \n",
       "compliment_plain      int64  \n",
       "compliment_cool       int64  \n",
       "compliment_funny      int64  \n",
       "compliment_writer     int64  \n",
       "compliment_photos     int64  \n",
       "name                 object  "
      ]
     },
     "execution_count": 30,
     "metadata": {},
     "output_type": "execute_result"
    }
   ],
   "source": [
    "my_df_summary(df_user)"
   ]
  },
  {
   "cell_type": "code",
   "execution_count": 31,
   "metadata": {},
   "outputs": [
    {
     "data": {
      "text/plain": [
       "user_id                 0\n",
       "name                  497\n",
       "review_count            0\n",
       "yelping_since           0\n",
       "friends                 0\n",
       "useful                  0\n",
       "funny                   0\n",
       "cool                    0\n",
       "fans                    0\n",
       "elite                   0\n",
       "average_stars           0\n",
       "compliment_hot          0\n",
       "compliment_more         0\n",
       "compliment_profile      0\n",
       "compliment_cute         0\n",
       "compliment_list         0\n",
       "compliment_note         0\n",
       "compliment_plain        0\n",
       "compliment_cool         0\n",
       "compliment_funny        0\n",
       "compliment_writer       0\n",
       "compliment_photos       0\n",
       "dtype: int64"
      ]
     },
     "execution_count": 31,
     "metadata": {},
     "output_type": "execute_result"
    }
   ],
   "source": [
    "df_user.isna().sum()"
   ]
  },
  {
   "cell_type": "code",
   "execution_count": 32,
   "metadata": {},
   "outputs": [],
   "source": [
    "df_user.name = df_user.name.fillna('no_name')"
   ]
  },
  {
   "cell_type": "code",
   "execution_count": 33,
   "metadata": {},
   "outputs": [],
   "source": [
    "df_user.to_csv('data_clean/user_version_01.csv',index=False)"
   ]
  },
  {
   "cell_type": "markdown",
   "metadata": {},
   "source": [
    "### remove some columns"
   ]
  },
  {
   "cell_type": "code",
   "execution_count": 34,
   "metadata": {},
   "outputs": [
    {
     "data": {
      "text/plain": [
       "Index(['user_id', 'name', 'review_count', 'yelping_since', 'friends', 'useful',\n",
       "       'funny', 'cool', 'fans', 'elite', 'average_stars', 'compliment_hot',\n",
       "       'compliment_more', 'compliment_profile', 'compliment_cute',\n",
       "       'compliment_list', 'compliment_note', 'compliment_plain',\n",
       "       'compliment_cool', 'compliment_funny', 'compliment_writer',\n",
       "       'compliment_photos'],\n",
       "      dtype='object')"
      ]
     },
     "execution_count": 34,
     "metadata": {},
     "output_type": "execute_result"
    }
   ],
   "source": [
    "df_user.columns"
   ]
  },
  {
   "cell_type": "code",
   "execution_count": 35,
   "metadata": {},
   "outputs": [
    {
     "data": {
      "text/plain": [
       "Index(['user_id', 'name', 'review_count', 'yelping_since', 'friends', 'useful',\n",
       "       'funny', 'cool', 'fans', 'average_stars', 'compliment_hot',\n",
       "       'compliment_more', 'compliment_profile', 'compliment_cute',\n",
       "       'compliment_list', 'compliment_note', 'compliment_plain',\n",
       "       'compliment_cool', 'compliment_funny', 'compliment_writer',\n",
       "       'compliment_photos'],\n",
       "      dtype='object')"
      ]
     },
     "execution_count": 35,
     "metadata": {},
     "output_type": "execute_result"
    }
   ],
   "source": [
    "cols_to_drop = ['elite']\n",
    "try:\n",
    "    df_user = df_user.drop(cols_to_drop,axis=1)\n",
    "except:\n",
    "    pass\n",
    "df_user.columns"
   ]
  },
  {
   "cell_type": "code",
   "execution_count": 36,
   "metadata": {},
   "outputs": [],
   "source": [
    "df_user.to_csv('data_clean/user_large.csv',index=False)"
   ]
  },
  {
   "cell_type": "code",
   "execution_count": 37,
   "metadata": {},
   "outputs": [
    {
     "data": {
      "text/plain": [
       "Index(['user_id', 'name', 'review_count', 'yelping_since', 'friends',\n",
       "       'average_stars'],\n",
       "      dtype='object')"
      ]
     },
     "execution_count": 37,
     "metadata": {},
     "output_type": "execute_result"
    }
   ],
   "source": [
    "cols_to_drop = ['useful', 'funny', 'cool', 'fans', 'compliment_hot',\n",
    "       'compliment_more', 'compliment_profile', 'compliment_cute',\n",
    "       'compliment_list', 'compliment_note', 'compliment_plain',\n",
    "       'compliment_cool', 'compliment_funny', 'compliment_writer',\n",
    "       'compliment_photos']\n",
    "try:\n",
    "    df_user = df_user.drop(cols_to_drop,axis=1)\n",
    "except:\n",
    "    pass\n",
    "df_user.columns"
   ]
  },
  {
   "cell_type": "code",
   "execution_count": 38,
   "metadata": {},
   "outputs": [],
   "source": [
    "df_user.to_csv('data_clean/user_small.csv',index=False)"
   ]
  },
  {
   "cell_type": "markdown",
   "metadata": {},
   "source": [
    "### Some preliminary graphs"
   ]
  },
  {
   "cell_type": "code",
   "execution_count": 41,
   "metadata": {},
   "outputs": [
    {
     "data": {
      "text/plain": [
       "<matplotlib.axes._subplots.AxesSubplot at 0x2b32a0a1408>"
      ]
     },
     "execution_count": 41,
     "metadata": {},
     "output_type": "execute_result"
    },
    {
     "data": {
      "text/plain": [
       "<matplotlib.axes._subplots.AxesSubplot at 0x2b329b6e688>"
      ]
     },
     "execution_count": 41,
     "metadata": {},
     "output_type": "execute_result"
    },
    {
     "data": {
      "text/plain": [
       "Text(0.5, 0.98, 'Distribution of average star')"
      ]
     },
     "execution_count": 41,
     "metadata": {},
     "output_type": "execute_result"
    },
    {
     "data": {
      "text/plain": [
       "Text(0.5, 1.0, 'review_count < 15')"
      ]
     },
     "execution_count": 41,
     "metadata": {},
     "output_type": "execute_result"
    },
    {
     "data": {
      "text/plain": [
       "Text(0.5, 1.0, 'review_count > 15')"
      ]
     },
     "execution_count": 41,
     "metadata": {},
     "output_type": "execute_result"
    },
    {
     "data": {
      "image/png": "[encoded data removed]",
      "text/plain": [
       "<Figure size 864x432 with 2 Axes>"
      ]
     },
     "metadata": {},
     "output_type": "display_data"
    }
   ],
   "source": [
    "sns.set()\n",
    "cut_number = 15\n",
    "df_plot_1 = df_user[df_user.review_count<cut_number]\n",
    "df_plot_2 = df_user[df_user.review_count>cut_number]\n",
    "\n",
    "fig,(ax1,ax2) = plt.subplots(1,2,figsize=(12,6))\n",
    "df_plot_1.average_stars.plot(kind='hist', color='deepskyblue', bins=30, ax=ax1)\n",
    "df_plot_2.average_stars.plot(kind='hist', color='deeppink', bins=30, ax=ax2)\n",
    "\n",
    "fig.suptitle('Distribution of average star', fontsize=20)\n",
    "ax1.set_title('review_count < 15', fontsize=14)\n",
    "ax2.set_title('review_count > 15', fontsize=14)\n",
    "# ax1.xlabel('averaged star', fontsize=14)\n",
    "# ax1.ylabel('Frequency',fontsize=20)\n",
    "# plt.savefig('name.jpg', dpi=300) \n",
    "plt.show()"
   ]
  },
  {
   "cell_type": "code",
   "execution_count": null,
   "metadata": {},
   "outputs": [],
   "source": []
  },
  {
   "cell_type": "code",
   "execution_count": 42,
   "metadata": {},
   "outputs": [
    {
     "data": {
      "text/plain": [
       "<matplotlib.axes._subplots.AxesSubplot at 0x2b3290a8d08>"
      ]
     },
     "execution_count": 42,
     "metadata": {},
     "output_type": "execute_result"
    },
    {
     "data": {
      "text/plain": [
       "<matplotlib.axes._subplots.AxesSubplot at 0x2b3290a8d08>"
      ]
     },
     "execution_count": 42,
     "metadata": {},
     "output_type": "execute_result"
    },
    {
     "data": {
      "text/plain": [
       "<matplotlib.legend.Legend at 0x2b329204088>"
      ]
     },
     "execution_count": 42,
     "metadata": {},
     "output_type": "execute_result"
    },
    {
     "data": {
      "text/plain": [
       "Text(0.5, 1.0, 'Average stars distribution')"
      ]
     },
     "execution_count": 42,
     "metadata": {},
     "output_type": "execute_result"
    },
    {
     "data": {
      "text/plain": [
       "Text(0.5, 0, 'Average star')"
      ]
     },
     "execution_count": 42,
     "metadata": {},
     "output_type": "execute_result"
    },
    {
     "data": {
      "text/plain": [
       "Text(0, 0.5, 'Frequency')"
      ]
     },
     "execution_count": 42,
     "metadata": {},
     "output_type": "execute_result"
    },
    {
     "data": {
      "image/png": "[encoded data removed]",
      "text/plain": [
       "<Figure size 864x432 with 1 Axes>"
      ]
     },
     "metadata": {},
     "output_type": "display_data"
    }
   ],
   "source": [
    "fig,ax1 = plt.subplots(figsize=(12,6))\n",
    "cut_number = 15\n",
    "df_plot_1 = df_user[df_user.review_count<cut_number]\n",
    "df_plot_2 = df_user[df_user.review_count>cut_number]\n",
    "\n",
    "sns.distplot(df_plot_1.average_stars, hist = True, kde = False, label='review_count<15', color = 'deepskyblue', ax=ax1)\n",
    "sns.distplot(df_plot_2.average_stars, hist = True, kde = False, label='review_count>15', color = 'deeppink', ax=ax1)\n",
    "# sns.distplot(df_W1.BMI, hist = True, kde = True, label='not healthy', color = 'deeppink', ax=ax1)\n",
    "# Plot formatting\n",
    "plt.legend(prop={'size': 12})\n",
    "plt.title('Average stars distribution')\n",
    "plt.xlabel('Average star')\n",
    "# plt.xlim(0,30000)\n",
    "plt.ylabel('Frequency') \n",
    "# plt.yscale('log')"
   ]
  },
  {
   "cell_type": "code",
   "execution_count": 43,
   "metadata": {},
   "outputs": [
    {
     "data": {
      "text/plain": [
       "<matplotlib.axes._subplots.AxesSubplot at 0x2b32897f048>"
      ]
     },
     "execution_count": 43,
     "metadata": {},
     "output_type": "execute_result"
    },
    {
     "data": {
      "image/png": "[encoded data removed]",
      "text/plain": [
       "<Figure size 432x288 with 1 Axes>"
      ]
     },
     "metadata": {},
     "output_type": "display_data"
    }
   ],
   "source": [
    "sns.distplot(df_user.friends[df_user.friends>-10], hist = True, kde = False, label='firends', color = 'deeppink')\n",
    "plt.yscale('log')"
   ]
  },
  {
   "cell_type": "code",
   "execution_count": 44,
   "metadata": {},
   "outputs": [
    {
     "data": {
      "text/plain": [
       "<matplotlib.axes._subplots.AxesSubplot at 0x2b327500c48>"
      ]
     },
     "execution_count": 44,
     "metadata": {},
     "output_type": "execute_result"
    },
    {
     "data": {
      "image/png": "[encoded data removed]",
      "text/plain": [
       "<Figure size 432x288 with 1 Axes>"
      ]
     },
     "metadata": {},
     "output_type": "display_data"
    }
   ],
   "source": [
    "sns.scatterplot(df_user.friends[(df_user.review_count>10)],df_user.average_stars[(df_user.review_count>10)], label='firends', color = 'deeppink')"
   ]
  },
  {
   "cell_type": "code",
   "execution_count": 45,
   "metadata": {},
   "outputs": [
    {
     "data": {
      "text/plain": [
       "<matplotlib.axes._subplots.AxesSubplot at 0x2b326ba0cc8>"
      ]
     },
     "execution_count": 45,
     "metadata": {},
     "output_type": "execute_result"
    },
    {
     "data": {
      "image/png": "[encoded data removed]",
      "text/plain": [
       "<Figure size 432x288 with 1 Axes>"
      ]
     },
     "metadata": {},
     "output_type": "display_data"
    }
   ],
   "source": [
    "sns.scatterplot(df_user.review_count[(df_user.review_count>10)],df_user.average_stars[(df_user.review_count>10)], label='review numbers', color = 'teal')"
   ]
  },
  {
   "cell_type": "code",
   "execution_count": 46,
   "metadata": {},
   "outputs": [
    {
     "data": {
      "text/plain": [
       "<matplotlib.axes._subplots.AxesSubplot at 0x2b326bc0148>"
      ]
     },
     "execution_count": 46,
     "metadata": {},
     "output_type": "execute_result"
    },
    {
     "data": {
      "image/png": "[encoded data removed]",
      "text/plain": [
       "<Figure size 432x288 with 1 Axes>"
      ]
     },
     "metadata": {},
     "output_type": "display_data"
    }
   ],
   "source": [
    "sns.scatterplot(df_user.friends[(df_user.review_count>10)],df_user.review_count[(df_user.review_count>10)], label='review count & friends number', color = 'blue')"
   ]
  },
  {
   "cell_type": "markdown",
   "metadata": {},
   "source": [
    "## Cleaning df_review"
   ]
  },
  {
   "cell_type": "code",
   "execution_count": 47,
   "metadata": {},
   "outputs": [
    {
     "name": "stdout",
     "output_type": "stream",
     "text": [
      "DataFrame 'df_review' is ready\n"
     ]
    }
   ],
   "source": [
    "df_review = pd.read_csv('F:\\\\Yelp\\\\big_data\\\\yelp_review.csv')\n",
    "print(f\"DataFrame 'df_review' is ready\")"
   ]
  },
  {
   "cell_type": "code",
   "execution_count": 48,
   "metadata": {},
   "outputs": [
    {
     "data": {
      "text/plain": [
       "Index(['review_id', 'user_id', 'business_id', 'stars', 'date', 'text',\n",
       "       'useful', 'funny', 'cool'],\n",
       "      dtype='object')"
      ]
     },
     "execution_count": 48,
     "metadata": {},
     "output_type": "execute_result"
    }
   ],
   "source": [
    "df_review.columns"
   ]
  },
  {
   "cell_type": "code",
   "execution_count": 49,
   "metadata": {},
   "outputs": [
    {
     "name": "stdout",
     "output_type": "stream",
     "text": [
      "<class 'pandas.core.frame.DataFrame'>\n",
      "RangeIndex: 5261668 entries, 0 to 5261667\n",
      "Data columns (total 9 columns):\n",
      "review_id      object\n",
      "user_id        object\n",
      "business_id    object\n",
      "stars          int64\n",
      "date           object\n",
      "text           object\n",
      "useful         int64\n",
      "funny          int64\n",
      "cool           int64\n",
      "dtypes: int64(4), object(5)\n",
      "memory usage: 361.3+ MB\n"
     ]
    }
   ],
   "source": [
    "df_review.info()"
   ]
  },
  {
   "cell_type": "code",
   "execution_count": 50,
   "metadata": {},
   "outputs": [
    {
     "data": {
      "text/html": [
       "<div>\n",
       "<style scoped>\n",
       "    .dataframe tbody tr th:only-of-type {\n",
       "        vertical-align: middle;\n",
       "    }\n",
       "\n",
       "    .dataframe tbody tr th {\n",
       "        vertical-align: top;\n",
       "    }\n",
       "\n",
       "    .dataframe thead th {\n",
       "        text-align: right;\n",
       "    }\n",
       "</style>\n",
       "<table border=\"1\" class=\"dataframe\">\n",
       "  <thead>\n",
       "    <tr style=\"text-align: right;\">\n",
       "      <th></th>\n",
       "      <th>Minimum</th>\n",
       "      <th>Maximum</th>\n",
       "      <th>#NA</th>\n",
       "      <th>dtypes</th>\n",
       "    </tr>\n",
       "  </thead>\n",
       "  <tbody>\n",
       "    <tr>\n",
       "      <th>review_id</th>\n",
       "      <td>----X0BIDP9tA49U3RvdSQ</td>\n",
       "      <td>zzzuOUz7Owtf4EEHvX0m0g</td>\n",
       "      <td>0</td>\n",
       "      <td>object</td>\n",
       "    </tr>\n",
       "    <tr>\n",
       "      <th>user_id</th>\n",
       "      <td>---1lKK3aKOuomHnwAkAow</td>\n",
       "      <td>zzzmshdEWLFCApxETl1TGQ</td>\n",
       "      <td>0</td>\n",
       "      <td>object</td>\n",
       "    </tr>\n",
       "    <tr>\n",
       "      <th>business_id</th>\n",
       "      <td>--6MefnULPED_I942VcFNA</td>\n",
       "      <td>zzzaIBwimxVej4tY6qFOUQ</td>\n",
       "      <td>0</td>\n",
       "      <td>object</td>\n",
       "    </tr>\n",
       "    <tr>\n",
       "      <th>stars</th>\n",
       "      <td>1</td>\n",
       "      <td>5</td>\n",
       "      <td>0</td>\n",
       "      <td>int64</td>\n",
       "    </tr>\n",
       "    <tr>\n",
       "      <th>date</th>\n",
       "      <td>2004-07-22</td>\n",
       "      <td>2017-12-11</td>\n",
       "      <td>0</td>\n",
       "      <td>object</td>\n",
       "    </tr>\n",
       "    <tr>\n",
       "      <th>text</th>\n",
       "      <td>\\nHi Senior Pastor Brian:\\nJust checking on a ...</td>\n",
       "      <td>５　感動しました！大好きです。\\n４　美味しい！沢山の人に紹介したい！\\n３　アベレージ！\\...</td>\n",
       "      <td>0</td>\n",
       "      <td>object</td>\n",
       "    </tr>\n",
       "    <tr>\n",
       "      <th>useful</th>\n",
       "      <td>-1</td>\n",
       "      <td>3364</td>\n",
       "      <td>0</td>\n",
       "      <td>int64</td>\n",
       "    </tr>\n",
       "    <tr>\n",
       "      <th>funny</th>\n",
       "      <td>0</td>\n",
       "      <td>1481</td>\n",
       "      <td>0</td>\n",
       "      <td>int64</td>\n",
       "    </tr>\n",
       "    <tr>\n",
       "      <th>cool</th>\n",
       "      <td>-1</td>\n",
       "      <td>1105</td>\n",
       "      <td>0</td>\n",
       "      <td>int64</td>\n",
       "    </tr>\n",
       "  </tbody>\n",
       "</table>\n",
       "</div>"
      ],
      "text/plain": [
       "                                                       Minimum  \\\n",
       "review_id                               ----X0BIDP9tA49U3RvdSQ   \n",
       "user_id                                 ---1lKK3aKOuomHnwAkAow   \n",
       "business_id                             --6MefnULPED_I942VcFNA   \n",
       "stars                                                        1   \n",
       "date                                                2004-07-22   \n",
       "text         \\nHi Senior Pastor Brian:\\nJust checking on a ...   \n",
       "useful                                                      -1   \n",
       "funny                                                        0   \n",
       "cool                                                        -1   \n",
       "\n",
       "                                                       Maximum #NA  dtypes  \n",
       "review_id                               zzzuOUz7Owtf4EEHvX0m0g   0  object  \n",
       "user_id                                 zzzmshdEWLFCApxETl1TGQ   0  object  \n",
       "business_id                             zzzaIBwimxVej4tY6qFOUQ   0  object  \n",
       "stars                                                        5   0   int64  \n",
       "date                                                2017-12-11   0  object  \n",
       "text         ５　感動しました！大好きです。\\n４　美味しい！沢山の人に紹介したい！\\n３　アベレージ！\\...   0  object  \n",
       "useful                                                    3364   0   int64  \n",
       "funny                                                     1481   0   int64  \n",
       "cool                                                      1105   0   int64  "
      ]
     },
     "execution_count": 50,
     "metadata": {},
     "output_type": "execute_result"
    }
   ],
   "source": [
    "my_df_summary(df_review)"
   ]
  },
  {
   "cell_type": "code",
   "execution_count": 51,
   "metadata": {},
   "outputs": [],
   "source": [
    "df_review.date = pd.to_datetime(df_review.date, format='%Y-%m-%d', errors='ignore')"
   ]
  },
  {
   "cell_type": "code",
   "execution_count": 52,
   "metadata": {},
   "outputs": [
    {
     "data": {
      "text/plain": [
       "1340062   2014-08-26\n",
       "1219007   2017-12-02\n",
       "4419533   2012-09-17\n",
       "3975828   2017-11-28\n",
       "1996918   2017-07-28\n",
       "1572709   2015-05-30\n",
       "764741    2015-01-12\n",
       "5230278   2015-08-10\n",
       "368091    2017-03-15\n",
       "3497425   2016-02-14\n",
       "Name: date, dtype: datetime64[ns]"
      ]
     },
     "execution_count": 52,
     "metadata": {},
     "output_type": "execute_result"
    }
   ],
   "source": [
    "df_review.date.sample(10)"
   ]
  },
  {
   "cell_type": "markdown",
   "metadata": {},
   "source": [
    "new column with day of the week: monday-...-Sunday."
   ]
  },
  {
   "cell_type": "code",
   "execution_count": 53,
   "metadata": {},
   "outputs": [],
   "source": [
    "df_review['day_of_week'] =  df_review.date.dt.day_name()"
   ]
  },
  {
   "cell_type": "code",
   "execution_count": 54,
   "metadata": {},
   "outputs": [
    {
     "data": {
      "text/plain": [
       "Index(['review_id', 'user_id', 'business_id', 'stars', 'date', 'text',\n",
       "       'useful', 'funny', 'cool', 'day_of_week'],\n",
       "      dtype='object')"
      ]
     },
     "execution_count": 54,
     "metadata": {},
     "output_type": "execute_result"
    }
   ],
   "source": [
    "df_review.columns"
   ]
  },
  {
   "cell_type": "code",
   "execution_count": 55,
   "metadata": {},
   "outputs": [
    {
     "data": {
      "text/plain": [
       "808111        Friday\n",
       "350329      Saturday\n",
       "3388786       Sunday\n",
       "5194844    Wednesday\n",
       "1748826       Sunday\n",
       "Name: day_of_week, dtype: object"
      ]
     },
     "execution_count": 55,
     "metadata": {},
     "output_type": "execute_result"
    }
   ],
   "source": [
    "df_review.day_of_week.sample(5)"
   ]
  },
  {
   "cell_type": "code",
   "execution_count": 56,
   "metadata": {},
   "outputs": [
    {
     "data": {
      "text/html": [
       "<div>\n",
       "<style scoped>\n",
       "    .dataframe tbody tr th:only-of-type {\n",
       "        vertical-align: middle;\n",
       "    }\n",
       "\n",
       "    .dataframe tbody tr th {\n",
       "        vertical-align: top;\n",
       "    }\n",
       "\n",
       "    .dataframe thead th {\n",
       "        text-align: right;\n",
       "    }\n",
       "</style>\n",
       "<table border=\"1\" class=\"dataframe\">\n",
       "  <thead>\n",
       "    <tr style=\"text-align: right;\">\n",
       "      <th></th>\n",
       "      <th>Day</th>\n",
       "      <th>Count</th>\n",
       "    </tr>\n",
       "  </thead>\n",
       "  <tbody>\n",
       "    <tr>\n",
       "      <th>0</th>\n",
       "      <td>Sunday</td>\n",
       "      <td>794745</td>\n",
       "    </tr>\n",
       "    <tr>\n",
       "      <th>1</th>\n",
       "      <td>Monday</td>\n",
       "      <td>793559</td>\n",
       "    </tr>\n",
       "    <tr>\n",
       "      <th>2</th>\n",
       "      <td>Wednesday</td>\n",
       "      <td>753938</td>\n",
       "    </tr>\n",
       "    <tr>\n",
       "      <th>3</th>\n",
       "      <td>Saturday</td>\n",
       "      <td>749882</td>\n",
       "    </tr>\n",
       "    <tr>\n",
       "      <th>4</th>\n",
       "      <td>Tuesday</td>\n",
       "      <td>747057</td>\n",
       "    </tr>\n",
       "    <tr>\n",
       "      <th>5</th>\n",
       "      <td>Thursday</td>\n",
       "      <td>712783</td>\n",
       "    </tr>\n",
       "    <tr>\n",
       "      <th>6</th>\n",
       "      <td>Friday</td>\n",
       "      <td>709704</td>\n",
       "    </tr>\n",
       "  </tbody>\n",
       "</table>\n",
       "</div>"
      ],
      "text/plain": [
       "         Day   Count\n",
       "0     Sunday  794745\n",
       "1     Monday  793559\n",
       "2  Wednesday  753938\n",
       "3   Saturday  749882\n",
       "4    Tuesday  747057\n",
       "5   Thursday  712783\n",
       "6     Friday  709704"
      ]
     },
     "execution_count": 56,
     "metadata": {},
     "output_type": "execute_result"
    }
   ],
   "source": [
    "df_review_days = pd.DataFrame(df_review.date.dt.day_name().value_counts(dropna=False))\n",
    "df_review_days = df_review_days.reset_index()\n",
    "df_review_days.columns=['Day', 'Count']\n",
    "df_review_days"
   ]
  },
  {
   "cell_type": "code",
   "execution_count": 98,
   "metadata": {},
   "outputs": [
    {
     "data": {
      "text/plain": [
       "Text(0.5, 1.0, 'Overall number of reviews grouped by the day of the week')"
      ]
     },
     "execution_count": 98,
     "metadata": {},
     "output_type": "execute_result"
    },
    {
     "data": {
      "image/png": "[encoded data removed]",
      "text/plain": [
       "<Figure size 432x288 with 1 Axes>"
      ]
     },
     "metadata": {},
     "output_type": "display_data"
    }
   ],
   "source": [
    "ax = sns.barplot(x=\"Day\", y=\"Count\", data=df_review_days)\n",
    "plt.title('Overall number of reviews grouped by the day of the week')"
   ]
  },
  {
   "cell_type": "code",
   "execution_count": null,
   "metadata": {},
   "outputs": [],
   "source": []
  },
  {
   "cell_type": "markdown",
   "metadata": {},
   "source": [
    "save new data into csv-file"
   ]
  },
  {
   "cell_type": "code",
   "execution_count": 58,
   "metadata": {},
   "outputs": [],
   "source": [
    "df_review.to_csv('data_clean/review_with_text.csv',index=False)"
   ]
  },
  {
   "cell_type": "markdown",
   "metadata": {},
   "source": [
    "example of data from the table"
   ]
  },
  {
   "cell_type": "code",
   "execution_count": 59,
   "metadata": {},
   "outputs": [
    {
     "data": {
      "text/html": [
       "<div>\n",
       "<style scoped>\n",
       "    .dataframe tbody tr th:only-of-type {\n",
       "        vertical-align: middle;\n",
       "    }\n",
       "\n",
       "    .dataframe tbody tr th {\n",
       "        vertical-align: top;\n",
       "    }\n",
       "\n",
       "    .dataframe thead th {\n",
       "        text-align: right;\n",
       "    }\n",
       "</style>\n",
       "<table border=\"1\" class=\"dataframe\">\n",
       "  <thead>\n",
       "    <tr style=\"text-align: right;\">\n",
       "      <th></th>\n",
       "      <th>review_id</th>\n",
       "      <th>user_id</th>\n",
       "      <th>business_id</th>\n",
       "      <th>stars</th>\n",
       "      <th>date</th>\n",
       "      <th>text</th>\n",
       "      <th>useful</th>\n",
       "      <th>funny</th>\n",
       "      <th>cool</th>\n",
       "      <th>day_of_week</th>\n",
       "    </tr>\n",
       "  </thead>\n",
       "  <tbody>\n",
       "    <tr>\n",
       "      <th>0</th>\n",
       "      <td>vkVSCC7xljjrAI4UGfnKEQ</td>\n",
       "      <td>bv2nCi5Qv5vroFiqKGopiw</td>\n",
       "      <td>AEx2SYEUJmTxVVB18LlCwA</td>\n",
       "      <td>5</td>\n",
       "      <td>2016-05-28</td>\n",
       "      <td>Super simple place but amazing nonetheless. It...</td>\n",
       "      <td>0</td>\n",
       "      <td>0</td>\n",
       "      <td>0</td>\n",
       "      <td>Saturday</td>\n",
       "    </tr>\n",
       "    <tr>\n",
       "      <th>1</th>\n",
       "      <td>n6QzIUObkYshz4dz2QRJTw</td>\n",
       "      <td>bv2nCi5Qv5vroFiqKGopiw</td>\n",
       "      <td>VR6GpWIda3SfvPC-lg9H3w</td>\n",
       "      <td>5</td>\n",
       "      <td>2016-05-28</td>\n",
       "      <td>Small unassuming place that changes their menu...</td>\n",
       "      <td>0</td>\n",
       "      <td>0</td>\n",
       "      <td>0</td>\n",
       "      <td>Saturday</td>\n",
       "    </tr>\n",
       "    <tr>\n",
       "      <th>2</th>\n",
       "      <td>MV3CcKScW05u5LVfF6ok0g</td>\n",
       "      <td>bv2nCi5Qv5vroFiqKGopiw</td>\n",
       "      <td>CKC0-MOWMqoeWf6s-szl8g</td>\n",
       "      <td>5</td>\n",
       "      <td>2016-05-28</td>\n",
       "      <td>Lester's is located in a beautiful neighborhoo...</td>\n",
       "      <td>0</td>\n",
       "      <td>0</td>\n",
       "      <td>0</td>\n",
       "      <td>Saturday</td>\n",
       "    </tr>\n",
       "    <tr>\n",
       "      <th>3</th>\n",
       "      <td>IXvOzsEMYtiJI0CARmj77Q</td>\n",
       "      <td>bv2nCi5Qv5vroFiqKGopiw</td>\n",
       "      <td>ACFtxLv8pGrrxMm6EgjreA</td>\n",
       "      <td>4</td>\n",
       "      <td>2016-05-28</td>\n",
       "      <td>Love coming here. Yes the place always needs t...</td>\n",
       "      <td>0</td>\n",
       "      <td>0</td>\n",
       "      <td>0</td>\n",
       "      <td>Saturday</td>\n",
       "    </tr>\n",
       "    <tr>\n",
       "      <th>4</th>\n",
       "      <td>L_9BTb55X0GDtThi6GlZ6w</td>\n",
       "      <td>bv2nCi5Qv5vroFiqKGopiw</td>\n",
       "      <td>s2I_Ni76bjJNK9yG60iD-Q</td>\n",
       "      <td>4</td>\n",
       "      <td>2016-05-28</td>\n",
       "      <td>Had their chocolate almond croissant and it wa...</td>\n",
       "      <td>0</td>\n",
       "      <td>0</td>\n",
       "      <td>0</td>\n",
       "      <td>Saturday</td>\n",
       "    </tr>\n",
       "    <tr>\n",
       "      <th>5</th>\n",
       "      <td>HRPm3vEZ_F-33TYVT7Pebw</td>\n",
       "      <td>_4iMDXbXZ1p1ONG297YEAQ</td>\n",
       "      <td>8QWPlVQ6D-OExqXoaD2Z1g</td>\n",
       "      <td>5</td>\n",
       "      <td>2014-09-24</td>\n",
       "      <td>Cycle Pub Las Vegas was a blast! Got a groupon...</td>\n",
       "      <td>1</td>\n",
       "      <td>0</td>\n",
       "      <td>0</td>\n",
       "      <td>Wednesday</td>\n",
       "    </tr>\n",
       "    <tr>\n",
       "      <th>6</th>\n",
       "      <td>ymAUG8DZfQcFTBSOiaNN4w</td>\n",
       "      <td>u0LXt3Uea_GidxRW1xcsfg</td>\n",
       "      <td>9_CGhHMz8698M9-PkVf0CQ</td>\n",
       "      <td>4</td>\n",
       "      <td>2012-05-11</td>\n",
       "      <td>Who would have guess that you would be able to...</td>\n",
       "      <td>0</td>\n",
       "      <td>0</td>\n",
       "      <td>2</td>\n",
       "      <td>Friday</td>\n",
       "    </tr>\n",
       "    <tr>\n",
       "      <th>7</th>\n",
       "      <td>8UIishPUD92hXtScSga_gw</td>\n",
       "      <td>u0LXt3Uea_GidxRW1xcsfg</td>\n",
       "      <td>gkCorLgPyQLsptTHalL61g</td>\n",
       "      <td>4</td>\n",
       "      <td>2015-10-27</td>\n",
       "      <td>Always drove past this coffee house and wonder...</td>\n",
       "      <td>1</td>\n",
       "      <td>0</td>\n",
       "      <td>0</td>\n",
       "      <td>Tuesday</td>\n",
       "    </tr>\n",
       "    <tr>\n",
       "      <th>8</th>\n",
       "      <td>w41ZS9shepfO3uEyhXEWuQ</td>\n",
       "      <td>u0LXt3Uea_GidxRW1xcsfg</td>\n",
       "      <td>5r6-G9C4YLbC7Ziz57l3rQ</td>\n",
       "      <td>3</td>\n",
       "      <td>2013-02-09</td>\n",
       "      <td>Not bad!! Love that there is a gluten-free, ve...</td>\n",
       "      <td>1</td>\n",
       "      <td>0</td>\n",
       "      <td>0</td>\n",
       "      <td>Saturday</td>\n",
       "    </tr>\n",
       "    <tr>\n",
       "      <th>9</th>\n",
       "      <td>WF_QTN3p-thD74hqpp2j-Q</td>\n",
       "      <td>u0LXt3Uea_GidxRW1xcsfg</td>\n",
       "      <td>fDF_o2JPU8BR1Gya--jRIA</td>\n",
       "      <td>5</td>\n",
       "      <td>2016-04-06</td>\n",
       "      <td>Love this place!\\n\\nPeggy is great with dogs a...</td>\n",
       "      <td>3</td>\n",
       "      <td>0</td>\n",
       "      <td>0</td>\n",
       "      <td>Wednesday</td>\n",
       "    </tr>\n",
       "  </tbody>\n",
       "</table>\n",
       "</div>"
      ],
      "text/plain": [
       "                review_id                 user_id             business_id  \\\n",
       "0  vkVSCC7xljjrAI4UGfnKEQ  bv2nCi5Qv5vroFiqKGopiw  AEx2SYEUJmTxVVB18LlCwA   \n",
       "1  n6QzIUObkYshz4dz2QRJTw  bv2nCi5Qv5vroFiqKGopiw  VR6GpWIda3SfvPC-lg9H3w   \n",
       "2  MV3CcKScW05u5LVfF6ok0g  bv2nCi5Qv5vroFiqKGopiw  CKC0-MOWMqoeWf6s-szl8g   \n",
       "3  IXvOzsEMYtiJI0CARmj77Q  bv2nCi5Qv5vroFiqKGopiw  ACFtxLv8pGrrxMm6EgjreA   \n",
       "4  L_9BTb55X0GDtThi6GlZ6w  bv2nCi5Qv5vroFiqKGopiw  s2I_Ni76bjJNK9yG60iD-Q   \n",
       "5  HRPm3vEZ_F-33TYVT7Pebw  _4iMDXbXZ1p1ONG297YEAQ  8QWPlVQ6D-OExqXoaD2Z1g   \n",
       "6  ymAUG8DZfQcFTBSOiaNN4w  u0LXt3Uea_GidxRW1xcsfg  9_CGhHMz8698M9-PkVf0CQ   \n",
       "7  8UIishPUD92hXtScSga_gw  u0LXt3Uea_GidxRW1xcsfg  gkCorLgPyQLsptTHalL61g   \n",
       "8  w41ZS9shepfO3uEyhXEWuQ  u0LXt3Uea_GidxRW1xcsfg  5r6-G9C4YLbC7Ziz57l3rQ   \n",
       "9  WF_QTN3p-thD74hqpp2j-Q  u0LXt3Uea_GidxRW1xcsfg  fDF_o2JPU8BR1Gya--jRIA   \n",
       "\n",
       "   stars       date                                               text  \\\n",
       "0      5 2016-05-28  Super simple place but amazing nonetheless. It...   \n",
       "1      5 2016-05-28  Small unassuming place that changes their menu...   \n",
       "2      5 2016-05-28  Lester's is located in a beautiful neighborhoo...   \n",
       "3      4 2016-05-28  Love coming here. Yes the place always needs t...   \n",
       "4      4 2016-05-28  Had their chocolate almond croissant and it wa...   \n",
       "5      5 2014-09-24  Cycle Pub Las Vegas was a blast! Got a groupon...   \n",
       "6      4 2012-05-11  Who would have guess that you would be able to...   \n",
       "7      4 2015-10-27  Always drove past this coffee house and wonder...   \n",
       "8      3 2013-02-09  Not bad!! Love that there is a gluten-free, ve...   \n",
       "9      5 2016-04-06  Love this place!\\n\\nPeggy is great with dogs a...   \n",
       "\n",
       "   useful  funny  cool day_of_week  \n",
       "0       0      0     0    Saturday  \n",
       "1       0      0     0    Saturday  \n",
       "2       0      0     0    Saturday  \n",
       "3       0      0     0    Saturday  \n",
       "4       0      0     0    Saturday  \n",
       "5       1      0     0   Wednesday  \n",
       "6       0      0     2      Friday  \n",
       "7       1      0     0     Tuesday  \n",
       "8       1      0     0    Saturday  \n",
       "9       3      0     0   Wednesday  "
      ]
     },
     "execution_count": 59,
     "metadata": {},
     "output_type": "execute_result"
    }
   ],
   "source": [
    "df_review.head(10)"
   ]
  },
  {
   "cell_type": "code",
   "execution_count": 60,
   "metadata": {},
   "outputs": [],
   "source": [
    "import langdetect"
   ]
  },
  {
   "cell_type": "code",
   "execution_count": 61,
   "metadata": {},
   "outputs": [],
   "source": [
    "from langdetect import detect"
   ]
  },
  {
   "cell_type": "code",
   "execution_count": null,
   "metadata": {},
   "outputs": [],
   "source": []
  },
  {
   "cell_type": "code",
   "execution_count": 62,
   "metadata": {},
   "outputs": [],
   "source": [
    "df_review['language'] = 'unknown'"
   ]
  },
  {
   "cell_type": "code",
   "execution_count": 63,
   "metadata": {},
   "outputs": [
    {
     "data": {
      "text/plain": [
       "Index(['review_id', 'user_id', 'business_id', 'stars', 'date', 'text',\n",
       "       'useful', 'funny', 'cool', 'day_of_week', 'language'],\n",
       "      dtype='object')"
      ]
     },
     "execution_count": 63,
     "metadata": {},
     "output_type": "execute_result"
    }
   ],
   "source": [
    "df_review.columns"
   ]
  },
  {
   "cell_type": "code",
   "execution_count": 90,
   "metadata": {},
   "outputs": [
    {
     "data": {
      "text/html": [
       "<div>\n",
       "<style scoped>\n",
       "    .dataframe tbody tr th:only-of-type {\n",
       "        vertical-align: middle;\n",
       "    }\n",
       "\n",
       "    .dataframe tbody tr th {\n",
       "        vertical-align: top;\n",
       "    }\n",
       "\n",
       "    .dataframe thead th {\n",
       "        text-align: right;\n",
       "    }\n",
       "</style>\n",
       "<table border=\"1\" class=\"dataframe\">\n",
       "  <thead>\n",
       "    <tr style=\"text-align: right;\">\n",
       "      <th></th>\n",
       "      <th>review_id</th>\n",
       "      <th>user_id</th>\n",
       "      <th>business_id</th>\n",
       "      <th>stars</th>\n",
       "      <th>date</th>\n",
       "      <th>text</th>\n",
       "      <th>useful</th>\n",
       "      <th>funny</th>\n",
       "      <th>cool</th>\n",
       "      <th>day_of_week</th>\n",
       "      <th>language</th>\n",
       "    </tr>\n",
       "  </thead>\n",
       "  <tbody>\n",
       "    <tr>\n",
       "      <th>0</th>\n",
       "      <td>vkVSCC7xljjrAI4UGfnKEQ</td>\n",
       "      <td>bv2nCi5Qv5vroFiqKGopiw</td>\n",
       "      <td>AEx2SYEUJmTxVVB18LlCwA</td>\n",
       "      <td>5</td>\n",
       "      <td>2016-05-28</td>\n",
       "      <td>Super simple place but amazing nonetheless. It...</td>\n",
       "      <td>0</td>\n",
       "      <td>0</td>\n",
       "      <td>0</td>\n",
       "      <td>Saturday</td>\n",
       "      <td>en</td>\n",
       "    </tr>\n",
       "    <tr>\n",
       "      <th>1</th>\n",
       "      <td>n6QzIUObkYshz4dz2QRJTw</td>\n",
       "      <td>bv2nCi5Qv5vroFiqKGopiw</td>\n",
       "      <td>VR6GpWIda3SfvPC-lg9H3w</td>\n",
       "      <td>5</td>\n",
       "      <td>2016-05-28</td>\n",
       "      <td>Small unassuming place that changes their menu...</td>\n",
       "      <td>0</td>\n",
       "      <td>0</td>\n",
       "      <td>0</td>\n",
       "      <td>Saturday</td>\n",
       "      <td>en</td>\n",
       "    </tr>\n",
       "    <tr>\n",
       "      <th>2</th>\n",
       "      <td>MV3CcKScW05u5LVfF6ok0g</td>\n",
       "      <td>bv2nCi5Qv5vroFiqKGopiw</td>\n",
       "      <td>CKC0-MOWMqoeWf6s-szl8g</td>\n",
       "      <td>5</td>\n",
       "      <td>2016-05-28</td>\n",
       "      <td>Lester's is located in a beautiful neighborhoo...</td>\n",
       "      <td>0</td>\n",
       "      <td>0</td>\n",
       "      <td>0</td>\n",
       "      <td>Saturday</td>\n",
       "      <td>en</td>\n",
       "    </tr>\n",
       "    <tr>\n",
       "      <th>3</th>\n",
       "      <td>IXvOzsEMYtiJI0CARmj77Q</td>\n",
       "      <td>bv2nCi5Qv5vroFiqKGopiw</td>\n",
       "      <td>ACFtxLv8pGrrxMm6EgjreA</td>\n",
       "      <td>4</td>\n",
       "      <td>2016-05-28</td>\n",
       "      <td>Love coming here. Yes the place always needs t...</td>\n",
       "      <td>0</td>\n",
       "      <td>0</td>\n",
       "      <td>0</td>\n",
       "      <td>Saturday</td>\n",
       "      <td>en</td>\n",
       "    </tr>\n",
       "  </tbody>\n",
       "</table>\n",
       "</div>"
      ],
      "text/plain": [
       "                review_id                 user_id             business_id  \\\n",
       "0  vkVSCC7xljjrAI4UGfnKEQ  bv2nCi5Qv5vroFiqKGopiw  AEx2SYEUJmTxVVB18LlCwA   \n",
       "1  n6QzIUObkYshz4dz2QRJTw  bv2nCi5Qv5vroFiqKGopiw  VR6GpWIda3SfvPC-lg9H3w   \n",
       "2  MV3CcKScW05u5LVfF6ok0g  bv2nCi5Qv5vroFiqKGopiw  CKC0-MOWMqoeWf6s-szl8g   \n",
       "3  IXvOzsEMYtiJI0CARmj77Q  bv2nCi5Qv5vroFiqKGopiw  ACFtxLv8pGrrxMm6EgjreA   \n",
       "\n",
       "   stars       date                                               text  \\\n",
       "0      5 2016-05-28  Super simple place but amazing nonetheless. It...   \n",
       "1      5 2016-05-28  Small unassuming place that changes their menu...   \n",
       "2      5 2016-05-28  Lester's is located in a beautiful neighborhoo...   \n",
       "3      4 2016-05-28  Love coming here. Yes the place always needs t...   \n",
       "\n",
       "   useful  funny  cool day_of_week language  \n",
       "0       0      0     0    Saturday       en  \n",
       "1       0      0     0    Saturday       en  \n",
       "2       0      0     0    Saturday       en  \n",
       "3       0      0     0    Saturday       en  "
      ]
     },
     "execution_count": 90,
     "metadata": {},
     "output_type": "execute_result"
    }
   ],
   "source": [
    "df_review.head(4)"
   ]
  },
  {
   "cell_type": "code",
   "execution_count": 93,
   "metadata": {},
   "outputs": [
    {
     "ename": "KeyboardInterrupt",
     "evalue": "",
     "output_type": "error",
     "traceback": [
      "\u001b[1;31m---------------------------------------------------------------------------\u001b[0m",
      "\u001b[1;31mKeyboardInterrupt\u001b[0m                         Traceback (most recent call last)",
      "\u001b[1;32m<ipython-input-93-fe3726b31c4e>\u001b[0m in \u001b[0;36m<module>\u001b[1;34m\u001b[0m\n\u001b[1;32m----> 1\u001b[1;33m \u001b[0mlist_language\u001b[0m \u001b[1;33m=\u001b[0m \u001b[1;33m[\u001b[0m\u001b[0mdetect\u001b[0m\u001b[1;33m(\u001b[0m\u001b[0mitem\u001b[0m\u001b[1;33m)\u001b[0m \u001b[1;32mfor\u001b[0m \u001b[0mitem\u001b[0m \u001b[1;32min\u001b[0m \u001b[0mdf_review\u001b[0m\u001b[1;33m.\u001b[0m\u001b[0mtext\u001b[0m\u001b[1;33m[\u001b[0m\u001b[1;36m10000\u001b[0m\u001b[1;33m:\u001b[0m\u001b[1;36m1000000\u001b[0m\u001b[1;33m]\u001b[0m\u001b[1;33m]\u001b[0m\u001b[1;33m\u001b[0m\u001b[1;33m\u001b[0m\u001b[0m\n\u001b[0m\u001b[0;32m      2\u001b[0m \u001b[0mdf_review\u001b[0m\u001b[1;33m.\u001b[0m\u001b[0mlanguage\u001b[0m\u001b[1;33m[\u001b[0m\u001b[1;36m10000\u001b[0m\u001b[1;33m:\u001b[0m\u001b[1;36m1000000\u001b[0m\u001b[1;33m]\u001b[0m \u001b[1;33m=\u001b[0m \u001b[0mlist_language\u001b[0m\u001b[1;33m\u001b[0m\u001b[1;33m\u001b[0m\u001b[0m\n",
      "\u001b[1;32m<ipython-input-93-fe3726b31c4e>\u001b[0m in \u001b[0;36m<listcomp>\u001b[1;34m(.0)\u001b[0m\n\u001b[1;32m----> 1\u001b[1;33m \u001b[0mlist_language\u001b[0m \u001b[1;33m=\u001b[0m \u001b[1;33m[\u001b[0m\u001b[0mdetect\u001b[0m\u001b[1;33m(\u001b[0m\u001b[0mitem\u001b[0m\u001b[1;33m)\u001b[0m \u001b[1;32mfor\u001b[0m \u001b[0mitem\u001b[0m \u001b[1;32min\u001b[0m \u001b[0mdf_review\u001b[0m\u001b[1;33m.\u001b[0m\u001b[0mtext\u001b[0m\u001b[1;33m[\u001b[0m\u001b[1;36m10000\u001b[0m\u001b[1;33m:\u001b[0m\u001b[1;36m1000000\u001b[0m\u001b[1;33m]\u001b[0m\u001b[1;33m]\u001b[0m\u001b[1;33m\u001b[0m\u001b[1;33m\u001b[0m\u001b[0m\n\u001b[0m\u001b[0;32m      2\u001b[0m \u001b[0mdf_review\u001b[0m\u001b[1;33m.\u001b[0m\u001b[0mlanguage\u001b[0m\u001b[1;33m[\u001b[0m\u001b[1;36m10000\u001b[0m\u001b[1;33m:\u001b[0m\u001b[1;36m1000000\u001b[0m\u001b[1;33m]\u001b[0m \u001b[1;33m=\u001b[0m \u001b[0mlist_language\u001b[0m\u001b[1;33m\u001b[0m\u001b[1;33m\u001b[0m\u001b[0m\n",
      "\u001b[1;32mC:\\ProgramData\\Anaconda3\\lib\\site-packages\\langdetect\\detector_factory.py\u001b[0m in \u001b[0;36mdetect\u001b[1;34m(text)\u001b[0m\n\u001b[0;32m    128\u001b[0m     \u001b[0mdetector\u001b[0m \u001b[1;33m=\u001b[0m \u001b[0m_factory\u001b[0m\u001b[1;33m.\u001b[0m\u001b[0mcreate\u001b[0m\u001b[1;33m(\u001b[0m\u001b[1;33m)\u001b[0m\u001b[1;33m\u001b[0m\u001b[1;33m\u001b[0m\u001b[0m\n\u001b[0;32m    129\u001b[0m     \u001b[0mdetector\u001b[0m\u001b[1;33m.\u001b[0m\u001b[0mappend\u001b[0m\u001b[1;33m(\u001b[0m\u001b[0mtext\u001b[0m\u001b[1;33m)\u001b[0m\u001b[1;33m\u001b[0m\u001b[1;33m\u001b[0m\u001b[0m\n\u001b[1;32m--> 130\u001b[1;33m     \u001b[1;32mreturn\u001b[0m \u001b[0mdetector\u001b[0m\u001b[1;33m.\u001b[0m\u001b[0mdetect\u001b[0m\u001b[1;33m(\u001b[0m\u001b[1;33m)\u001b[0m\u001b[1;33m\u001b[0m\u001b[1;33m\u001b[0m\u001b[0m\n\u001b[0m\u001b[0;32m    131\u001b[0m \u001b[1;33m\u001b[0m\u001b[0m\n\u001b[0;32m    132\u001b[0m \u001b[1;33m\u001b[0m\u001b[0m\n",
      "\u001b[1;32mC:\\ProgramData\\Anaconda3\\lib\\site-packages\\langdetect\\detector.py\u001b[0m in \u001b[0;36mdetect\u001b[1;34m(self)\u001b[0m\n\u001b[0;32m    134\u001b[0m         \u001b[0mwhich\u001b[0m \u001b[0mhas\u001b[0m \u001b[0mthe\u001b[0m \u001b[0mhighest\u001b[0m \u001b[0mprobability\u001b[0m\u001b[1;33m.\u001b[0m\u001b[1;33m\u001b[0m\u001b[1;33m\u001b[0m\u001b[0m\n\u001b[0;32m    135\u001b[0m         '''\n\u001b[1;32m--> 136\u001b[1;33m         \u001b[0mprobabilities\u001b[0m \u001b[1;33m=\u001b[0m \u001b[0mself\u001b[0m\u001b[1;33m.\u001b[0m\u001b[0mget_probabilities\u001b[0m\u001b[1;33m(\u001b[0m\u001b[1;33m)\u001b[0m\u001b[1;33m\u001b[0m\u001b[1;33m\u001b[0m\u001b[0m\n\u001b[0m\u001b[0;32m    137\u001b[0m         \u001b[1;32mif\u001b[0m \u001b[0mprobabilities\u001b[0m\u001b[1;33m:\u001b[0m\u001b[1;33m\u001b[0m\u001b[1;33m\u001b[0m\u001b[0m\n\u001b[0;32m    138\u001b[0m             \u001b[1;32mreturn\u001b[0m \u001b[0mprobabilities\u001b[0m\u001b[1;33m[\u001b[0m\u001b[1;36m0\u001b[0m\u001b[1;33m]\u001b[0m\u001b[1;33m.\u001b[0m\u001b[0mlang\u001b[0m\u001b[1;33m\u001b[0m\u001b[1;33m\u001b[0m\u001b[0m\n",
      "\u001b[1;32mC:\\ProgramData\\Anaconda3\\lib\\site-packages\\langdetect\\detector.py\u001b[0m in \u001b[0;36mget_probabilities\u001b[1;34m(self)\u001b[0m\n\u001b[0;32m    141\u001b[0m     \u001b[1;32mdef\u001b[0m \u001b[0mget_probabilities\u001b[0m\u001b[1;33m(\u001b[0m\u001b[0mself\u001b[0m\u001b[1;33m)\u001b[0m\u001b[1;33m:\u001b[0m\u001b[1;33m\u001b[0m\u001b[1;33m\u001b[0m\u001b[0m\n\u001b[0;32m    142\u001b[0m         \u001b[1;32mif\u001b[0m \u001b[0mself\u001b[0m\u001b[1;33m.\u001b[0m\u001b[0mlangprob\u001b[0m \u001b[1;32mis\u001b[0m \u001b[1;32mNone\u001b[0m\u001b[1;33m:\u001b[0m\u001b[1;33m\u001b[0m\u001b[1;33m\u001b[0m\u001b[0m\n\u001b[1;32m--> 143\u001b[1;33m             \u001b[0mself\u001b[0m\u001b[1;33m.\u001b[0m\u001b[0m_detect_block\u001b[0m\u001b[1;33m(\u001b[0m\u001b[1;33m)\u001b[0m\u001b[1;33m\u001b[0m\u001b[1;33m\u001b[0m\u001b[0m\n\u001b[0m\u001b[0;32m    144\u001b[0m         \u001b[1;32mreturn\u001b[0m \u001b[0mself\u001b[0m\u001b[1;33m.\u001b[0m\u001b[0m_sort_probability\u001b[0m\u001b[1;33m(\u001b[0m\u001b[0mself\u001b[0m\u001b[1;33m.\u001b[0m\u001b[0mlangprob\u001b[0m\u001b[1;33m)\u001b[0m\u001b[1;33m\u001b[0m\u001b[1;33m\u001b[0m\u001b[0m\n\u001b[0;32m    145\u001b[0m \u001b[1;33m\u001b[0m\u001b[0m\n",
      "\u001b[1;32mC:\\ProgramData\\Anaconda3\\lib\\site-packages\\langdetect\\detector.py\u001b[0m in \u001b[0;36m_detect_block\u001b[1;34m(self)\u001b[0m\n\u001b[0;32m    159\u001b[0m             \u001b[0mi\u001b[0m \u001b[1;33m=\u001b[0m \u001b[1;36m0\u001b[0m\u001b[1;33m\u001b[0m\u001b[1;33m\u001b[0m\u001b[0m\n\u001b[0;32m    160\u001b[0m             \u001b[1;32mwhile\u001b[0m \u001b[1;32mTrue\u001b[0m\u001b[1;33m:\u001b[0m\u001b[1;33m\u001b[0m\u001b[1;33m\u001b[0m\u001b[0m\n\u001b[1;32m--> 161\u001b[1;33m                 \u001b[0mself\u001b[0m\u001b[1;33m.\u001b[0m\u001b[0m_update_lang_prob\u001b[0m\u001b[1;33m(\u001b[0m\u001b[0mprob\u001b[0m\u001b[1;33m,\u001b[0m \u001b[0mself\u001b[0m\u001b[1;33m.\u001b[0m\u001b[0mrandom\u001b[0m\u001b[1;33m.\u001b[0m\u001b[0mchoice\u001b[0m\u001b[1;33m(\u001b[0m\u001b[0mngrams\u001b[0m\u001b[1;33m)\u001b[0m\u001b[1;33m,\u001b[0m \u001b[0malpha\u001b[0m\u001b[1;33m)\u001b[0m\u001b[1;33m\u001b[0m\u001b[1;33m\u001b[0m\u001b[0m\n\u001b[0m\u001b[0;32m    162\u001b[0m                 \u001b[1;32mif\u001b[0m \u001b[0mi\u001b[0m \u001b[1;33m%\u001b[0m \u001b[1;36m5\u001b[0m \u001b[1;33m==\u001b[0m \u001b[1;36m0\u001b[0m\u001b[1;33m:\u001b[0m\u001b[1;33m\u001b[0m\u001b[1;33m\u001b[0m\u001b[0m\n\u001b[0;32m    163\u001b[0m                     \u001b[1;32mif\u001b[0m \u001b[0mself\u001b[0m\u001b[1;33m.\u001b[0m\u001b[0m_normalize_prob\u001b[0m\u001b[1;33m(\u001b[0m\u001b[0mprob\u001b[0m\u001b[1;33m)\u001b[0m \u001b[1;33m>\u001b[0m \u001b[0mself\u001b[0m\u001b[1;33m.\u001b[0m\u001b[0mCONV_THRESHOLD\u001b[0m \u001b[1;32mor\u001b[0m \u001b[0mi\u001b[0m \u001b[1;33m>=\u001b[0m \u001b[0mself\u001b[0m\u001b[1;33m.\u001b[0m\u001b[0mITERATION_LIMIT\u001b[0m\u001b[1;33m:\u001b[0m\u001b[1;33m\u001b[0m\u001b[1;33m\u001b[0m\u001b[0m\n",
      "\u001b[1;32mC:\\ProgramData\\Anaconda3\\lib\\site-packages\\langdetect\\detector.py\u001b[0m in \u001b[0;36m_update_lang_prob\u001b[1;34m(self, prob, word, alpha)\u001b[0m\n\u001b[0;32m    210\u001b[0m         \u001b[0mweight\u001b[0m \u001b[1;33m=\u001b[0m \u001b[0malpha\u001b[0m \u001b[1;33m/\u001b[0m \u001b[0mself\u001b[0m\u001b[1;33m.\u001b[0m\u001b[0mBASE_FREQ\u001b[0m\u001b[1;33m\u001b[0m\u001b[1;33m\u001b[0m\u001b[0m\n\u001b[0;32m    211\u001b[0m         \u001b[1;32mfor\u001b[0m \u001b[0mi\u001b[0m \u001b[1;32min\u001b[0m \u001b[0mxrange\u001b[0m\u001b[1;33m(\u001b[0m\u001b[0mlen\u001b[0m\u001b[1;33m(\u001b[0m\u001b[0mprob\u001b[0m\u001b[1;33m)\u001b[0m\u001b[1;33m)\u001b[0m\u001b[1;33m:\u001b[0m\u001b[1;33m\u001b[0m\u001b[1;33m\u001b[0m\u001b[0m\n\u001b[1;32m--> 212\u001b[1;33m             \u001b[0mprob\u001b[0m\u001b[1;33m[\u001b[0m\u001b[0mi\u001b[0m\u001b[1;33m]\u001b[0m \u001b[1;33m*=\u001b[0m \u001b[0mweight\u001b[0m \u001b[1;33m+\u001b[0m \u001b[0mlang_prob_map\u001b[0m\u001b[1;33m[\u001b[0m\u001b[0mi\u001b[0m\u001b[1;33m]\u001b[0m\u001b[1;33m\u001b[0m\u001b[1;33m\u001b[0m\u001b[0m\n\u001b[0m\u001b[0;32m    213\u001b[0m         \u001b[1;32mreturn\u001b[0m \u001b[1;32mTrue\u001b[0m\u001b[1;33m\u001b[0m\u001b[1;33m\u001b[0m\u001b[0m\n\u001b[0;32m    214\u001b[0m \u001b[1;33m\u001b[0m\u001b[0m\n",
      "\u001b[1;31mKeyboardInterrupt\u001b[0m: "
     ]
    }
   ],
   "source": [
    "# list_language = [detect(item) for item in df_review.text[10000:1000000]]\n",
    "# df_review.language[10000:1000000] = list_language"
   ]
  },
  {
   "cell_type": "code",
   "execution_count": null,
   "metadata": {},
   "outputs": [],
   "source": [
    "# list_language = [detect(item) for item in df_review.text[1000000:2000000]]\n",
    "# df_review.language[1000000:2000000] = list_language"
   ]
  },
  {
   "cell_type": "code",
   "execution_count": null,
   "metadata": {},
   "outputs": [],
   "source": [
    "# list_language = [detect(item) for item in df_review.text[2000000:3000000]]\n",
    "# df_review.language[2000000:3000000] = list_language"
   ]
  },
  {
   "cell_type": "code",
   "execution_count": null,
   "metadata": {},
   "outputs": [],
   "source": [
    "# list_language = [detect(item) for item in df_review.text[3000000:4000000]]\n",
    "# df_review.language[3000000:4000000] = list_language"
   ]
  },
  {
   "cell_type": "code",
   "execution_count": null,
   "metadata": {},
   "outputs": [],
   "source": [
    "# list_language = [detect(item) for item in df_review.text[4000000:5000000]]\n",
    "# df_review.language[4000000:5000000] = list_language"
   ]
  },
  {
   "cell_type": "code",
   "execution_count": null,
   "metadata": {},
   "outputs": [],
   "source": [
    "# list_language = [detect(item) for item in df_review.text[5000000:shape(df_review)[0]]]\n",
    "# df_review.language[5000000:shape(df_review)[0]] = list_language"
   ]
  },
  {
   "cell_type": "code",
   "execution_count": null,
   "metadata": {},
   "outputs": [],
   "source": []
  },
  {
   "cell_type": "code",
   "execution_count": null,
   "metadata": {},
   "outputs": [],
   "source": [
    "df_review.head(4)"
   ]
  },
  {
   "cell_type": "code",
   "execution_count": null,
   "metadata": {},
   "outputs": [],
   "source": []
  },
  {
   "cell_type": "markdown",
   "metadata": {},
   "source": [
    "Removing column with the text of a review:"
   ]
  },
  {
   "cell_type": "code",
   "execution_count": 94,
   "metadata": {},
   "outputs": [
    {
     "data": {
      "text/plain": [
       "Index(['review_id', 'user_id', 'business_id', 'stars', 'date', 'useful',\n",
       "       'funny', 'cool', 'day_of_week'],\n",
       "      dtype='object')"
      ]
     },
     "execution_count": 94,
     "metadata": {},
     "output_type": "execute_result"
    }
   ],
   "source": [
    "cols_to_drop = ['text', 'language']\n",
    "try:\n",
    "    df_review = df_review.drop(cols_to_drop,axis=1)\n",
    "except:\n",
    "    pass\n",
    "df_review.columns"
   ]
  },
  {
   "cell_type": "code",
   "execution_count": 95,
   "metadata": {},
   "outputs": [
    {
     "data": {
      "text/plain": [
       "review_id      0\n",
       "user_id        0\n",
       "business_id    0\n",
       "stars          0\n",
       "date           0\n",
       "useful         0\n",
       "funny          0\n",
       "cool           0\n",
       "day_of_week    0\n",
       "dtype: int64"
      ]
     },
     "execution_count": 95,
     "metadata": {},
     "output_type": "execute_result"
    }
   ],
   "source": [
    "df_review.isnull().sum()"
   ]
  },
  {
   "cell_type": "code",
   "execution_count": 96,
   "metadata": {},
   "outputs": [],
   "source": [
    "df_review.to_csv('data_clean/review.csv',index=False)"
   ]
  },
  {
   "cell_type": "markdown",
   "metadata": {},
   "source": [
    "Some statistics:"
   ]
  },
  {
   "cell_type": "code",
   "execution_count": 80,
   "metadata": {},
   "outputs": [
    {
     "data": {
      "text/html": [
       "<div>\n",
       "<style scoped>\n",
       "    .dataframe tbody tr th:only-of-type {\n",
       "        vertical-align: middle;\n",
       "    }\n",
       "\n",
       "    .dataframe tbody tr th {\n",
       "        vertical-align: top;\n",
       "    }\n",
       "\n",
       "    .dataframe thead th {\n",
       "        text-align: right;\n",
       "    }\n",
       "</style>\n",
       "<table border=\"1\" class=\"dataframe\">\n",
       "  <thead>\n",
       "    <tr style=\"text-align: right;\">\n",
       "      <th></th>\n",
       "      <th>stars</th>\n",
       "    </tr>\n",
       "    <tr>\n",
       "      <th>day_of_week</th>\n",
       "      <th></th>\n",
       "    </tr>\n",
       "  </thead>\n",
       "  <tbody>\n",
       "    <tr>\n",
       "      <th>Friday</th>\n",
       "      <td>3.753507</td>\n",
       "    </tr>\n",
       "    <tr>\n",
       "      <th>Monday</th>\n",
       "      <td>3.693207</td>\n",
       "    </tr>\n",
       "    <tr>\n",
       "      <th>Saturday</th>\n",
       "      <td>3.722023</td>\n",
       "    </tr>\n",
       "    <tr>\n",
       "      <th>Sunday</th>\n",
       "      <td>3.677946</td>\n",
       "    </tr>\n",
       "    <tr>\n",
       "      <th>Thursday</th>\n",
       "      <td>3.764596</td>\n",
       "    </tr>\n",
       "    <tr>\n",
       "      <th>Tuesday</th>\n",
       "      <td>3.734255</td>\n",
       "    </tr>\n",
       "    <tr>\n",
       "      <th>Wednesday</th>\n",
       "      <td>3.756704</td>\n",
       "    </tr>\n",
       "  </tbody>\n",
       "</table>\n",
       "</div>"
      ],
      "text/plain": [
       "                stars\n",
       "day_of_week          \n",
       "Friday       3.753507\n",
       "Monday       3.693207\n",
       "Saturday     3.722023\n",
       "Sunday       3.677946\n",
       "Thursday     3.764596\n",
       "Tuesday      3.734255\n",
       "Wednesday    3.756704"
      ]
     },
     "execution_count": 80,
     "metadata": {},
     "output_type": "execute_result"
    }
   ],
   "source": [
    "df0 = df_review.groupby('day_of_week')[['stars']].mean()\n",
    "df0"
   ]
  },
  {
   "cell_type": "code",
   "execution_count": 86,
   "metadata": {},
   "outputs": [
    {
     "data": {
      "text/html": [
       "<div>\n",
       "<style scoped>\n",
       "    .dataframe tbody tr th:only-of-type {\n",
       "        vertical-align: middle;\n",
       "    }\n",
       "\n",
       "    .dataframe tbody tr th {\n",
       "        vertical-align: top;\n",
       "    }\n",
       "\n",
       "    .dataframe thead th {\n",
       "        text-align: right;\n",
       "    }\n",
       "</style>\n",
       "<table border=\"1\" class=\"dataframe\">\n",
       "  <thead>\n",
       "    <tr style=\"text-align: right;\">\n",
       "      <th></th>\n",
       "      <th>stars</th>\n",
       "      <th>useful</th>\n",
       "    </tr>\n",
       "    <tr>\n",
       "      <th>day_of_week</th>\n",
       "      <th></th>\n",
       "      <th></th>\n",
       "    </tr>\n",
       "  </thead>\n",
       "  <tbody>\n",
       "    <tr>\n",
       "      <th>Friday</th>\n",
       "      <td>3.753507</td>\n",
       "      <td>1.402854</td>\n",
       "    </tr>\n",
       "    <tr>\n",
       "      <th>Monday</th>\n",
       "      <td>3.693207</td>\n",
       "      <td>1.445435</td>\n",
       "    </tr>\n",
       "    <tr>\n",
       "      <th>Saturday</th>\n",
       "      <td>3.722023</td>\n",
       "      <td>1.239523</td>\n",
       "    </tr>\n",
       "    <tr>\n",
       "      <th>Sunday</th>\n",
       "      <td>3.677946</td>\n",
       "      <td>1.237958</td>\n",
       "    </tr>\n",
       "    <tr>\n",
       "      <th>Thursday</th>\n",
       "      <td>3.764596</td>\n",
       "      <td>1.437177</td>\n",
       "    </tr>\n",
       "    <tr>\n",
       "      <th>Tuesday</th>\n",
       "      <td>3.734255</td>\n",
       "      <td>1.479328</td>\n",
       "    </tr>\n",
       "    <tr>\n",
       "      <th>Wednesday</th>\n",
       "      <td>3.756704</td>\n",
       "      <td>1.462076</td>\n",
       "    </tr>\n",
       "    <tr>\n",
       "      <th>All</th>\n",
       "      <td>3.727739</td>\n",
       "      <td>1.385085</td>\n",
       "    </tr>\n",
       "  </tbody>\n",
       "</table>\n",
       "</div>"
      ],
      "text/plain": [
       "                stars    useful\n",
       "day_of_week                    \n",
       "Friday       3.753507  1.402854\n",
       "Monday       3.693207  1.445435\n",
       "Saturday     3.722023  1.239523\n",
       "Sunday       3.677946  1.237958\n",
       "Thursday     3.764596  1.437177\n",
       "Tuesday      3.734255  1.479328\n",
       "Wednesday    3.756704  1.462076\n",
       "All          3.727739  1.385085"
      ]
     },
     "execution_count": 86,
     "metadata": {},
     "output_type": "execute_result"
    }
   ],
   "source": [
    "df0 = df_review.pivot_table(values=['stars', 'useful'],index= ['day_of_week'], aggfunc=np.mean, margins=True)\n",
    "df0"
   ]
  },
  {
   "cell_type": "markdown",
   "metadata": {},
   "source": [
    "## Cleaning df_checkin"
   ]
  },
  {
   "cell_type": "code",
   "execution_count": 6,
   "metadata": {},
   "outputs": [
    {
     "data": {
      "text/html": [
       "<div>\n",
       "<style scoped>\n",
       "    .dataframe tbody tr th:only-of-type {\n",
       "        vertical-align: middle;\n",
       "    }\n",
       "\n",
       "    .dataframe tbody tr th {\n",
       "        vertical-align: top;\n",
       "    }\n",
       "\n",
       "    .dataframe thead th {\n",
       "        text-align: right;\n",
       "    }\n",
       "</style>\n",
       "<table border=\"1\" class=\"dataframe\">\n",
       "  <thead>\n",
       "    <tr style=\"text-align: right;\">\n",
       "      <th></th>\n",
       "      <th>business_id</th>\n",
       "      <th>date</th>\n",
       "    </tr>\n",
       "  </thead>\n",
       "  <tbody>\n",
       "    <tr>\n",
       "      <th>89528</th>\n",
       "      <td>VdvEnuQt90XYfy_1khVZAw</td>\n",
       "      <td>2011-04-22 19:36:38, 2011-05-08 18:02:25, 2011...</td>\n",
       "    </tr>\n",
       "    <tr>\n",
       "      <th>128544</th>\n",
       "      <td>itEntB3JJOAnRADa_BPrSg</td>\n",
       "      <td>2011-01-05 16:28:31, 2011-02-01 18:03:56</td>\n",
       "    </tr>\n",
       "    <tr>\n",
       "      <th>144096</th>\n",
       "      <td>o_sq_rvTBo59hm6TkDi6tg</td>\n",
       "      <td>2010-04-10 23:52:07, 2010-10-24 16:28:27, 2011...</td>\n",
       "    </tr>\n",
       "    <tr>\n",
       "      <th>44880</th>\n",
       "      <td>FLS7-fPi8st7zlm1yA_QQw</td>\n",
       "      <td>2019-09-13 20:51:55, 2019-10-11 17:52:09</td>\n",
       "    </tr>\n",
       "    <tr>\n",
       "      <th>24329</th>\n",
       "      <td>7vHLAKprTTKDr7qmqCX7ZA</td>\n",
       "      <td>2010-12-15 02:32:54, 2011-02-01 23:17:49, 2011...</td>\n",
       "    </tr>\n",
       "    <tr>\n",
       "      <th>75234</th>\n",
       "      <td>QReqiCAHmHmbU-488TGdYw</td>\n",
       "      <td>2010-07-29 17:16:21, 2011-12-14 00:33:55, 2012...</td>\n",
       "    </tr>\n",
       "  </tbody>\n",
       "</table>\n",
       "</div>"
      ],
      "text/plain": [
       "                   business_id  \\\n",
       "89528   VdvEnuQt90XYfy_1khVZAw   \n",
       "128544  itEntB3JJOAnRADa_BPrSg   \n",
       "144096  o_sq_rvTBo59hm6TkDi6tg   \n",
       "44880   FLS7-fPi8st7zlm1yA_QQw   \n",
       "24329   7vHLAKprTTKDr7qmqCX7ZA   \n",
       "75234   QReqiCAHmHmbU-488TGdYw   \n",
       "\n",
       "                                                     date  \n",
       "89528   2011-04-22 19:36:38, 2011-05-08 18:02:25, 2011...  \n",
       "128544           2011-01-05 16:28:31, 2011-02-01 18:03:56  \n",
       "144096  2010-04-10 23:52:07, 2010-10-24 16:28:27, 2011...  \n",
       "44880            2019-09-13 20:51:55, 2019-10-11 17:52:09  \n",
       "24329   2010-12-15 02:32:54, 2011-02-01 23:17:49, 2011...  \n",
       "75234   2010-07-29 17:16:21, 2011-12-14 00:33:55, 2012...  "
      ]
     },
     "execution_count": 6,
     "metadata": {},
     "output_type": "execute_result"
    }
   ],
   "source": [
    "df_checkin.sample(6)"
   ]
  },
  {
   "cell_type": "code",
   "execution_count": 7,
   "metadata": {},
   "outputs": [
    {
     "name": "stdout",
     "output_type": "stream",
     "text": [
      "<class 'pandas.core.frame.DataFrame'>\n",
      "RangeIndex: 175187 entries, 0 to 175186\n",
      "Data columns (total 2 columns):\n",
      "business_id    175187 non-null object\n",
      "date           175187 non-null object\n",
      "dtypes: object(2)\n",
      "memory usage: 2.7+ MB\n"
     ]
    }
   ],
   "source": [
    "df_checkin.info()"
   ]
  },
  {
   "cell_type": "code",
   "execution_count": 8,
   "metadata": {},
   "outputs": [],
   "source": [
    "#create dict that maps ID\n",
    "one_shop_many_times = {}\n",
    "\n",
    "for shop, date in zip(df_checkin['business_id'], df_checkin['date']):\n",
    "    dates_as_list = date.split(',')\n",
    "    one_shop_many_times[shop] = pd.to_datetime(dates_as_list)"
   ]
  },
  {
   "cell_type": "code",
   "execution_count": 9,
   "metadata": {},
   "outputs": [
    {
     "data": {
      "text/plain": [
       "DatetimeIndex(['2019-06-07 17:54:58'], dtype='datetime64[ns]', freq=None)"
      ]
     },
     "execution_count": 9,
     "metadata": {},
     "output_type": "execute_result"
    },
    {
     "data": {
      "text/plain": [
       "DatetimeIndex(['2013-07-29 15:05:38', '2013-07-30 07:36:27',\n",
       "               '2013-08-09 13:33:20', '2013-08-11 10:51:46',\n",
       "               '2013-08-14 07:20:28', '2018-04-09 12:00:09',\n",
       "               '2018-04-10 16:05:11', '2018-09-12 19:41:10',\n",
       "               '2018-09-13 14:30:03', '2019-02-12 20:07:55',\n",
       "               '2019-02-13 17:44:05', '2019-06-11 13:54:52',\n",
       "               '2019-06-12 16:14:42'],\n",
       "              dtype='datetime64[ns]', freq=None)"
      ]
     },
     "execution_count": 9,
     "metadata": {},
     "output_type": "execute_result"
    }
   ],
   "source": [
    "one_shop_many_times[df_checkin.business_id[17]]\n",
    "one_shop_many_times[df_checkin.business_id[147865]]"
   ]
  },
  {
   "cell_type": "code",
   "execution_count": 11,
   "metadata": {},
   "outputs": [],
   "source": [
    "#create the dict with dates as keys    \n",
    "one_time_one_shop = dict( (time,shop) for shop in one_shop_many_times for time in one_shop_many_times[shop])"
   ]
  },
  {
   "cell_type": "code",
   "execution_count": 12,
   "metadata": {},
   "outputs": [],
   "source": [
    "#create dataframe from dict\n",
    "df_single_checkin = pd.DataFrame.from_dict(one_time_one_shop, orient='index', columns=['business_id'])\n",
    "df_single_checkin = df_single_checkin.sort_index(ascending=True)"
   ]
  },
  {
   "cell_type": "code",
   "execution_count": 13,
   "metadata": {},
   "outputs": [
    {
     "data": {
      "text/plain": [
       "Index(['business_id'], dtype='object')"
      ]
     },
     "execution_count": 13,
     "metadata": {},
     "output_type": "execute_result"
    }
   ],
   "source": [
    "df_single_checkin.columns"
   ]
  },
  {
   "cell_type": "code",
   "execution_count": 14,
   "metadata": {},
   "outputs": [
    {
     "data": {
      "text/html": [
       "<div>\n",
       "<style scoped>\n",
       "    .dataframe tbody tr th:only-of-type {\n",
       "        vertical-align: middle;\n",
       "    }\n",
       "\n",
       "    .dataframe tbody tr th {\n",
       "        vertical-align: top;\n",
       "    }\n",
       "\n",
       "    .dataframe thead th {\n",
       "        text-align: right;\n",
       "    }\n",
       "</style>\n",
       "<table border=\"1\" class=\"dataframe\">\n",
       "  <thead>\n",
       "    <tr style=\"text-align: right;\">\n",
       "      <th></th>\n",
       "      <th>business_id</th>\n",
       "    </tr>\n",
       "  </thead>\n",
       "  <tbody>\n",
       "    <tr>\n",
       "      <th>2010-01-15 22:59:12</th>\n",
       "      <td>FaHADZARwnY4yvlvpnsfGA</td>\n",
       "    </tr>\n",
       "    <tr>\n",
       "      <th>2010-01-15 23:29:06</th>\n",
       "      <td>3KTY5XZfavc85u0_rLFHrw</td>\n",
       "    </tr>\n",
       "    <tr>\n",
       "      <th>2010-01-15 23:42:01</th>\n",
       "      <td>t-o_Sraneime4DDhWrQRBA</td>\n",
       "    </tr>\n",
       "    <tr>\n",
       "      <th>2010-01-16 00:54:25</th>\n",
       "      <td>Z2fCgJdvjhZVP34V86UKCg</td>\n",
       "    </tr>\n",
       "    <tr>\n",
       "      <th>2010-01-16 02:02:04</th>\n",
       "      <td>qwvpcuHVkOM8UoyfXmdIBA</td>\n",
       "    </tr>\n",
       "  </tbody>\n",
       "</table>\n",
       "</div>"
      ],
      "text/plain": [
       "                                business_id\n",
       "2010-01-15 22:59:12  FaHADZARwnY4yvlvpnsfGA\n",
       "2010-01-15 23:29:06  3KTY5XZfavc85u0_rLFHrw\n",
       "2010-01-15 23:42:01  t-o_Sraneime4DDhWrQRBA\n",
       "2010-01-16 00:54:25  Z2fCgJdvjhZVP34V86UKCg\n",
       "2010-01-16 02:02:04  qwvpcuHVkOM8UoyfXmdIBA"
      ]
     },
     "execution_count": 14,
     "metadata": {},
     "output_type": "execute_result"
    }
   ],
   "source": [
    "df_single_checkin.head(5)"
   ]
  },
  {
   "cell_type": "code",
   "execution_count": 16,
   "metadata": {},
   "outputs": [],
   "source": [
    "df_single_checkin['date'] = df_single_checkin.index.date\n",
    "df_single_checkin['time'] = df_single_checkin.index.time"
   ]
  },
  {
   "cell_type": "code",
   "execution_count": null,
   "metadata": {},
   "outputs": [],
   "source": []
  },
  {
   "cell_type": "code",
   "execution_count": 18,
   "metadata": {},
   "outputs": [],
   "source": [
    "df_single_checkin['full_date'] = df_single_checkin.index"
   ]
  },
  {
   "cell_type": "code",
   "execution_count": 19,
   "metadata": {},
   "outputs": [
    {
     "data": {
      "text/html": [
       "<div>\n",
       "<style scoped>\n",
       "    .dataframe tbody tr th:only-of-type {\n",
       "        vertical-align: middle;\n",
       "    }\n",
       "\n",
       "    .dataframe tbody tr th {\n",
       "        vertical-align: top;\n",
       "    }\n",
       "\n",
       "    .dataframe thead th {\n",
       "        text-align: right;\n",
       "    }\n",
       "</style>\n",
       "<table border=\"1\" class=\"dataframe\">\n",
       "  <thead>\n",
       "    <tr style=\"text-align: right;\">\n",
       "      <th></th>\n",
       "      <th>business_id</th>\n",
       "      <th>date</th>\n",
       "      <th>time</th>\n",
       "      <th>full_date</th>\n",
       "    </tr>\n",
       "  </thead>\n",
       "  <tbody>\n",
       "    <tr>\n",
       "      <th>2010-01-15 22:59:12</th>\n",
       "      <td>FaHADZARwnY4yvlvpnsfGA</td>\n",
       "      <td>2010-01-15</td>\n",
       "      <td>22:59:12</td>\n",
       "      <td>2010-01-15 22:59:12</td>\n",
       "    </tr>\n",
       "    <tr>\n",
       "      <th>2010-01-15 23:29:06</th>\n",
       "      <td>3KTY5XZfavc85u0_rLFHrw</td>\n",
       "      <td>2010-01-15</td>\n",
       "      <td>23:29:06</td>\n",
       "      <td>2010-01-15 23:29:06</td>\n",
       "    </tr>\n",
       "    <tr>\n",
       "      <th>2010-01-15 23:42:01</th>\n",
       "      <td>t-o_Sraneime4DDhWrQRBA</td>\n",
       "      <td>2010-01-15</td>\n",
       "      <td>23:42:01</td>\n",
       "      <td>2010-01-15 23:42:01</td>\n",
       "    </tr>\n",
       "    <tr>\n",
       "      <th>2010-01-16 00:54:25</th>\n",
       "      <td>Z2fCgJdvjhZVP34V86UKCg</td>\n",
       "      <td>2010-01-16</td>\n",
       "      <td>00:54:25</td>\n",
       "      <td>2010-01-16 00:54:25</td>\n",
       "    </tr>\n",
       "    <tr>\n",
       "      <th>2010-01-16 02:02:04</th>\n",
       "      <td>qwvpcuHVkOM8UoyfXmdIBA</td>\n",
       "      <td>2010-01-16</td>\n",
       "      <td>02:02:04</td>\n",
       "      <td>2010-01-16 02:02:04</td>\n",
       "    </tr>\n",
       "  </tbody>\n",
       "</table>\n",
       "</div>"
      ],
      "text/plain": [
       "                                business_id        date      time  \\\n",
       "2010-01-15 22:59:12  FaHADZARwnY4yvlvpnsfGA  2010-01-15  22:59:12   \n",
       "2010-01-15 23:29:06  3KTY5XZfavc85u0_rLFHrw  2010-01-15  23:29:06   \n",
       "2010-01-15 23:42:01  t-o_Sraneime4DDhWrQRBA  2010-01-15  23:42:01   \n",
       "2010-01-16 00:54:25  Z2fCgJdvjhZVP34V86UKCg  2010-01-16  00:54:25   \n",
       "2010-01-16 02:02:04  qwvpcuHVkOM8UoyfXmdIBA  2010-01-16  02:02:04   \n",
       "\n",
       "                              full_date  \n",
       "2010-01-15 22:59:12 2010-01-15 22:59:12  \n",
       "2010-01-15 23:29:06 2010-01-15 23:29:06  \n",
       "2010-01-15 23:42:01 2010-01-15 23:42:01  \n",
       "2010-01-16 00:54:25 2010-01-16 00:54:25  \n",
       "2010-01-16 02:02:04 2010-01-16 02:02:04  "
      ]
     },
     "execution_count": 19,
     "metadata": {},
     "output_type": "execute_result"
    }
   ],
   "source": [
    "df_single_checkin.head(5)"
   ]
  },
  {
   "cell_type": "code",
   "execution_count": 40,
   "metadata": {},
   "outputs": [],
   "source": [
    "df_single_checkin.to_csv('data_clean/checkin_by_date.csv',index=False)"
   ]
  },
  {
   "cell_type": "code",
   "execution_count": 32,
   "metadata": {},
   "outputs": [
    {
     "ename": "KeyboardInterrupt",
     "evalue": "",
     "output_type": "error",
     "traceback": [
      "\u001b[1;31m---------------------------------------------------------------------------\u001b[0m",
      "\u001b[1;31mKeyboardInterrupt\u001b[0m                         Traceback (most recent call last)",
      "\u001b[1;32m<ipython-input-32-c4b7ef678ccf>\u001b[0m in \u001b[0;36m<module>\u001b[1;34m\u001b[0m\n\u001b[0;32m      1\u001b[0m \u001b[1;32mfor\u001b[0m \u001b[0mitem\u001b[0m \u001b[1;32min\u001b[0m \u001b[0mdf_checkin\u001b[0m\u001b[1;33m[\u001b[0m\u001b[1;34m'date'\u001b[0m\u001b[1;33m]\u001b[0m\u001b[1;33m:\u001b[0m\u001b[1;33m\u001b[0m\u001b[1;33m\u001b[0m\u001b[0m\n\u001b[0;32m      2\u001b[0m \u001b[1;31m#     print(item.split(','))\u001b[0m\u001b[1;33m\u001b[0m\u001b[1;33m\u001b[0m\u001b[1;33m\u001b[0m\u001b[0m\n\u001b[1;32m----> 3\u001b[1;33m     \u001b[0mitem\u001b[0m \u001b[1;33m=\u001b[0m \u001b[0mpd\u001b[0m\u001b[1;33m.\u001b[0m\u001b[0mto_datetime\u001b[0m\u001b[1;33m(\u001b[0m\u001b[0mitem\u001b[0m\u001b[1;33m.\u001b[0m\u001b[0msplit\u001b[0m\u001b[1;33m(\u001b[0m\u001b[1;34m','\u001b[0m\u001b[1;33m)\u001b[0m\u001b[1;33m)\u001b[0m\u001b[1;33m\u001b[0m\u001b[1;33m\u001b[0m\u001b[0m\n\u001b[0m",
      "\u001b[1;32mC:\\ProgramData\\Anaconda3\\lib\\site-packages\\pandas\\core\\tools\\datetimes.py\u001b[0m in \u001b[0;36mto_datetime\u001b[1;34m(arg, errors, dayfirst, yearfirst, utc, box, format, exact, unit, infer_datetime_format, origin, cache)\u001b[0m\n\u001b[0;32m    607\u001b[0m             \u001b[0mresult\u001b[0m \u001b[1;33m=\u001b[0m \u001b[0m_convert_and_box_cache\u001b[0m\u001b[1;33m(\u001b[0m\u001b[0marg\u001b[0m\u001b[1;33m,\u001b[0m \u001b[0mcache_array\u001b[0m\u001b[1;33m,\u001b[0m \u001b[0mbox\u001b[0m\u001b[1;33m,\u001b[0m \u001b[0merrors\u001b[0m\u001b[1;33m)\u001b[0m\u001b[1;33m\u001b[0m\u001b[1;33m\u001b[0m\u001b[0m\n\u001b[0;32m    608\u001b[0m         \u001b[1;32melse\u001b[0m\u001b[1;33m:\u001b[0m\u001b[1;33m\u001b[0m\u001b[1;33m\u001b[0m\u001b[0m\n\u001b[1;32m--> 609\u001b[1;33m             \u001b[0mresult\u001b[0m \u001b[1;33m=\u001b[0m \u001b[0mconvert_listlike\u001b[0m\u001b[1;33m(\u001b[0m\u001b[0marg\u001b[0m\u001b[1;33m,\u001b[0m \u001b[0mbox\u001b[0m\u001b[1;33m,\u001b[0m \u001b[0mformat\u001b[0m\u001b[1;33m)\u001b[0m\u001b[1;33m\u001b[0m\u001b[1;33m\u001b[0m\u001b[0m\n\u001b[0m\u001b[0;32m    610\u001b[0m     \u001b[1;32melse\u001b[0m\u001b[1;33m:\u001b[0m\u001b[1;33m\u001b[0m\u001b[1;33m\u001b[0m\u001b[0m\n\u001b[0;32m    611\u001b[0m         \u001b[0mresult\u001b[0m \u001b[1;33m=\u001b[0m \u001b[0mconvert_listlike\u001b[0m\u001b[1;33m(\u001b[0m\u001b[0mnp\u001b[0m\u001b[1;33m.\u001b[0m\u001b[0marray\u001b[0m\u001b[1;33m(\u001b[0m\u001b[1;33m[\u001b[0m\u001b[0marg\u001b[0m\u001b[1;33m]\u001b[0m\u001b[1;33m)\u001b[0m\u001b[1;33m,\u001b[0m \u001b[0mbox\u001b[0m\u001b[1;33m,\u001b[0m \u001b[0mformat\u001b[0m\u001b[1;33m)\u001b[0m\u001b[1;33m[\u001b[0m\u001b[1;36m0\u001b[0m\u001b[1;33m]\u001b[0m\u001b[1;33m\u001b[0m\u001b[1;33m\u001b[0m\u001b[0m\n",
      "\u001b[1;32mC:\\ProgramData\\Anaconda3\\lib\\site-packages\\pandas\\core\\tools\\datetimes.py\u001b[0m in \u001b[0;36m_convert_listlike_datetimes\u001b[1;34m(arg, box, format, name, tz, unit, errors, infer_datetime_format, dayfirst, yearfirst, exact)\u001b[0m\n\u001b[0;32m    300\u001b[0m             \u001b[0marg\u001b[0m\u001b[1;33m,\u001b[0m \u001b[0mdayfirst\u001b[0m\u001b[1;33m=\u001b[0m\u001b[0mdayfirst\u001b[0m\u001b[1;33m,\u001b[0m \u001b[0myearfirst\u001b[0m\u001b[1;33m=\u001b[0m\u001b[0myearfirst\u001b[0m\u001b[1;33m,\u001b[0m\u001b[1;33m\u001b[0m\u001b[1;33m\u001b[0m\u001b[0m\n\u001b[0;32m    301\u001b[0m             \u001b[0mutc\u001b[0m\u001b[1;33m=\u001b[0m\u001b[0mutc\u001b[0m\u001b[1;33m,\u001b[0m \u001b[0merrors\u001b[0m\u001b[1;33m=\u001b[0m\u001b[0merrors\u001b[0m\u001b[1;33m,\u001b[0m \u001b[0mrequire_iso8601\u001b[0m\u001b[1;33m=\u001b[0m\u001b[0mrequire_iso8601\u001b[0m\u001b[1;33m,\u001b[0m\u001b[1;33m\u001b[0m\u001b[1;33m\u001b[0m\u001b[0m\n\u001b[1;32m--> 302\u001b[1;33m             allow_object=True)\n\u001b[0m\u001b[0;32m    303\u001b[0m \u001b[1;33m\u001b[0m\u001b[0m\n\u001b[0;32m    304\u001b[0m     \u001b[1;32mif\u001b[0m \u001b[0mtz_parsed\u001b[0m \u001b[1;32mis\u001b[0m \u001b[1;32mnot\u001b[0m \u001b[1;32mNone\u001b[0m\u001b[1;33m:\u001b[0m\u001b[1;33m\u001b[0m\u001b[1;33m\u001b[0m\u001b[0m\n",
      "\u001b[1;32mC:\\ProgramData\\Anaconda3\\lib\\site-packages\\pandas\\core\\arrays\\datetimes.py\u001b[0m in \u001b[0;36mobjects_to_datetime64ns\u001b[1;34m(data, dayfirst, yearfirst, utc, errors, require_iso8601, allow_object)\u001b[0m\n\u001b[0;32m   1855\u001b[0m             \u001b[0mdayfirst\u001b[0m\u001b[1;33m=\u001b[0m\u001b[0mdayfirst\u001b[0m\u001b[1;33m,\u001b[0m\u001b[1;33m\u001b[0m\u001b[1;33m\u001b[0m\u001b[0m\n\u001b[0;32m   1856\u001b[0m             \u001b[0myearfirst\u001b[0m\u001b[1;33m=\u001b[0m\u001b[0myearfirst\u001b[0m\u001b[1;33m,\u001b[0m\u001b[1;33m\u001b[0m\u001b[1;33m\u001b[0m\u001b[0m\n\u001b[1;32m-> 1857\u001b[1;33m             \u001b[0mrequire_iso8601\u001b[0m\u001b[1;33m=\u001b[0m\u001b[0mrequire_iso8601\u001b[0m\u001b[1;33m\u001b[0m\u001b[1;33m\u001b[0m\u001b[0m\n\u001b[0m\u001b[0;32m   1858\u001b[0m         )\n\u001b[0;32m   1859\u001b[0m     \u001b[1;32mexcept\u001b[0m \u001b[0mValueError\u001b[0m \u001b[1;32mas\u001b[0m \u001b[0me\u001b[0m\u001b[1;33m:\u001b[0m\u001b[1;33m\u001b[0m\u001b[1;33m\u001b[0m\u001b[0m\n",
      "\u001b[1;31mKeyboardInterrupt\u001b[0m: "
     ]
    }
   ],
   "source": [
    "# for item in df_checkin['date']:\n",
    "#     item = pd.to_datetime(item.split(','))\n"
   ]
  },
  {
   "cell_type": "code",
   "execution_count": 35,
   "metadata": {},
   "outputs": [],
   "source": [
    "df_checkin['date'] = [pd.to_datetime(item.split(',')) for item in df_checkin['date']]"
   ]
  },
  {
   "cell_type": "code",
   "execution_count": 38,
   "metadata": {},
   "outputs": [
    {
     "data": {
      "text/plain": [
       "DatetimeIndex(['2012-02-28 22:04:53'], dtype='datetime64[ns]', freq=None)"
      ]
     },
     "execution_count": 38,
     "metadata": {},
     "output_type": "execute_result"
    }
   ],
   "source": [
    "df_checkin.date[456]\n"
   ]
  },
  {
   "cell_type": "code",
   "execution_count": 8,
   "metadata": {},
   "outputs": [],
   "source": [
    "df_checkin.to_csv('data_clean/checkin_by_shop.csv',index=False)"
   ]
  },
  {
   "cell_type": "markdown",
   "metadata": {},
   "source": [
    "## Cleaning df_tip"
   ]
  },
  {
   "cell_type": "code",
   "execution_count": 34,
   "metadata": {
    "code_folding": []
   },
   "outputs": [
    {
     "data": {
      "text/html": [
       "<div>\n",
       "<style scoped>\n",
       "    .dataframe tbody tr th:only-of-type {\n",
       "        vertical-align: middle;\n",
       "    }\n",
       "\n",
       "    .dataframe tbody tr th {\n",
       "        vertical-align: top;\n",
       "    }\n",
       "\n",
       "    .dataframe thead th {\n",
       "        text-align: right;\n",
       "    }\n",
       "</style>\n",
       "<table border=\"1\" class=\"dataframe\">\n",
       "  <thead>\n",
       "    <tr style=\"text-align: right;\">\n",
       "      <th></th>\n",
       "      <th>business_id</th>\n",
       "      <th>compliment_count</th>\n",
       "      <th>date</th>\n",
       "      <th>user_id</th>\n",
       "      <th>time</th>\n",
       "    </tr>\n",
       "  </thead>\n",
       "  <tbody>\n",
       "    <tr>\n",
       "      <th>993276</th>\n",
       "      <td>HAMLLfH-2ho37Y4zsa9bDw</td>\n",
       "      <td>0</td>\n",
       "      <td>2014-05-18</td>\n",
       "      <td>oSmHq4hO8MdmVc0EBMkcpQ</td>\n",
       "      <td>04:14:03</td>\n",
       "    </tr>\n",
       "    <tr>\n",
       "      <th>601039</th>\n",
       "      <td>bLZ8_XqjM6AZFYhc7e35HA</td>\n",
       "      <td>0</td>\n",
       "      <td>2012-05-25</td>\n",
       "      <td>OZCXPNYyneiZKQDLyvHTBA</td>\n",
       "      <td>03:28:57</td>\n",
       "    </tr>\n",
       "    <tr>\n",
       "      <th>1053653</th>\n",
       "      <td>iSQwKRrLYYi-dI2PpJmJJg</td>\n",
       "      <td>0</td>\n",
       "      <td>2016-06-09</td>\n",
       "      <td>E8wii7KB1oqrP4FS0qGkrQ</td>\n",
       "      <td>21:35:09</td>\n",
       "    </tr>\n",
       "    <tr>\n",
       "      <th>495703</th>\n",
       "      <td>NtII1vBcP1CiAs54kY1JQw</td>\n",
       "      <td>0</td>\n",
       "      <td>2016-06-23</td>\n",
       "      <td>p8Pjhqm4dopSUdnMN5_6Uw</td>\n",
       "      <td>02:17:49</td>\n",
       "    </tr>\n",
       "    <tr>\n",
       "      <th>450909</th>\n",
       "      <td>K7lWdNUhCbcnEvI0NhGewg</td>\n",
       "      <td>0</td>\n",
       "      <td>2011-11-25</td>\n",
       "      <td>6G6hMZReaIuOgraeDjSdNg</td>\n",
       "      <td>01:53:24</td>\n",
       "    </tr>\n",
       "    <tr>\n",
       "      <th>231319</th>\n",
       "      <td>KYILRbT77Mimq1yXqRBU2A</td>\n",
       "      <td>1</td>\n",
       "      <td>2012-05-20</td>\n",
       "      <td>2qya62J99lKO3UfhHP6kvg</td>\n",
       "      <td>17:46:18</td>\n",
       "    </tr>\n",
       "  </tbody>\n",
       "</table>\n",
       "</div>"
      ],
      "text/plain": [
       "                    business_id  compliment_count        date  \\\n",
       "993276   HAMLLfH-2ho37Y4zsa9bDw                 0  2014-05-18   \n",
       "601039   bLZ8_XqjM6AZFYhc7e35HA                 0  2012-05-25   \n",
       "1053653  iSQwKRrLYYi-dI2PpJmJJg                 0  2016-06-09   \n",
       "495703   NtII1vBcP1CiAs54kY1JQw                 0  2016-06-23   \n",
       "450909   K7lWdNUhCbcnEvI0NhGewg                 0  2011-11-25   \n",
       "231319   KYILRbT77Mimq1yXqRBU2A                 1  2012-05-20   \n",
       "\n",
       "                        user_id      time  \n",
       "993276   oSmHq4hO8MdmVc0EBMkcpQ  04:14:03  \n",
       "601039   OZCXPNYyneiZKQDLyvHTBA  03:28:57  \n",
       "1053653  E8wii7KB1oqrP4FS0qGkrQ  21:35:09  \n",
       "495703   p8Pjhqm4dopSUdnMN5_6Uw  02:17:49  \n",
       "450909   6G6hMZReaIuOgraeDjSdNg  01:53:24  \n",
       "231319   2qya62J99lKO3UfhHP6kvg  17:46:18  "
      ]
     },
     "execution_count": 34,
     "metadata": {},
     "output_type": "execute_result"
    }
   ],
   "source": [
    "df_tip.sample(6)"
   ]
  },
  {
   "cell_type": "code",
   "execution_count": 23,
   "metadata": {},
   "outputs": [
    {
     "data": {
      "text/plain": [
       "Index(['business_id', 'compliment_count', 'date', 'user_id'], dtype='object')"
      ]
     },
     "execution_count": 23,
     "metadata": {},
     "output_type": "execute_result"
    }
   ],
   "source": [
    "cols_to_drop = ['text']\n",
    "try:\n",
    "    df_tip = df_tip.drop(cols_to_drop,axis=1)\n",
    "except:\n",
    "    pass\n",
    "df_tip.columns"
   ]
  },
  {
   "cell_type": "code",
   "execution_count": 24,
   "metadata": {},
   "outputs": [],
   "source": [
    "df_tip.to_csv('data_clean/tip.csv',index=False)"
   ]
  },
  {
   "cell_type": "code",
   "execution_count": 25,
   "metadata": {},
   "outputs": [],
   "source": [
    "df_tip = pd.read_csv('data_clean/tip.csv')"
   ]
  },
  {
   "cell_type": "code",
   "execution_count": 26,
   "metadata": {},
   "outputs": [
    {
     "name": "stdout",
     "output_type": "stream",
     "text": [
      "<class 'pandas.core.frame.DataFrame'>\n",
      "RangeIndex: 1320761 entries, 0 to 1320760\n",
      "Data columns (total 4 columns):\n",
      "business_id         1320761 non-null object\n",
      "compliment_count    1320761 non-null int64\n",
      "date                1320761 non-null object\n",
      "user_id             1320761 non-null object\n",
      "dtypes: int64(1), object(3)\n",
      "memory usage: 40.3+ MB\n"
     ]
    }
   ],
   "source": [
    "df_tip.info()"
   ]
  },
  {
   "cell_type": "code",
   "execution_count": 30,
   "metadata": {},
   "outputs": [],
   "source": [
    "df_tip['date'] = pd.to_datetime(df_tip.date, format='%Y-%m-%d %H:%M:%S' )"
   ]
  },
  {
   "cell_type": "code",
   "execution_count": null,
   "metadata": {},
   "outputs": [],
   "source": []
  },
  {
   "cell_type": "code",
   "execution_count": 15,
   "metadata": {},
   "outputs": [
    {
     "data": {
      "text/plain": [
       "pandas._libs.tslibs.timestamps.Timestamp"
      ]
     },
     "execution_count": 15,
     "metadata": {},
     "output_type": "execute_result"
    }
   ],
   "source": [
    "type(df_tip['date'][5])"
   ]
  },
  {
   "cell_type": "code",
   "execution_count": 32,
   "metadata": {},
   "outputs": [],
   "source": [
    "df_tip['time'] = df_tip['date'].dt.time\n",
    "# df_tip.time = [item.time for item in df_tip['date']]"
   ]
  },
  {
   "cell_type": "code",
   "execution_count": 33,
   "metadata": {},
   "outputs": [],
   "source": [
    "df_tip['date'] = df_tip['date'].dt.date"
   ]
  },
  {
   "cell_type": "code",
   "execution_count": null,
   "metadata": {},
   "outputs": [],
   "source": []
  },
  {
   "cell_type": "code",
   "execution_count": 35,
   "metadata": {},
   "outputs": [
    {
     "data": {
      "text/html": [
       "<div>\n",
       "<style scoped>\n",
       "    .dataframe tbody tr th:only-of-type {\n",
       "        vertical-align: middle;\n",
       "    }\n",
       "\n",
       "    .dataframe tbody tr th {\n",
       "        vertical-align: top;\n",
       "    }\n",
       "\n",
       "    .dataframe thead th {\n",
       "        text-align: right;\n",
       "    }\n",
       "</style>\n",
       "<table border=\"1\" class=\"dataframe\">\n",
       "  <thead>\n",
       "    <tr style=\"text-align: right;\">\n",
       "      <th></th>\n",
       "      <th>business_id</th>\n",
       "      <th>compliment_count</th>\n",
       "      <th>date</th>\n",
       "      <th>user_id</th>\n",
       "      <th>time</th>\n",
       "    </tr>\n",
       "  </thead>\n",
       "  <tbody>\n",
       "    <tr>\n",
       "      <th>129703</th>\n",
       "      <td>szhJLmdLDVFTevm8fu0T4A</td>\n",
       "      <td>0</td>\n",
       "      <td>2014-03-16</td>\n",
       "      <td>Y_R3mRupfUQC_lbwP8_sZA</td>\n",
       "      <td>19:49:39</td>\n",
       "    </tr>\n",
       "    <tr>\n",
       "      <th>819919</th>\n",
       "      <td>7tNY4BYLA4laqWNV4IWGQg</td>\n",
       "      <td>0</td>\n",
       "      <td>2015-03-06</td>\n",
       "      <td>aEVQbWnMCUV7ZzC9DoCpJA</td>\n",
       "      <td>20:32:16</td>\n",
       "    </tr>\n",
       "    <tr>\n",
       "      <th>971601</th>\n",
       "      <td>OJdufUU3hVabgviIBHksYw</td>\n",
       "      <td>0</td>\n",
       "      <td>2011-09-01</td>\n",
       "      <td>H2HRJFCnSSM28Jdn0A_UTA</td>\n",
       "      <td>18:16:43</td>\n",
       "    </tr>\n",
       "    <tr>\n",
       "      <th>12704</th>\n",
       "      <td>oVwbbA0JttNp3nNJbKsmJQ</td>\n",
       "      <td>0</td>\n",
       "      <td>2014-06-24</td>\n",
       "      <td>yaJPtrrvckma2OcUpvcGpA</td>\n",
       "      <td>22:21:51</td>\n",
       "    </tr>\n",
       "    <tr>\n",
       "      <th>1121137</th>\n",
       "      <td>5H1gvB-TB_sHWasXdS64Uw</td>\n",
       "      <td>0</td>\n",
       "      <td>2012-02-18</td>\n",
       "      <td>SQYgJ_y3YSqk-KwrWHQxHw</td>\n",
       "      <td>15:58:43</td>\n",
       "    </tr>\n",
       "    <tr>\n",
       "      <th>945829</th>\n",
       "      <td>TdTl_T42gbewHCMQVqZ_xA</td>\n",
       "      <td>0</td>\n",
       "      <td>2019-09-18</td>\n",
       "      <td>G5O-Fjps_Ar-NLviph9cdg</td>\n",
       "      <td>22:53:30</td>\n",
       "    </tr>\n",
       "  </tbody>\n",
       "</table>\n",
       "</div>"
      ],
      "text/plain": [
       "                    business_id  compliment_count        date  \\\n",
       "129703   szhJLmdLDVFTevm8fu0T4A                 0  2014-03-16   \n",
       "819919   7tNY4BYLA4laqWNV4IWGQg                 0  2015-03-06   \n",
       "971601   OJdufUU3hVabgviIBHksYw                 0  2011-09-01   \n",
       "12704    oVwbbA0JttNp3nNJbKsmJQ                 0  2014-06-24   \n",
       "1121137  5H1gvB-TB_sHWasXdS64Uw                 0  2012-02-18   \n",
       "945829   TdTl_T42gbewHCMQVqZ_xA                 0  2019-09-18   \n",
       "\n",
       "                        user_id      time  \n",
       "129703   Y_R3mRupfUQC_lbwP8_sZA  19:49:39  \n",
       "819919   aEVQbWnMCUV7ZzC9DoCpJA  20:32:16  \n",
       "971601   H2HRJFCnSSM28Jdn0A_UTA  18:16:43  \n",
       "12704    yaJPtrrvckma2OcUpvcGpA  22:21:51  \n",
       "1121137  SQYgJ_y3YSqk-KwrWHQxHw  15:58:43  \n",
       "945829   G5O-Fjps_Ar-NLviph9cdg  22:53:30  "
      ]
     },
     "execution_count": 35,
     "metadata": {},
     "output_type": "execute_result"
    }
   ],
   "source": [
    "df_tip.sample(6)"
   ]
  },
  {
   "cell_type": "code",
   "execution_count": 36,
   "metadata": {},
   "outputs": [],
   "source": [
    "df_tip.to_csv('data_clean/tip.csv',index=False)"
   ]
  },
  {
   "cell_type": "markdown",
   "metadata": {},
   "source": [
    "## Cleaning df_photo"
   ]
  },
  {
   "cell_type": "code",
   "execution_count": 28,
   "metadata": {},
   "outputs": [
    {
     "data": {
      "text/html": [
       "<div>\n",
       "<style scoped>\n",
       "    .dataframe tbody tr th:only-of-type {\n",
       "        vertical-align: middle;\n",
       "    }\n",
       "\n",
       "    .dataframe tbody tr th {\n",
       "        vertical-align: top;\n",
       "    }\n",
       "\n",
       "    .dataframe thead th {\n",
       "        text-align: right;\n",
       "    }\n",
       "</style>\n",
       "<table border=\"1\" class=\"dataframe\">\n",
       "  <thead>\n",
       "    <tr style=\"text-align: right;\">\n",
       "      <th></th>\n",
       "      <th>business_id</th>\n",
       "      <th>caption</th>\n",
       "      <th>label</th>\n",
       "      <th>photo_id</th>\n",
       "    </tr>\n",
       "  </thead>\n",
       "  <tbody>\n",
       "    <tr>\n",
       "      <th>52345</th>\n",
       "      <td>0qh5uSAUDcVzC6hoPsAPvA</td>\n",
       "      <td></td>\n",
       "      <td>food</td>\n",
       "      <td>D8JnVUM5xJcYvXR3empCEg</td>\n",
       "    </tr>\n",
       "    <tr>\n",
       "      <th>141843</th>\n",
       "      <td>gx2yPrOJSwF1ApJYdGBWIw</td>\n",
       "      <td></td>\n",
       "      <td>inside</td>\n",
       "      <td>QzPqUGwmSksmVxoETOYigw</td>\n",
       "    </tr>\n",
       "    <tr>\n",
       "      <th>27221</th>\n",
       "      <td>qGy3Ipq2XiKmX-Ys1X9jdw</td>\n",
       "      <td></td>\n",
       "      <td>food</td>\n",
       "      <td>8jX1m4m2kBFjNv8ANxNWOA</td>\n",
       "    </tr>\n",
       "    <tr>\n",
       "      <th>99711</th>\n",
       "      <td>Qn5QMHOV6f5uHbxvrTPGRA</td>\n",
       "      <td>Xiao Long Bao</td>\n",
       "      <td>food</td>\n",
       "      <td>kl9q9Y6N-JrVcTn8tucDXA</td>\n",
       "    </tr>\n",
       "    <tr>\n",
       "      <th>14783</th>\n",
       "      <td>qlPyuJ77Znjh30I2kTs1xQ</td>\n",
       "      <td></td>\n",
       "      <td>food</td>\n",
       "      <td>4o6M97oFAPaXiU_LCRzn-g</td>\n",
       "    </tr>\n",
       "    <tr>\n",
       "      <th>191897</th>\n",
       "      <td>P-0LHbAX0z3Zstm4GumhMA</td>\n",
       "      <td>Avocado Egg Rolls</td>\n",
       "      <td>food</td>\n",
       "      <td>yRUl6Wy4c3QQpZJVfqNBLQ</td>\n",
       "    </tr>\n",
       "  </tbody>\n",
       "</table>\n",
       "</div>"
      ],
      "text/plain": [
       "                   business_id            caption   label  \\\n",
       "52345   0qh5uSAUDcVzC6hoPsAPvA                       food   \n",
       "141843  gx2yPrOJSwF1ApJYdGBWIw                     inside   \n",
       "27221   qGy3Ipq2XiKmX-Ys1X9jdw                       food   \n",
       "99711   Qn5QMHOV6f5uHbxvrTPGRA      Xiao Long Bao    food   \n",
       "14783   qlPyuJ77Znjh30I2kTs1xQ                       food   \n",
       "191897  P-0LHbAX0z3Zstm4GumhMA  Avocado Egg Rolls    food   \n",
       "\n",
       "                      photo_id  \n",
       "52345   D8JnVUM5xJcYvXR3empCEg  \n",
       "141843  QzPqUGwmSksmVxoETOYigw  \n",
       "27221   8jX1m4m2kBFjNv8ANxNWOA  \n",
       "99711   kl9q9Y6N-JrVcTn8tucDXA  \n",
       "14783   4o6M97oFAPaXiU_LCRzn-g  \n",
       "191897  yRUl6Wy4c3QQpZJVfqNBLQ  "
      ]
     },
     "execution_count": 28,
     "metadata": {},
     "output_type": "execute_result"
    }
   ],
   "source": [
    "df_photos.sample(6)"
   ]
  },
  {
   "cell_type": "code",
   "execution_count": 29,
   "metadata": {},
   "outputs": [
    {
     "data": {
      "text/plain": [
       "Index(['business_id', 'label', 'photo_id'], dtype='object')"
      ]
     },
     "execution_count": 29,
     "metadata": {},
     "output_type": "execute_result"
    }
   ],
   "source": [
    "cols_to_drop = ['caption']\n",
    "try:\n",
    "    df_photos = df_photos.drop(cols_to_drop,axis=1)\n",
    "except:\n",
    "    pass\n",
    "df_photos.columns"
   ]
  },
  {
   "cell_type": "code",
   "execution_count": 26,
   "metadata": {
    "code_folding": []
   },
   "outputs": [
    {
     "ename": "KeyboardInterrupt",
     "evalue": "",
     "output_type": "error",
     "traceback": [
      "\u001b[1;31m---------------------------------------------------------------------------\u001b[0m",
      "\u001b[1;31mKeyboardInterrupt\u001b[0m                         Traceback (most recent call last)",
      "\u001b[1;32m<ipython-input-26-d18827f2c2da>\u001b[0m in \u001b[0;36m<module>\u001b[1;34m\u001b[0m\n\u001b[0;32m      1\u001b[0m \u001b[1;32mfor\u001b[0m \u001b[0mi\u001b[0m \u001b[1;32min\u001b[0m \u001b[0mrange\u001b[0m\u001b[1;33m(\u001b[0m\u001b[0mdf_photos\u001b[0m\u001b[1;33m.\u001b[0m\u001b[0mshape\u001b[0m\u001b[1;33m[\u001b[0m\u001b[1;36m0\u001b[0m\u001b[1;33m]\u001b[0m\u001b[1;33m)\u001b[0m\u001b[1;33m:\u001b[0m\u001b[1;33m\u001b[0m\u001b[1;33m\u001b[0m\u001b[0m\n\u001b[1;32m----> 2\u001b[1;33m     \u001b[0mdf_photos\u001b[0m\u001b[1;33m.\u001b[0m\u001b[0mphoto_id\u001b[0m\u001b[1;33m[\u001b[0m\u001b[0mi\u001b[0m\u001b[1;33m]\u001b[0m \u001b[1;33m=\u001b[0m  \u001b[1;34m'ph_'\u001b[0m \u001b[1;33m+\u001b[0m \u001b[0mstr\u001b[0m\u001b[1;33m(\u001b[0m\u001b[0mi\u001b[0m\u001b[1;33m)\u001b[0m\u001b[1;33m\u001b[0m\u001b[1;33m\u001b[0m\u001b[0m\n\u001b[0m",
      "\u001b[1;32mC:\\ProgramData\\Anaconda3\\lib\\site-packages\\pandas\\core\\series.py\u001b[0m in \u001b[0;36m__setitem__\u001b[1;34m(self, key, value)\u001b[0m\n\u001b[0;32m   1039\u001b[0m         \u001b[0msetitem\u001b[0m\u001b[1;33m(\u001b[0m\u001b[0mkey\u001b[0m\u001b[1;33m,\u001b[0m \u001b[0mvalue\u001b[0m\u001b[1;33m)\u001b[0m\u001b[1;33m\u001b[0m\u001b[1;33m\u001b[0m\u001b[0m\n\u001b[0;32m   1040\u001b[0m         \u001b[1;32mif\u001b[0m \u001b[0mcacher_needs_updating\u001b[0m\u001b[1;33m:\u001b[0m\u001b[1;33m\u001b[0m\u001b[1;33m\u001b[0m\u001b[0m\n\u001b[1;32m-> 1041\u001b[1;33m             \u001b[0mself\u001b[0m\u001b[1;33m.\u001b[0m\u001b[0m_maybe_update_cacher\u001b[0m\u001b[1;33m(\u001b[0m\u001b[1;33m)\u001b[0m\u001b[1;33m\u001b[0m\u001b[1;33m\u001b[0m\u001b[0m\n\u001b[0m\u001b[0;32m   1042\u001b[0m \u001b[1;33m\u001b[0m\u001b[0m\n\u001b[0;32m   1043\u001b[0m     \u001b[1;32mdef\u001b[0m \u001b[0m_set_with_engine\u001b[0m\u001b[1;33m(\u001b[0m\u001b[0mself\u001b[0m\u001b[1;33m,\u001b[0m \u001b[0mkey\u001b[0m\u001b[1;33m,\u001b[0m \u001b[0mvalue\u001b[0m\u001b[1;33m)\u001b[0m\u001b[1;33m:\u001b[0m\u001b[1;33m\u001b[0m\u001b[1;33m\u001b[0m\u001b[0m\n",
      "\u001b[1;32mC:\\ProgramData\\Anaconda3\\lib\\site-packages\\pandas\\core\\generic.py\u001b[0m in \u001b[0;36m_maybe_update_cacher\u001b[1;34m(self, clear, verify_is_copy)\u001b[0m\n\u001b[0;32m   3137\u001b[0m             \u001b[1;32melse\u001b[0m\u001b[1;33m:\u001b[0m\u001b[1;33m\u001b[0m\u001b[1;33m\u001b[0m\u001b[0m\n\u001b[0;32m   3138\u001b[0m                 \u001b[1;32mtry\u001b[0m\u001b[1;33m:\u001b[0m\u001b[1;33m\u001b[0m\u001b[1;33m\u001b[0m\u001b[0m\n\u001b[1;32m-> 3139\u001b[1;33m                     \u001b[0mref\u001b[0m\u001b[1;33m.\u001b[0m\u001b[0m_maybe_cache_changed\u001b[0m\u001b[1;33m(\u001b[0m\u001b[0mcacher\u001b[0m\u001b[1;33m[\u001b[0m\u001b[1;36m0\u001b[0m\u001b[1;33m]\u001b[0m\u001b[1;33m,\u001b[0m \u001b[0mself\u001b[0m\u001b[1;33m)\u001b[0m\u001b[1;33m\u001b[0m\u001b[1;33m\u001b[0m\u001b[0m\n\u001b[0m\u001b[0;32m   3140\u001b[0m                 \u001b[1;32mexcept\u001b[0m \u001b[0mException\u001b[0m\u001b[1;33m:\u001b[0m\u001b[1;33m\u001b[0m\u001b[1;33m\u001b[0m\u001b[0m\n\u001b[0;32m   3141\u001b[0m                     \u001b[1;32mpass\u001b[0m\u001b[1;33m\u001b[0m\u001b[1;33m\u001b[0m\u001b[0m\n",
      "\u001b[1;32mC:\\ProgramData\\Anaconda3\\lib\\site-packages\\pandas\\core\\generic.py\u001b[0m in \u001b[0;36m_maybe_cache_changed\u001b[1;34m(self, item, value)\u001b[0m\n\u001b[0;32m   3094\u001b[0m         \"\"\"The object has called back to us saying maybe it has changed.\n\u001b[0;32m   3095\u001b[0m         \"\"\"\n\u001b[1;32m-> 3096\u001b[1;33m         \u001b[0mself\u001b[0m\u001b[1;33m.\u001b[0m\u001b[0m_data\u001b[0m\u001b[1;33m.\u001b[0m\u001b[0mset\u001b[0m\u001b[1;33m(\u001b[0m\u001b[0mitem\u001b[0m\u001b[1;33m,\u001b[0m \u001b[0mvalue\u001b[0m\u001b[1;33m)\u001b[0m\u001b[1;33m\u001b[0m\u001b[1;33m\u001b[0m\u001b[0m\n\u001b[0m\u001b[0;32m   3097\u001b[0m \u001b[1;33m\u001b[0m\u001b[0m\n\u001b[0;32m   3098\u001b[0m     \u001b[1;33m@\u001b[0m\u001b[0mproperty\u001b[0m\u001b[1;33m\u001b[0m\u001b[1;33m\u001b[0m\u001b[0m\n",
      "\u001b[1;32mC:\\ProgramData\\Anaconda3\\lib\\site-packages\\pandas\\core\\internals\\managers.py\u001b[0m in \u001b[0;36mset\u001b[1;34m(self, item, value)\u001b[0m\n\u001b[0;32m   1061\u001b[0m \u001b[1;33m\u001b[0m\u001b[0m\n\u001b[0;32m   1062\u001b[0m         \u001b[0mblknos\u001b[0m \u001b[1;33m=\u001b[0m \u001b[0mself\u001b[0m\u001b[1;33m.\u001b[0m\u001b[0m_blknos\u001b[0m\u001b[1;33m[\u001b[0m\u001b[0mloc\u001b[0m\u001b[1;33m]\u001b[0m\u001b[1;33m\u001b[0m\u001b[1;33m\u001b[0m\u001b[0m\n\u001b[1;32m-> 1063\u001b[1;33m         \u001b[0mblklocs\u001b[0m \u001b[1;33m=\u001b[0m \u001b[0mself\u001b[0m\u001b[1;33m.\u001b[0m\u001b[0m_blklocs\u001b[0m\u001b[1;33m[\u001b[0m\u001b[0mloc\u001b[0m\u001b[1;33m]\u001b[0m\u001b[1;33m.\u001b[0m\u001b[0mcopy\u001b[0m\u001b[1;33m(\u001b[0m\u001b[1;33m)\u001b[0m\u001b[1;33m\u001b[0m\u001b[1;33m\u001b[0m\u001b[0m\n\u001b[0m\u001b[0;32m   1064\u001b[0m \u001b[1;33m\u001b[0m\u001b[0m\n\u001b[0;32m   1065\u001b[0m         \u001b[0munfit_mgr_locs\u001b[0m \u001b[1;33m=\u001b[0m \u001b[1;33m[\u001b[0m\u001b[1;33m]\u001b[0m\u001b[1;33m\u001b[0m\u001b[1;33m\u001b[0m\u001b[0m\n",
      "\u001b[1;31mKeyboardInterrupt\u001b[0m: "
     ]
    }
   ],
   "source": []
  },
  {
   "cell_type": "code",
   "execution_count": 33,
   "metadata": {},
   "outputs": [
    {
     "data": {
      "text/html": [
       "<div>\n",
       "<style scoped>\n",
       "    .dataframe tbody tr th:only-of-type {\n",
       "        vertical-align: middle;\n",
       "    }\n",
       "\n",
       "    .dataframe tbody tr th {\n",
       "        vertical-align: top;\n",
       "    }\n",
       "\n",
       "    .dataframe thead th {\n",
       "        text-align: right;\n",
       "    }\n",
       "</style>\n",
       "<table border=\"1\" class=\"dataframe\">\n",
       "  <thead>\n",
       "    <tr style=\"text-align: right;\">\n",
       "      <th></th>\n",
       "      <th>business_id</th>\n",
       "      <th>label</th>\n",
       "      <th>photo_id</th>\n",
       "    </tr>\n",
       "  </thead>\n",
       "  <tbody>\n",
       "    <tr>\n",
       "      <th>143173</th>\n",
       "      <td>Vm9yvFpok8hZpSK8PDMLqw</td>\n",
       "      <td>drink</td>\n",
       "      <td>ph_143173</td>\n",
       "    </tr>\n",
       "    <tr>\n",
       "      <th>191346</th>\n",
       "      <td>ghKfhpVZkDbvaAq68039wg</td>\n",
       "      <td>drink</td>\n",
       "      <td>ph_191346</td>\n",
       "    </tr>\n",
       "    <tr>\n",
       "      <th>7498</th>\n",
       "      <td>NlymcSxDnjtCLyGvmMoyFg</td>\n",
       "      <td>outside</td>\n",
       "      <td>ph_7498</td>\n",
       "    </tr>\n",
       "    <tr>\n",
       "      <th>118216</th>\n",
       "      <td>Q1dRbSP425_w1B7KGqj5sw</td>\n",
       "      <td>food</td>\n",
       "      <td>ph_118216</td>\n",
       "    </tr>\n",
       "    <tr>\n",
       "      <th>14750</th>\n",
       "      <td>EM4Qo0Tm40H8Nfk3s8Dy0g</td>\n",
       "      <td>food</td>\n",
       "      <td>ph_14750</td>\n",
       "    </tr>\n",
       "    <tr>\n",
       "      <th>187031</th>\n",
       "      <td>orMyWvonOj55yswWf-k72Q</td>\n",
       "      <td>menu</td>\n",
       "      <td>ph_187031</td>\n",
       "    </tr>\n",
       "  </tbody>\n",
       "</table>\n",
       "</div>"
      ],
      "text/plain": [
       "                   business_id    label   photo_id\n",
       "143173  Vm9yvFpok8hZpSK8PDMLqw    drink  ph_143173\n",
       "191346  ghKfhpVZkDbvaAq68039wg    drink  ph_191346\n",
       "7498    NlymcSxDnjtCLyGvmMoyFg  outside    ph_7498\n",
       "118216  Q1dRbSP425_w1B7KGqj5sw     food  ph_118216\n",
       "14750   EM4Qo0Tm40H8Nfk3s8Dy0g     food   ph_14750\n",
       "187031  orMyWvonOj55yswWf-k72Q     menu  ph_187031"
      ]
     },
     "execution_count": 33,
     "metadata": {},
     "output_type": "execute_result"
    }
   ],
   "source": [
    "df_photos.sample(6)"
   ]
  },
  {
   "cell_type": "code",
   "execution_count": 31,
   "metadata": {},
   "outputs": [
    {
     "data": {
      "text/plain": [
       "array(['inside', 'food', 'outside', 'drink', 'menu'], dtype=object)"
      ]
     },
     "execution_count": 31,
     "metadata": {},
     "output_type": "execute_result"
    }
   ],
   "source": [
    "df_photos.label.unique()"
   ]
  },
  {
   "cell_type": "code",
   "execution_count": 32,
   "metadata": {},
   "outputs": [],
   "source": [
    "df_photos['photo_id'] = ['ph_'+ str(i) for i in range (df_photos.shape[0])]"
   ]
  },
  {
   "cell_type": "code",
   "execution_count": 34,
   "metadata": {},
   "outputs": [],
   "source": [
    "df_photos.to_csv('data_clean/photo.csv',index=False)"
   ]
  },
  {
   "cell_type": "code",
   "execution_count": null,
   "metadata": {},
   "outputs": [],
   "source": []
  },
  {
   "cell_type": "code",
   "execution_count": 36,
   "metadata": {},
   "outputs": [],
   "source": [
    "df_user = pd.read_csv('data_clean/user_small.csv')"
   ]
  },
  {
   "cell_type": "code",
   "execution_count": null,
   "metadata": {},
   "outputs": [],
   "source": []
  },
  {
   "cell_type": "code",
   "execution_count": null,
   "metadata": {},
   "outputs": [],
   "source": []
  },
  {
   "cell_type": "code",
   "execution_count": null,
   "metadata": {},
   "outputs": [],
   "source": []
  },
  {
   "cell_type": "code",
   "execution_count": null,
   "metadata": {},
   "outputs": [],
   "source": []
  }
 ],
 "metadata": {
  "kernelspec": {
   "display_name": "Python 3",
   "language": "python",
   "name": "python3"
  },
  "language_info": {
   "codemirror_mode": {
    "name": "ipython",
    "version": 3
   },
   "file_extension": ".py",
   "mimetype": "text/x-python",
   "name": "python",
   "nbconvert_exporter": "python",
   "pygments_lexer": "ipython3",
   "version": "3.7.7"
  },
  "toc": {
   "base_numbering": 1,
   "nav_menu": {},
   "number_sections": true,
   "sideBar": true,
   "skip_h1_title": false,
   "title_cell": "Table of Contents",
   "title_sidebar": "Contents",
   "toc_cell": false,
   "toc_position": {},
   "toc_section_display": true,
   "toc_window_display": false
  },
  "varInspector": {
   "cols": {
    "lenName": 16,
    "lenType": 16,
    "lenVar": 40
   },
   "kernels_config": {
    "python": {
     "delete_cmd_postfix": "",
     "delete_cmd_prefix": "del ",
     "library": "var_list.py",
     "varRefreshCmd": "print(var_dic_list())"
    },
    "r": {
     "delete_cmd_postfix": ") ",
     "delete_cmd_prefix": "rm(",
     "library": "var_list.r",
     "varRefreshCmd": "cat(var_dic_list()) "
    }
   },
   "types_to_exclude": [
    "module",
    "function",
    "builtin_function_or_method",
    "instance",
    "_Feature"
   ],
   "window_display": false
  }
 },
 "nbformat": 4,
 "nbformat_minor": 4
}
